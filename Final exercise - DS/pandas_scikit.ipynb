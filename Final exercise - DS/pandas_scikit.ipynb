{
 "cells": [
  {
   "cell_type": "markdown",
   "metadata": {},
   "source": [
    "# dates"
   ]
  },
  {
   "cell_type": "markdown",
   "metadata": {},
   "source": [
    "this is how you create dates, and working with them:"
   ]
  },
  {
   "cell_type": "code",
   "execution_count": 18,
   "metadata": {
    "collapsed": false
   },
   "outputs": [
    {
     "name": "stdout",
     "output_type": "stream",
     "text": [
      "2016-07-30 17:15:23\n"
     ]
    }
   ],
   "source": [
    "import datetime\n",
    "\n",
    "t1 = datetime.datetime(2016, 7, 30, 17, 15, 23)\n",
    "print t1"
   ]
  },
  {
   "cell_type": "code",
   "execution_count": 20,
   "metadata": {
    "collapsed": false
   },
   "outputs": [
    {
     "name": "stdout",
     "output_type": "stream",
     "text": [
      "day: 30\n",
      "hour: 17\n",
      "year: 2016\n",
      "minute: 15\n",
      "month: 7\n",
      "second: 23\n"
     ]
    }
   ],
   "source": [
    "# you can access different parts of the datetime object conveniently:\n",
    "print \"day: {0}\".format(t1.day)\n",
    "print \"hour: {0}\".format(t1.hour)\n",
    "print \"year: {0}\".format(t1.year)\n",
    "print \"minute: {0}\".format(t1.minute)\n",
    "print \"month: {0}\".format(t1.month)\n",
    "print \"second: {0}\".format(t1.second)"
   ]
  },
  {
   "cell_type": "code",
   "execution_count": 6,
   "metadata": {
    "collapsed": false
   },
   "outputs": [
    {
     "name": "stdout",
     "output_type": "stream",
     "text": [
      "1 day, 0:02:03\n"
     ]
    }
   ],
   "source": [
    "import datetime\n",
    "t1 = datetime.datetime(2016, 3, 28, 17, 15, 23)\n",
    "t2 = datetime.datetime(2016, 3, 27, 17, 13, 20)\n",
    "# time difference between t1 and t2 is 1 day, 2 minutes and 3 seconds\n",
    "delta = t1-t2\n",
    "\n",
    "# delta is a special object that saves time differences\n",
    "print delta"
   ]
  },
  {
   "cell_type": "code",
   "execution_count": 9,
   "metadata": {
    "collapsed": false
   },
   "outputs": [
    {
     "name": "stdout",
     "output_type": "stream",
     "text": [
      "1\n",
      "123\n",
      "86523.0\n",
      "True\n"
     ]
    }
   ],
   "source": [
    "# we can access several attributes of it:\n",
    "print delta.days\n",
    "print delta.seconds\n",
    "print delta.total_seconds()\n",
    "\n",
    "# put attention that total_seconds() == days*(60*60*24) + seconds\n",
    "print (delta.total_seconds()) == (delta.days*(24*60*60) + delta.seconds)\n"
   ]
  },
  {
   "cell_type": "code",
   "execution_count": 12,
   "metadata": {
    "collapsed": false
   },
   "outputs": [
    {
     "name": "stdout",
     "output_type": "stream",
     "text": [
      "1 day, 4:05:23\n"
     ]
    }
   ],
   "source": [
    "# here is how you create a time delta by yourself:\n",
    "delta = datetime.timedelta(days = 1, seconds = 23, hours = 4, minutes = 5)\n",
    "print delta"
   ]
  },
  {
   "cell_type": "code",
   "execution_count": 14,
   "metadata": {
    "collapsed": false
   },
   "outputs": [
    {
     "name": "stdout",
     "output_type": "stream",
     "text": [
      "2016-03-20 18:27:05\n"
     ]
    }
   ],
   "source": [
    "# you can add (or subtract) a time_delta to a date to get another date:\n",
    "t1 = datetime.datetime(2016, 3, 17, 15, 23, 0)\n",
    "delta = datetime.timedelta(days = 3, hours = 3, minutes = 4, seconds = 5)\n",
    "t2 = t1 + delta\n",
    "print t2"
   ]
  },
  {
   "cell_type": "code",
   "execution_count": 15,
   "metadata": {
    "collapsed": true
   },
   "outputs": [],
   "source": [
    "# another issue with datetimes is how to parse a string to this object, let's have a look:"
   ]
  },
  {
   "cell_type": "code",
   "execution_count": 25,
   "metadata": {
    "collapsed": false
   },
   "outputs": [
    {
     "name": "stdout",
     "output_type": "stream",
     "text": [
      "2019-05-23 18:45:00\n"
     ]
    }
   ],
   "source": [
    "date_str = \"23/05/2019 18:45\"\n",
    "# first we need to tell the date-time object what is the format of the string_str (what part of it is minutes, hours and etc..):\n",
    "format_str = \"%d/%m/%Y %H:%M\"\n",
    "parsed_date = datetime.datetime.strptime(date_str, format_str)\n",
    "\n",
    "print parsed_date\n",
    "\n"
   ]
  },
  {
   "cell_type": "code",
   "execution_count": 33,
   "metadata": {
    "collapsed": false
   },
   "outputs": [
    {
     "name": "stdout",
     "output_type": "stream",
     "text": [
      "1994-05-23 18:23:12\n"
     ]
    }
   ],
   "source": [
    "# another try:\n",
    "date_str = \"05-23-94 18:23:12\"\n",
    "format_str = \"%m-%d-%y %H:%M:%S\"\n",
    "parsed_date = datetime.datetime.strptime(date_str, format_str)\n",
    "print parsed_date"
   ]
  },
  {
   "cell_type": "markdown",
   "metadata": {},
   "source": [
    "# matplotlib"
   ]
  },
  {
   "cell_type": "markdown",
   "metadata": {},
   "source": [
    "this is a very very short introduction to how plotting graphs in matplotlib"
   ]
  },
  {
   "cell_type": "code",
   "execution_count": 38,
   "metadata": {
    "collapsed": false
   },
   "outputs": [],
   "source": [
    "# first import matplotlib:\n",
    "import matplotlib.pyplot as plt\n",
    "# create x and y that we will plot with:\n",
    "x = range(-9,10)\n",
    "y = [val*val for val in x]\n",
    "\n",
    "# create an empty figure to plot on:\n",
    "plt.figure()\n",
    "plt.plot(x, y)\n",
    "plt.show()"
   ]
  },
  {
   "cell_type": "code",
   "execution_count": 43,
   "metadata": {
    "collapsed": false
   },
   "outputs": [
    {
     "data": {
      "image/png": "[encoded data removed]",
      "text/plain": [
       "<matplotlib.figure.Figure at 0x9dbb790>"
      ]
     },
     "metadata": {},
     "output_type": "display_data"
    }
   ],
   "source": [
    "# now, lets enrich the graph a little bit:\n",
    "# first import matplotlib:\n",
    "import math\n",
    "import matplotlib.pyplot as plt\n",
    "%matplotlib inline   \n",
    "# draw plots inline notebook\n",
    "\n",
    "# create x and y that we will plot with:\n",
    "x = range(1,10)\n",
    "y1 = [val*val for val in x]\n",
    "y2 = x\n",
    "y3 = [math.log(val) for val in x]\n",
    "\n",
    "# create an empty figure to plot on:\n",
    "fig = plt.figure()\n",
    "fig.suptitle('functions plots', fontsize=20)\n",
    "plt.plot(x, y1, label=\"parabola\", color='red', linewidth=3)\n",
    "plt.plot(x, y2, label=\"linear\", color='green', linewidth=2)\n",
    "plt.plot(x, y3, label='log', color='blue', linewidth=1)\n",
    "plt.xlabel('x axis')\n",
    "plt.ylabel('y axis')\n",
    "plt.legend(bbox_to_anchor=(1.05, 1), loc=2, borderaxespad=0.)\n",
    "plt.show()"
   ]
  },
  {
   "cell_type": "markdown",
   "metadata": {},
   "source": [
    "# pandas"
   ]
  },
  {
   "cell_type": "markdown",
   "metadata": {},
   "source": [
    "# # creating data frames:"
   ]
  },
  {
   "cell_type": "markdown",
   "metadata": {},
   "source": [
    "pandas is a very convenient library to handles with tables. lets learn how to work with it.\n",
    "the table data structure in spark is called dateframe. there are 2 common ways to create dataframe by yourself:\n"
   ]
  },
  {
   "cell_type": "code",
   "execution_count": 46,
   "metadata": {
    "collapsed": false
   },
   "outputs": [
    {
     "name": "stdout",
     "output_type": "stream",
     "text": [
      "   age degrees   name\n",
      "0   25     msc   yoav\n",
      "1   30     bsc  lital\n",
      "2   46     phd  yaniv\n"
     ]
    }
   ],
   "source": [
    "import pandas as pd\n",
    "names = ['yoav', 'lital', 'yaniv']\n",
    "ages = [25, 30, 46]\n",
    "degrees= ['msc' , 'bsc', 'phd']\n",
    "\n",
    "df = pd.DataFrame({\"name\":names, \"age\":ages, \"degrees\":degrees})\n",
    "print df"
   ]
  },
  {
   "cell_type": "markdown",
   "metadata": {},
   "source": [
    "put attention to the left column added. it is the index of the data frame and it holds the keys for accessing the rows in\n",
    "the dataframe. it is recomended to create a customary index for each dataframe. you can change the index in the following way:"
   ]
  },
  {
   "cell_type": "code",
   "execution_count": 62,
   "metadata": {
    "collapsed": false
   },
   "outputs": [
    {
     "data": {
      "text/html": [
       "<div style=\"max-height:1000px;max-width:1500px;overflow:auto;\">\n",
       "<table border=\"1\" class=\"dataframe\">\n",
       "  <thead>\n",
       "    <tr style=\"text-align: right;\">\n",
       "      <th></th>\n",
       "      <th>age</th>\n",
       "      <th>degrees</th>\n",
       "      <th>name</th>\n",
       "    </tr>\n",
       "  </thead>\n",
       "  <tbody>\n",
       "    <tr>\n",
       "      <th>a</th>\n",
       "      <td> 25</td>\n",
       "      <td> msc</td>\n",
       "      <td>  yoav</td>\n",
       "    </tr>\n",
       "    <tr>\n",
       "      <th>b</th>\n",
       "      <td> 30</td>\n",
       "      <td> bsc</td>\n",
       "      <td> lital</td>\n",
       "    </tr>\n",
       "    <tr>\n",
       "      <th>c</th>\n",
       "      <td> 46</td>\n",
       "      <td> phd</td>\n",
       "      <td> yaniv</td>\n",
       "    </tr>\n",
       "  </tbody>\n",
       "</table>\n",
       "</div>"
      ],
      "text/plain": [
       "   age degrees   name\n",
       "a   25     msc   yoav\n",
       "b   30     bsc  lital\n",
       "c   46     phd  yaniv"
      ]
     },
     "execution_count": 62,
     "metadata": {},
     "output_type": "execute_result"
    }
   ],
   "source": [
    "df.index = ['a', 'b', 'c']\n",
    "df"
   ]
  },
  {
   "cell_type": "markdown",
   "metadata": {},
   "source": [
    "or by declaring it while it is created:"
   ]
  },
  {
   "cell_type": "code",
   "execution_count": 61,
   "metadata": {
    "collapsed": false
   },
   "outputs": [
    {
     "data": {
      "text/html": [
       "<div style=\"max-height:1000px;max-width:1500px;overflow:auto;\">\n",
       "<table border=\"1\" class=\"dataframe\">\n",
       "  <thead>\n",
       "    <tr style=\"text-align: right;\">\n",
       "      <th></th>\n",
       "      <th>age</th>\n",
       "      <th>degrees</th>\n",
       "      <th>name</th>\n",
       "    </tr>\n",
       "  </thead>\n",
       "  <tbody>\n",
       "    <tr>\n",
       "      <th>a</th>\n",
       "      <td> 25</td>\n",
       "      <td> msc</td>\n",
       "      <td>  yoav</td>\n",
       "    </tr>\n",
       "    <tr>\n",
       "      <th>b</th>\n",
       "      <td> 30</td>\n",
       "      <td> bsc</td>\n",
       "      <td> lital</td>\n",
       "    </tr>\n",
       "    <tr>\n",
       "      <th>c</th>\n",
       "      <td> 46</td>\n",
       "      <td> phd</td>\n",
       "      <td> yaniv</td>\n",
       "    </tr>\n",
       "  </tbody>\n",
       "</table>\n",
       "</div>"
      ],
      "text/plain": [
       "   age degrees   name\n",
       "a   25     msc   yoav\n",
       "b   30     bsc  lital\n",
       "c   46     phd  yaniv"
      ]
     },
     "execution_count": 61,
     "metadata": {},
     "output_type": "execute_result"
    }
   ],
   "source": [
    "import pandas as pd\n",
    "names = ['yoav', 'lital', 'yaniv']\n",
    "ages = [25, 30, 46]\n",
    "degrees= ['msc' , 'bsc', 'phd']\n",
    "\n",
    "df = pd.DataFrame({\"name\":names, \"age\":ages, \"degrees\":degrees}, index = ['a', 'b', 'c'])\n",
    "df"
   ]
  },
  {
   "cell_type": "code",
   "execution_count": 60,
   "metadata": {
    "collapsed": false
   },
   "outputs": [
    {
     "data": {
      "text/html": [
       "<div style=\"max-height:1000px;max-width:1500px;overflow:auto;\">\n",
       "<table border=\"1\" class=\"dataframe\">\n",
       "  <thead>\n",
       "    <tr style=\"text-align: right;\">\n",
       "      <th></th>\n",
       "      <th>age</th>\n",
       "      <th>degree</th>\n",
       "      <th>name</th>\n",
       "    </tr>\n",
       "  </thead>\n",
       "  <tbody>\n",
       "    <tr>\n",
       "      <th>a</th>\n",
       "      <td> 25</td>\n",
       "      <td> msc</td>\n",
       "      <td>  yoav</td>\n",
       "    </tr>\n",
       "    <tr>\n",
       "      <th>b</th>\n",
       "      <td> 30</td>\n",
       "      <td> bsc</td>\n",
       "      <td> lital</td>\n",
       "    </tr>\n",
       "    <tr>\n",
       "      <th>c</th>\n",
       "      <td> 46</td>\n",
       "      <td> phd</td>\n",
       "      <td> yaniv</td>\n",
       "    </tr>\n",
       "  </tbody>\n",
       "</table>\n",
       "</div>"
      ],
      "text/plain": [
       "   age degree   name\n",
       "a   25    msc   yoav\n",
       "b   30    bsc  lital\n",
       "c   46    phd  yaniv"
      ]
     },
     "execution_count": 60,
     "metadata": {},
     "output_type": "execute_result"
    }
   ],
   "source": [
    "#o.k, so we saw one way to create dataframes: dictionary of lists (each list is a column of the dataframe).\n",
    "#another way is by list of dictionary, while each dictionary represents a row in the dataframe:\n",
    "\n",
    "row1 = {\"name\": 'yoav', \"age\": 25, 'degree': 'msc'}\n",
    "row2 = {\"name\": 'lital', 'age': 30, 'degree': 'bsc'}\n",
    "row3 = {'name': 'yaniv', 'age': 46, 'degree': 'phd'}\n",
    "\n",
    "df = pd.DataFrame([row1, row2, row3], index = ['a', 'b', 'c'])\n",
    "df"
   ]
  },
  {
   "cell_type": "code",
   "execution_count": null,
   "metadata": {
    "collapsed": true
   },
   "outputs": [],
   "source": [
    "# very important tasks are to read from csv and write to csv, this is easily done by the following orders:\n",
    "# df.to_csv(\"output_path\")\n",
    "# df = pd.read_csv(\"inupt_path\")"
   ]
  },
  {
   "cell_type": "markdown",
   "metadata": {},
   "source": [
    "# # accessing data frames:"
   ]
  },
  {
   "cell_type": "markdown",
   "metadata": {},
   "source": [
    "pandas provides very convenient ways to access its elements.\n"
   ]
  },
  {
   "cell_type": "markdown",
   "metadata": {},
   "source": [
    "access columns by its name:"
   ]
  },
  {
   "cell_type": "code",
   "execution_count": 63,
   "metadata": {
    "collapsed": false
   },
   "outputs": [
    {
     "data": {
      "text/plain": [
       "a     yoav\n",
       "b    lital\n",
       "c    yaniv\n",
       "Name: name, dtype: object"
      ]
     },
     "execution_count": 63,
     "metadata": {},
     "output_type": "execute_result"
    }
   ],
   "source": [
    "df['name']"
   ]
  },
  {
   "cell_type": "markdown",
   "metadata": {},
   "source": [
    "put attention that the columns datatime is 'series' which internally implemented based on numpy arrays.\n",
    "in order to work with is as a list you should do a conversion:"
   ]
  },
  {
   "cell_type": "code",
   "execution_count": 53,
   "metadata": {
    "collapsed": false
   },
   "outputs": [
    {
     "name": "stdout",
     "output_type": "stream",
     "text": [
      "<class 'pandas.core.series.Series'>\n",
      "<type 'numpy.ndarray'>\n",
      "<type 'list'>\n"
     ]
    }
   ],
   "source": [
    "print type(df['name'])\n",
    "print type(df['name'].values)\n",
    "print type(list(df['name']))"
   ]
  },
  {
   "cell_type": "markdown",
   "metadata": {},
   "source": [
    "and what about accessing by rows?\n",
    "you can access by the index of the row in the following way:"
   ]
  },
  {
   "cell_type": "code",
   "execution_count": 64,
   "metadata": {
    "collapsed": false
   },
   "outputs": [
    {
     "data": {
      "text/plain": [
       "age           30\n",
       "degrees      bsc\n",
       "name       lital\n",
       "Name: b, dtype: object"
      ]
     },
     "execution_count": 64,
     "metadata": {},
     "output_type": "execute_result"
    }
   ],
   "source": [
    "df.loc['b']"
   ]
  },
  {
   "cell_type": "code",
   "execution_count": 65,
   "metadata": {
    "collapsed": false
   },
   "outputs": [
    {
     "data": {
      "text/plain": [
       "30"
      ]
     },
     "execution_count": 65,
     "metadata": {},
     "output_type": "execute_result"
    }
   ],
   "source": [
    "df.loc['b']['age']"
   ]
  },
  {
   "cell_type": "code",
   "execution_count": 57,
   "metadata": {
    "collapsed": true
   },
   "outputs": [],
   "source": [
    "# or by accessing the i'th element in the df:"
   ]
  },
  {
   "cell_type": "code",
   "execution_count": 66,
   "metadata": {
    "collapsed": false
   },
   "outputs": [
    {
     "data": {
      "text/plain": [
       "age          25\n",
       "degrees     msc\n",
       "name       yoav\n",
       "Name: a, dtype: object"
      ]
     },
     "execution_count": 66,
     "metadata": {},
     "output_type": "execute_result"
    }
   ],
   "source": [
    "df.iloc[0]\n"
   ]
  },
  {
   "cell_type": "markdown",
   "metadata": {},
   "source": [
    "there is a very convenient boolean indexing too:"
   ]
  },
  {
   "cell_type": "code",
   "execution_count": 67,
   "metadata": {
    "collapsed": false
   },
   "outputs": [
    {
     "data": {
      "text/html": [
       "<div style=\"max-height:1000px;max-width:1500px;overflow:auto;\">\n",
       "<table border=\"1\" class=\"dataframe\">\n",
       "  <thead>\n",
       "    <tr style=\"text-align: right;\">\n",
       "      <th></th>\n",
       "      <th>age</th>\n",
       "      <th>degrees</th>\n",
       "      <th>name</th>\n",
       "    </tr>\n",
       "  </thead>\n",
       "  <tbody>\n",
       "    <tr>\n",
       "      <th>a</th>\n",
       "      <td> 25</td>\n",
       "      <td> msc</td>\n",
       "      <td>  yoav</td>\n",
       "    </tr>\n",
       "    <tr>\n",
       "      <th>c</th>\n",
       "      <td> 46</td>\n",
       "      <td> phd</td>\n",
       "      <td> yaniv</td>\n",
       "    </tr>\n",
       "  </tbody>\n",
       "</table>\n",
       "</div>"
      ],
      "text/plain": [
       "   age degrees   name\n",
       "a   25     msc   yoav\n",
       "c   46     phd  yaniv"
      ]
     },
     "execution_count": 67,
     "metadata": {},
     "output_type": "execute_result"
    }
   ],
   "source": [
    "bool_arr = [True, False, True]\n",
    "df[bool_arr]"
   ]
  },
  {
   "cell_type": "markdown",
   "metadata": {},
   "source": [
    "this can be used in order to select rows by boolean conditions on their values:"
   ]
  },
  {
   "cell_type": "code",
   "execution_count": 68,
   "metadata": {
    "collapsed": false
   },
   "outputs": [
    {
     "data": {
      "text/html": [
       "<div style=\"max-height:1000px;max-width:1500px;overflow:auto;\">\n",
       "<table border=\"1\" class=\"dataframe\">\n",
       "  <thead>\n",
       "    <tr style=\"text-align: right;\">\n",
       "      <th></th>\n",
       "      <th>age</th>\n",
       "      <th>degrees</th>\n",
       "      <th>name</th>\n",
       "    </tr>\n",
       "  </thead>\n",
       "  <tbody>\n",
       "    <tr>\n",
       "      <th>a</th>\n",
       "      <td> 25</td>\n",
       "      <td> msc</td>\n",
       "      <td>  yoav</td>\n",
       "    </tr>\n",
       "    <tr>\n",
       "      <th>b</th>\n",
       "      <td> 30</td>\n",
       "      <td> bsc</td>\n",
       "      <td> lital</td>\n",
       "    </tr>\n",
       "  </tbody>\n",
       "</table>\n",
       "</div>"
      ],
      "text/plain": [
       "   age degrees   name\n",
       "a   25     msc   yoav\n",
       "b   30     bsc  lital"
      ]
     },
     "execution_count": 68,
     "metadata": {},
     "output_type": "execute_result"
    }
   ],
   "source": [
    "filtered_df = df[df['age'] < 40]\n",
    "filtered_df"
   ]
  },
  {
   "cell_type": "markdown",
   "metadata": {},
   "source": [
    "and it could be done with multiple conditions too:"
   ]
  },
  {
   "cell_type": "code",
   "execution_count": 81,
   "metadata": {
    "collapsed": false
   },
   "outputs": [
    {
     "data": {
      "text/html": [
       "<div style=\"max-height:1000px;max-width:1500px;overflow:auto;\">\n",
       "<table border=\"1\" class=\"dataframe\">\n",
       "  <thead>\n",
       "    <tr style=\"text-align: right;\">\n",
       "      <th></th>\n",
       "      <th>age</th>\n",
       "      <th>degrees</th>\n",
       "      <th>name</th>\n",
       "    </tr>\n",
       "  </thead>\n",
       "  <tbody>\n",
       "    <tr>\n",
       "      <th>a</th>\n",
       "      <td> 25</td>\n",
       "      <td> msc</td>\n",
       "      <td> yoav</td>\n",
       "    </tr>\n",
       "  </tbody>\n",
       "</table>\n",
       "</div>"
      ],
      "text/plain": [
       "   age degrees  name\n",
       "a   25     msc  yoav"
      ]
     },
     "execution_count": 81,
     "metadata": {},
     "output_type": "execute_result"
    }
   ],
   "source": [
    "filtered_df = df[(df['age'] < 40) & (df['degrees'].isin(['msc', 'phd']))]\n",
    "filtered_df"
   ]
  },
  {
   "cell_type": "markdown",
   "metadata": {},
   "source": [
    "you can access the columns names of the dataframe and its index simply by:"
   ]
  },
  {
   "cell_type": "code",
   "execution_count": 83,
   "metadata": {
    "collapsed": false
   },
   "outputs": [
    {
     "name": "stdout",
     "output_type": "stream",
     "text": [
      "df_columns: Index([u'age', u'degrees', u'name'], dtype='object')\n",
      "df_index: Index([u'a'], dtype='object')\n"
     ]
    }
   ],
   "source": [
    "print \"df_columns: {0}\".format(filtered_df.columns)\n",
    "print \"df_index: {0}\".format(filtered_df.index)"
   ]
  },
  {
   "cell_type": "markdown",
   "metadata": {},
   "source": [
    "# changing data frame (add content, remove content, joins)"
   ]
  },
  {
   "cell_type": "markdown",
   "metadata": {},
   "source": [
    "adding column to a dataframe is easy:"
   ]
  },
  {
   "cell_type": "code",
   "execution_count": 86,
   "metadata": {
    "collapsed": false
   },
   "outputs": [
    {
     "data": {
      "text/html": [
       "<div style=\"max-height:1000px;max-width:1500px;overflow:auto;\">\n",
       "<table border=\"1\" class=\"dataframe\">\n",
       "  <thead>\n",
       "    <tr style=\"text-align: right;\">\n",
       "      <th></th>\n",
       "      <th>age</th>\n",
       "      <th>degrees</th>\n",
       "      <th>name</th>\n",
       "      <th>salary</th>\n",
       "    </tr>\n",
       "  </thead>\n",
       "  <tbody>\n",
       "    <tr>\n",
       "      <th>a</th>\n",
       "      <td> 25</td>\n",
       "      <td> msc</td>\n",
       "      <td>  yoav</td>\n",
       "      <td> 100</td>\n",
       "    </tr>\n",
       "    <tr>\n",
       "      <th>b</th>\n",
       "      <td> 30</td>\n",
       "      <td> bsc</td>\n",
       "      <td> lital</td>\n",
       "      <td> 200</td>\n",
       "    </tr>\n",
       "    <tr>\n",
       "      <th>c</th>\n",
       "      <td> 46</td>\n",
       "      <td> phd</td>\n",
       "      <td> yaniv</td>\n",
       "      <td> 300</td>\n",
       "    </tr>\n",
       "  </tbody>\n",
       "</table>\n",
       "</div>"
      ],
      "text/plain": [
       "   age degrees   name  salary\n",
       "a   25     msc   yoav     100\n",
       "b   30     bsc  lital     200\n",
       "c   46     phd  yaniv     300"
      ]
     },
     "execution_count": 86,
     "metadata": {},
     "output_type": "execute_result"
    }
   ],
   "source": [
    "df['salary'] = [100,200,300]\n",
    "df"
   ]
  },
  {
   "cell_type": "markdown",
   "metadata": {},
   "source": [
    "if you know the mapping between salary and index of the df it is recomended to add columns add a series:"
   ]
  },
  {
   "cell_type": "code",
   "execution_count": 91,
   "metadata": {
    "collapsed": false
   },
   "outputs": [
    {
     "data": {
      "text/html": [
       "<div style=\"max-height:1000px;max-width:1500px;overflow:auto;\">\n",
       "<table border=\"1\" class=\"dataframe\">\n",
       "  <thead>\n",
       "    <tr style=\"text-align: right;\">\n",
       "      <th></th>\n",
       "      <th>age</th>\n",
       "      <th>degrees</th>\n",
       "      <th>name</th>\n",
       "      <th>salary</th>\n",
       "    </tr>\n",
       "  </thead>\n",
       "  <tbody>\n",
       "    <tr>\n",
       "      <th>a</th>\n",
       "      <td> 25</td>\n",
       "      <td> msc</td>\n",
       "      <td>  yoav</td>\n",
       "      <td> 100</td>\n",
       "    </tr>\n",
       "    <tr>\n",
       "      <th>b</th>\n",
       "      <td> 30</td>\n",
       "      <td> bsc</td>\n",
       "      <td> lital</td>\n",
       "      <td> 200</td>\n",
       "    </tr>\n",
       "    <tr>\n",
       "      <th>c</th>\n",
       "      <td> 46</td>\n",
       "      <td> phd</td>\n",
       "      <td> yaniv</td>\n",
       "      <td> 300</td>\n",
       "    </tr>\n",
       "  </tbody>\n",
       "</table>\n",
       "</div>"
      ],
      "text/plain": [
       "   age degrees   name  salary\n",
       "a   25     msc   yoav     100\n",
       "b   30     bsc  lital     200\n",
       "c   46     phd  yaniv     300"
      ]
     },
     "execution_count": 91,
     "metadata": {},
     "output_type": "execute_result"
    }
   ],
   "source": [
    "df['salary'] = pd.Series([200, 100, 300], index=['b', 'a', 'c'])\n",
    "df"
   ]
  },
  {
   "cell_type": "markdown",
   "metadata": {},
   "source": [
    "you can make arithmetic operation between dataframe columns:"
   ]
  },
  {
   "cell_type": "code",
   "execution_count": 92,
   "metadata": {
    "collapsed": false
   },
   "outputs": [
    {
     "name": "stdout",
     "output_type": "stream",
     "text": [
      "a    125\n",
      "b    230\n",
      "c    346\n",
      "dtype: int64\n"
     ]
    }
   ],
   "source": [
    "print df['salary'] + df['age']"
   ]
  },
  {
   "cell_type": "markdown",
   "metadata": {},
   "source": [
    "removing a columns is just as easy:"
   ]
  },
  {
   "cell_type": "code",
   "execution_count": 93,
   "metadata": {
    "collapsed": false
   },
   "outputs": [
    {
     "data": {
      "text/html": [
       "<div style=\"max-height:1000px;max-width:1500px;overflow:auto;\">\n",
       "<table border=\"1\" class=\"dataframe\">\n",
       "  <thead>\n",
       "    <tr style=\"text-align: right;\">\n",
       "      <th></th>\n",
       "      <th>age</th>\n",
       "      <th>degrees</th>\n",
       "      <th>name</th>\n",
       "    </tr>\n",
       "  </thead>\n",
       "  <tbody>\n",
       "    <tr>\n",
       "      <th>a</th>\n",
       "      <td> 25</td>\n",
       "      <td> msc</td>\n",
       "      <td>  yoav</td>\n",
       "    </tr>\n",
       "    <tr>\n",
       "      <th>b</th>\n",
       "      <td> 30</td>\n",
       "      <td> bsc</td>\n",
       "      <td> lital</td>\n",
       "    </tr>\n",
       "    <tr>\n",
       "      <th>c</th>\n",
       "      <td> 46</td>\n",
       "      <td> phd</td>\n",
       "      <td> yaniv</td>\n",
       "    </tr>\n",
       "  </tbody>\n",
       "</table>\n",
       "</div>"
      ],
      "text/plain": [
       "   age degrees   name\n",
       "a   25     msc   yoav\n",
       "b   30     bsc  lital\n",
       "c   46     phd  yaniv"
      ]
     },
     "execution_count": 93,
     "metadata": {},
     "output_type": "execute_result"
    }
   ],
   "source": [
    "del df['salary']\n",
    "df"
   ]
  },
  {
   "cell_type": "markdown",
   "metadata": {},
   "source": [
    "arithmetic with data frame columns is easy:"
   ]
  },
  {
   "cell_type": "code",
   "execution_count": 94,
   "metadata": {
    "collapsed": false
   },
   "outputs": [
    {
     "name": "stdout",
     "output_type": "stream",
     "text": [
      "a    30\n",
      "b    35\n",
      "c    51\n",
      "Name: age, dtype: int64\n"
     ]
    }
   ],
   "source": [
    "print df['age']+5"
   ]
  },
  {
   "cell_type": "markdown",
   "metadata": {},
   "source": [
    "how to make a union between several dataframes?"
   ]
  },
  {
   "cell_type": "code",
   "execution_count": 105,
   "metadata": {
    "collapsed": false
   },
   "outputs": [
    {
     "name": "stdout",
     "output_type": "stream",
     "text": [
      "df1:\r\n",
      "\n",
      "   age degrees   name\n",
      "a   25     msc   yoav\n",
      "b   30     bsc  lital\n",
      "\r\n",
      "df2:\r\n",
      "\n",
      "   age degrees   name\n",
      "c   46     phd  yaniv\n",
      "\r\n",
      "concatenation:\r\n",
      "\n",
      "   age degrees   name\n",
      "a   25     msc   yoav\n",
      "b   30     bsc  lital\n",
      "c   46     phd  yaniv\n"
     ]
    }
   ],
   "source": [
    "df1 = df.loc[['a','b']]\n",
    "df2 = pd.DataFrame(dict(df.loc['c']), index= ['c'])\n",
    "print \"df1:\\r\\n\"\n",
    "print df1\n",
    "print \"\\r\\ndf2:\\r\\n\"\n",
    "print df2\n",
    "print \"\\r\\nconcatenation:\\r\\n\"\n",
    "print pd.concat([df1,df2])"
   ]
  },
  {
   "cell_type": "markdown",
   "metadata": {},
   "source": [
    "and here is how we join between several dataframes:"
   ]
  },
  {
   "cell_type": "code",
   "execution_count": 106,
   "metadata": {
    "collapsed": false
   },
   "outputs": [
    {
     "name": "stdout",
     "output_type": "stream",
     "text": [
      "   age degrees   name       city  salary\n",
      "a   25     msc   yoav        NaN     NaN\n",
      "b   30     bsc  lital  jerusalem    5000\n",
      "c   46     phd  yaniv   tel aviv    8000\n"
     ]
    }
   ],
   "source": [
    "other_df = pd.DataFrame({'salary': [5000, 8000], 'city': ['jerusalem', 'tel aviv']}, index = ['b', 'c'])\n",
    "other_df = df.join(other_df)\n",
    "print other_df"
   ]
  },
  {
   "cell_type": "markdown",
   "metadata": {},
   "source": [
    "# efficient access and iteration:"
   ]
  },
  {
   "cell_type": "markdown",
   "metadata": {},
   "source": [
    "iterating through df rows with loc/iloc is extremely inefficient.\n",
    "lets demonstate this:"
   ]
  },
  {
   "cell_type": "code",
   "execution_count": 111,
   "metadata": {
    "collapsed": true
   },
   "outputs": [],
   "source": [
    "df = pd.DataFrame({'x': range(1000), 'y': range(10, 1010)})"
   ]
  },
  {
   "cell_type": "markdown",
   "metadata": {},
   "source": [
    "instead accessing rows like this:\n",
    "for i in range(1000):\n",
    "    print df.iloc[i]\n",
    "or like this:\n",
    "for i in df.index:\n",
    "     print df.loc[i]\n",
    "    \n",
    "it is recommended to access in one of the following ways which are much faster:\n",
    "1.\n",
    "col1 = list(df['x'])\n",
    "col2 = list(df['y'])\n",
    "index_col = list(df.index)\n",
    "for i in index_col:\n",
    "    col1_value = col1[i]\n",
    "    col2_value = col2[i]\n",
    "    "
   ]
  },
  {
   "cell_type": "markdown",
   "metadata": {},
   "source": [
    "and the other option is:"
   ]
  },
  {
   "cell_type": "code",
   "execution_count": 125,
   "metadata": {
    "collapsed": false
   },
   "outputs": [
    {
     "name": "stdout",
     "output_type": "stream",
     "text": [
      "(999, 999, 1009)\n"
     ]
    }
   ],
   "source": [
    "for tup in df.itertuples():\n",
    "    temp = tup\n",
    "\n",
    "print temp # first value = index, second = first_column, last = last_columns"
   ]
  },
  {
   "cell_type": "markdown",
   "metadata": {},
   "source": [
    "# grouping and sorting"
   ]
  },
  {
   "cell_type": "markdown",
   "metadata": {},
   "source": [
    "sorting is easy:"
   ]
  },
  {
   "cell_type": "code",
   "execution_count": 128,
   "metadata": {
    "collapsed": false
   },
   "outputs": [
    {
     "ename": "KeyError",
     "evalue": "'age'",
     "output_type": "error",
     "traceback": [
      "\u001b[1;31m---------------------------------------------------------------------------\u001b[0m",
      "\u001b[1;31mKeyError\u001b[0m                                  Traceback (most recent call last)",
      "\u001b[1;32m<ipython-input-128-335e22dcfd09>\u001b[0m in \u001b[0;36m<module>\u001b[1;34m()\u001b[0m\n\u001b[1;32m----> 1\u001b[1;33m \u001b[0mdf\u001b[0m\u001b[1;33m.\u001b[0m\u001b[0msort\u001b[0m\u001b[1;33m(\u001b[0m\u001b[1;33m[\u001b[0m\u001b[1;34m'age'\u001b[0m\u001b[1;33m]\u001b[0m\u001b[1;33m)\u001b[0m\u001b[1;33m\u001b[0m\u001b[0m\n\u001b[0m",
      "\u001b[1;32mC:\\Users\\zilberman\\Anaconda\\lib\\site-packages\\pandas\\core\\frame.pyc\u001b[0m in \u001b[0;36msort\u001b[1;34m(self, columns, axis, ascending, inplace, kind, na_position)\u001b[0m\n\u001b[0;32m   2796\u001b[0m         \"\"\"\n\u001b[0;32m   2797\u001b[0m         return self.sort_index(by=columns, axis=axis, ascending=ascending,\n\u001b[1;32m-> 2798\u001b[1;33m                                inplace=inplace, kind=kind, na_position=na_position)\n\u001b[0m\u001b[0;32m   2799\u001b[0m \u001b[1;33m\u001b[0m\u001b[0m\n\u001b[0;32m   2800\u001b[0m     def sort_index(self, axis=0, by=None, ascending=True, inplace=False,\n",
      "\u001b[1;32mC:\\Users\\zilberman\\Anaconda\\lib\\site-packages\\pandas\\core\\frame.pyc\u001b[0m in \u001b[0;36msort_index\u001b[1;34m(self, axis, by, ascending, inplace, kind, na_position)\u001b[0m\n\u001b[0;32m   2864\u001b[0m             \u001b[1;32melse\u001b[0m\u001b[1;33m:\u001b[0m\u001b[1;33m\u001b[0m\u001b[0m\n\u001b[0;32m   2865\u001b[0m                 \u001b[0mby\u001b[0m \u001b[1;33m=\u001b[0m \u001b[0mby\u001b[0m\u001b[1;33m[\u001b[0m\u001b[1;36m0\u001b[0m\u001b[1;33m]\u001b[0m\u001b[1;33m\u001b[0m\u001b[0m\n\u001b[1;32m-> 2866\u001b[1;33m                 \u001b[0mk\u001b[0m \u001b[1;33m=\u001b[0m \u001b[0mself\u001b[0m\u001b[1;33m[\u001b[0m\u001b[0mby\u001b[0m\u001b[1;33m]\u001b[0m\u001b[1;33m.\u001b[0m\u001b[0mvalues\u001b[0m\u001b[1;33m\u001b[0m\u001b[0m\n\u001b[0m\u001b[0;32m   2867\u001b[0m                 \u001b[1;32mif\u001b[0m \u001b[0mk\u001b[0m\u001b[1;33m.\u001b[0m\u001b[0mndim\u001b[0m \u001b[1;33m==\u001b[0m \u001b[1;36m2\u001b[0m\u001b[1;33m:\u001b[0m\u001b[1;33m\u001b[0m\u001b[0m\n\u001b[0;32m   2868\u001b[0m \u001b[1;33m\u001b[0m\u001b[0m\n",
      "\u001b[1;32mC:\\Users\\zilberman\\Anaconda\\lib\\site-packages\\pandas\\core\\frame.pyc\u001b[0m in \u001b[0;36m__getitem__\u001b[1;34m(self, key)\u001b[0m\n\u001b[0;32m   1778\u001b[0m             \u001b[1;32mreturn\u001b[0m \u001b[0mself\u001b[0m\u001b[1;33m.\u001b[0m\u001b[0m_getitem_multilevel\u001b[0m\u001b[1;33m(\u001b[0m\u001b[0mkey\u001b[0m\u001b[1;33m)\u001b[0m\u001b[1;33m\u001b[0m\u001b[0m\n\u001b[0;32m   1779\u001b[0m         \u001b[1;32melse\u001b[0m\u001b[1;33m:\u001b[0m\u001b[1;33m\u001b[0m\u001b[0m\n\u001b[1;32m-> 1780\u001b[1;33m             \u001b[1;32mreturn\u001b[0m \u001b[0mself\u001b[0m\u001b[1;33m.\u001b[0m\u001b[0m_getitem_column\u001b[0m\u001b[1;33m(\u001b[0m\u001b[0mkey\u001b[0m\u001b[1;33m)\u001b[0m\u001b[1;33m\u001b[0m\u001b[0m\n\u001b[0m\u001b[0;32m   1781\u001b[0m \u001b[1;33m\u001b[0m\u001b[0m\n\u001b[0;32m   1782\u001b[0m     \u001b[1;32mdef\u001b[0m \u001b[0m_getitem_column\u001b[0m\u001b[1;33m(\u001b[0m\u001b[0mself\u001b[0m\u001b[1;33m,\u001b[0m \u001b[0mkey\u001b[0m\u001b[1;33m)\u001b[0m\u001b[1;33m:\u001b[0m\u001b[1;33m\u001b[0m\u001b[0m\n",
      "\u001b[1;32mC:\\Users\\zilberman\\Anaconda\\lib\\site-packages\\pandas\\core\\frame.pyc\u001b[0m in \u001b[0;36m_getitem_column\u001b[1;34m(self, key)\u001b[0m\n\u001b[0;32m   1785\u001b[0m         \u001b[1;31m# get column\u001b[0m\u001b[1;33m\u001b[0m\u001b[1;33m\u001b[0m\u001b[0m\n\u001b[0;32m   1786\u001b[0m         \u001b[1;32mif\u001b[0m \u001b[0mself\u001b[0m\u001b[1;33m.\u001b[0m\u001b[0mcolumns\u001b[0m\u001b[1;33m.\u001b[0m\u001b[0mis_unique\u001b[0m\u001b[1;33m:\u001b[0m\u001b[1;33m\u001b[0m\u001b[0m\n\u001b[1;32m-> 1787\u001b[1;33m             \u001b[1;32mreturn\u001b[0m \u001b[0mself\u001b[0m\u001b[1;33m.\u001b[0m\u001b[0m_get_item_cache\u001b[0m\u001b[1;33m(\u001b[0m\u001b[0mkey\u001b[0m\u001b[1;33m)\u001b[0m\u001b[1;33m\u001b[0m\u001b[0m\n\u001b[0m\u001b[0;32m   1788\u001b[0m \u001b[1;33m\u001b[0m\u001b[0m\n\u001b[0;32m   1789\u001b[0m         \u001b[1;31m# duplicate columns & possible reduce dimensionaility\u001b[0m\u001b[1;33m\u001b[0m\u001b[1;33m\u001b[0m\u001b[0m\n",
      "\u001b[1;32mC:\\Users\\zilberman\\Anaconda\\lib\\site-packages\\pandas\\core\\generic.pyc\u001b[0m in \u001b[0;36m_get_item_cache\u001b[1;34m(self, item)\u001b[0m\n\u001b[0;32m   1066\u001b[0m         \u001b[0mres\u001b[0m \u001b[1;33m=\u001b[0m \u001b[0mcache\u001b[0m\u001b[1;33m.\u001b[0m\u001b[0mget\u001b[0m\u001b[1;33m(\u001b[0m\u001b[0mitem\u001b[0m\u001b[1;33m)\u001b[0m\u001b[1;33m\u001b[0m\u001b[0m\n\u001b[0;32m   1067\u001b[0m         \u001b[1;32mif\u001b[0m \u001b[0mres\u001b[0m \u001b[1;32mis\u001b[0m \u001b[0mNone\u001b[0m\u001b[1;33m:\u001b[0m\u001b[1;33m\u001b[0m\u001b[0m\n\u001b[1;32m-> 1068\u001b[1;33m             \u001b[0mvalues\u001b[0m \u001b[1;33m=\u001b[0m \u001b[0mself\u001b[0m\u001b[1;33m.\u001b[0m\u001b[0m_data\u001b[0m\u001b[1;33m.\u001b[0m\u001b[0mget\u001b[0m\u001b[1;33m(\u001b[0m\u001b[0mitem\u001b[0m\u001b[1;33m)\u001b[0m\u001b[1;33m\u001b[0m\u001b[0m\n\u001b[0m\u001b[0;32m   1069\u001b[0m             \u001b[0mres\u001b[0m \u001b[1;33m=\u001b[0m \u001b[0mself\u001b[0m\u001b[1;33m.\u001b[0m\u001b[0m_box_item_values\u001b[0m\u001b[1;33m(\u001b[0m\u001b[0mitem\u001b[0m\u001b[1;33m,\u001b[0m \u001b[0mvalues\u001b[0m\u001b[1;33m)\u001b[0m\u001b[1;33m\u001b[0m\u001b[0m\n\u001b[0;32m   1070\u001b[0m             \u001b[0mcache\u001b[0m\u001b[1;33m[\u001b[0m\u001b[0mitem\u001b[0m\u001b[1;33m]\u001b[0m \u001b[1;33m=\u001b[0m \u001b[0mres\u001b[0m\u001b[1;33m\u001b[0m\u001b[0m\n",
      "\u001b[1;32mC:\\Users\\zilberman\\Anaconda\\lib\\site-packages\\pandas\\core\\internals.pyc\u001b[0m in \u001b[0;36mget\u001b[1;34m(self, item, fastpath)\u001b[0m\n\u001b[0;32m   2847\u001b[0m \u001b[1;33m\u001b[0m\u001b[0m\n\u001b[0;32m   2848\u001b[0m             \u001b[1;32mif\u001b[0m \u001b[1;32mnot\u001b[0m \u001b[0misnull\u001b[0m\u001b[1;33m(\u001b[0m\u001b[0mitem\u001b[0m\u001b[1;33m)\u001b[0m\u001b[1;33m:\u001b[0m\u001b[1;33m\u001b[0m\u001b[0m\n\u001b[1;32m-> 2849\u001b[1;33m                 \u001b[0mloc\u001b[0m \u001b[1;33m=\u001b[0m \u001b[0mself\u001b[0m\u001b[1;33m.\u001b[0m\u001b[0mitems\u001b[0m\u001b[1;33m.\u001b[0m\u001b[0mget_loc\u001b[0m\u001b[1;33m(\u001b[0m\u001b[0mitem\u001b[0m\u001b[1;33m)\u001b[0m\u001b[1;33m\u001b[0m\u001b[0m\n\u001b[0m\u001b[0;32m   2850\u001b[0m             \u001b[1;32melse\u001b[0m\u001b[1;33m:\u001b[0m\u001b[1;33m\u001b[0m\u001b[0m\n\u001b[0;32m   2851\u001b[0m                 \u001b[0mindexer\u001b[0m \u001b[1;33m=\u001b[0m \u001b[0mnp\u001b[0m\u001b[1;33m.\u001b[0m\u001b[0marange\u001b[0m\u001b[1;33m(\u001b[0m\u001b[0mlen\u001b[0m\u001b[1;33m(\u001b[0m\u001b[0mself\u001b[0m\u001b[1;33m.\u001b[0m\u001b[0mitems\u001b[0m\u001b[1;33m)\u001b[0m\u001b[1;33m)\u001b[0m\u001b[1;33m[\u001b[0m\u001b[0misnull\u001b[0m\u001b[1;33m(\u001b[0m\u001b[0mself\u001b[0m\u001b[1;33m.\u001b[0m\u001b[0mitems\u001b[0m\u001b[1;33m)\u001b[0m\u001b[1;33m]\u001b[0m\u001b[1;33m\u001b[0m\u001b[0m\n",
      "\u001b[1;32mC:\\Users\\zilberman\\Anaconda\\lib\\site-packages\\pandas\\core\\index.pyc\u001b[0m in \u001b[0;36mget_loc\u001b[1;34m(self, key)\u001b[0m\n\u001b[0;32m   1400\u001b[0m         \u001b[0mloc\u001b[0m \u001b[1;33m:\u001b[0m \u001b[0mint\u001b[0m \u001b[1;32mif\u001b[0m \u001b[0munique\u001b[0m \u001b[0mindex\u001b[0m\u001b[1;33m,\u001b[0m \u001b[0mpossibly\u001b[0m \u001b[0mslice\u001b[0m \u001b[1;32mor\u001b[0m \u001b[0mmask\u001b[0m \u001b[1;32mif\u001b[0m \u001b[1;32mnot\u001b[0m\u001b[1;33m\u001b[0m\u001b[0m\n\u001b[0;32m   1401\u001b[0m         \"\"\"\n\u001b[1;32m-> 1402\u001b[1;33m         \u001b[1;32mreturn\u001b[0m \u001b[0mself\u001b[0m\u001b[1;33m.\u001b[0m\u001b[0m_engine\u001b[0m\u001b[1;33m.\u001b[0m\u001b[0mget_loc\u001b[0m\u001b[1;33m(\u001b[0m\u001b[0m_values_from_object\u001b[0m\u001b[1;33m(\u001b[0m\u001b[0mkey\u001b[0m\u001b[1;33m)\u001b[0m\u001b[1;33m)\u001b[0m\u001b[1;33m\u001b[0m\u001b[0m\n\u001b[0m\u001b[0;32m   1403\u001b[0m \u001b[1;33m\u001b[0m\u001b[0m\n\u001b[0;32m   1404\u001b[0m     \u001b[1;32mdef\u001b[0m \u001b[0mget_value\u001b[0m\u001b[1;33m(\u001b[0m\u001b[0mself\u001b[0m\u001b[1;33m,\u001b[0m \u001b[0mseries\u001b[0m\u001b[1;33m,\u001b[0m \u001b[0mkey\u001b[0m\u001b[1;33m)\u001b[0m\u001b[1;33m:\u001b[0m\u001b[1;33m\u001b[0m\u001b[0m\n",
      "\u001b[1;32mpandas\\index.pyx\u001b[0m in \u001b[0;36mpandas.index.IndexEngine.get_loc (pandas\\index.c:3820)\u001b[1;34m()\u001b[0m\n",
      "\u001b[1;32mpandas\\index.pyx\u001b[0m in \u001b[0;36mpandas.index.IndexEngine.get_loc (pandas\\index.c:3700)\u001b[1;34m()\u001b[0m\n",
      "\u001b[1;32mpandas\\hashtable.pyx\u001b[0m in \u001b[0;36mpandas.hashtable.PyObjectHashTable.get_item (pandas\\hashtable.c:12323)\u001b[1;34m()\u001b[0m\n",
      "\u001b[1;32mpandas\\hashtable.pyx\u001b[0m in \u001b[0;36mpandas.hashtable.PyObjectHashTable.get_item (pandas\\hashtable.c:12274)\u001b[1;34m()\u001b[0m\n",
      "\u001b[1;31mKeyError\u001b[0m: 'age'"
     ]
    }
   ],
   "source": [
    "df.sort(['age'])"
   ]
  },
  {
   "cell_type": "code",
   "execution_count": 145,
   "metadata": {
    "collapsed": false
   },
   "outputs": [
    {
     "data": {
      "text/html": [
       "<div style=\"max-height:1000px;max-width:1500px;overflow:auto;\">\n",
       "<table border=\"1\" class=\"dataframe\">\n",
       "  <thead>\n",
       "    <tr style=\"text-align: right;\">\n",
       "      <th></th>\n",
       "      <th>age</th>\n",
       "      <th>degrees</th>\n",
       "      <th>name</th>\n",
       "    </tr>\n",
       "  </thead>\n",
       "  <tbody>\n",
       "    <tr>\n",
       "      <th>c</th>\n",
       "      <td> 46</td>\n",
       "      <td> phd</td>\n",
       "      <td> yaniv</td>\n",
       "    </tr>\n",
       "    <tr>\n",
       "      <th>b</th>\n",
       "      <td> 30</td>\n",
       "      <td> bsc</td>\n",
       "      <td> lital</td>\n",
       "    </tr>\n",
       "    <tr>\n",
       "      <th>a</th>\n",
       "      <td> 25</td>\n",
       "      <td> msc</td>\n",
       "      <td>  yoav</td>\n",
       "    </tr>\n",
       "  </tbody>\n",
       "</table>\n",
       "</div>"
      ],
      "text/plain": [
       "   age degrees   name\n",
       "c   46     phd  yaniv\n",
       "b   30     bsc  lital\n",
       "a   25     msc   yoav"
      ]
     },
     "execution_count": 145,
     "metadata": {},
     "output_type": "execute_result"
    }
   ],
   "source": [
    "import pandas as pd\n",
    "names = ['yoav', 'lital', 'yaniv']\n",
    "ages = [25, 30, 46]\n",
    "degrees= ['msc' , 'bsc', 'phd']\n",
    "\n",
    "df = pd.DataFrame({\"name\":names, \"age\":ages, \"degrees\":degrees}, index = ['a', 'b', 'c'])\n",
    "\n",
    "df = df.sort(['age'], ascending=False)\n",
    "df"
   ]
  },
  {
   "cell_type": "code",
   "execution_count": 130,
   "metadata": {
    "collapsed": true
   },
   "outputs": [],
   "source": [
    "# what if we want to sort by two columns - primary and secondary:"
   ]
  },
  {
   "cell_type": "code",
   "execution_count": 146,
   "metadata": {
    "collapsed": false
   },
   "outputs": [
    {
     "data": {
      "text/html": [
       "<div style=\"max-height:1000px;max-width:1500px;overflow:auto;\">\n",
       "<table border=\"1\" class=\"dataframe\">\n",
       "  <thead>\n",
       "    <tr style=\"text-align: right;\">\n",
       "      <th></th>\n",
       "      <th>age</th>\n",
       "      <th>degrees</th>\n",
       "      <th>name</th>\n",
       "      <th>kids</th>\n",
       "    </tr>\n",
       "  </thead>\n",
       "  <tbody>\n",
       "    <tr>\n",
       "      <th>c</th>\n",
       "      <td> 46</td>\n",
       "      <td> phd</td>\n",
       "      <td> yaniv</td>\n",
       "      <td> 3</td>\n",
       "    </tr>\n",
       "    <tr>\n",
       "      <th>b</th>\n",
       "      <td> 30</td>\n",
       "      <td> bsc</td>\n",
       "      <td> lital</td>\n",
       "      <td> 1</td>\n",
       "    </tr>\n",
       "    <tr>\n",
       "      <th>a</th>\n",
       "      <td> 25</td>\n",
       "      <td> msc</td>\n",
       "      <td>  yoav</td>\n",
       "      <td> 3</td>\n",
       "    </tr>\n",
       "  </tbody>\n",
       "</table>\n",
       "</div>"
      ],
      "text/plain": [
       "   age degrees   name  kids\n",
       "c   46     phd  yaniv     3\n",
       "b   30     bsc  lital     1\n",
       "a   25     msc   yoav     3"
      ]
     },
     "execution_count": 146,
     "metadata": {},
     "output_type": "execute_result"
    }
   ],
   "source": [
    "df['kids'] = [3, 1, 3]\n",
    "df"
   ]
  },
  {
   "cell_type": "code",
   "execution_count": 147,
   "metadata": {
    "collapsed": false
   },
   "outputs": [
    {
     "data": {
      "text/html": [
       "<div style=\"max-height:1000px;max-width:1500px;overflow:auto;\">\n",
       "<table border=\"1\" class=\"dataframe\">\n",
       "  <thead>\n",
       "    <tr style=\"text-align: right;\">\n",
       "      <th></th>\n",
       "      <th>age</th>\n",
       "      <th>degrees</th>\n",
       "      <th>name</th>\n",
       "      <th>kids</th>\n",
       "    </tr>\n",
       "  </thead>\n",
       "  <tbody>\n",
       "    <tr>\n",
       "      <th>a</th>\n",
       "      <td> 25</td>\n",
       "      <td> msc</td>\n",
       "      <td>  yoav</td>\n",
       "      <td> 3</td>\n",
       "    </tr>\n",
       "    <tr>\n",
       "      <th>c</th>\n",
       "      <td> 46</td>\n",
       "      <td> phd</td>\n",
       "      <td> yaniv</td>\n",
       "      <td> 3</td>\n",
       "    </tr>\n",
       "    <tr>\n",
       "      <th>b</th>\n",
       "      <td> 30</td>\n",
       "      <td> bsc</td>\n",
       "      <td> lital</td>\n",
       "      <td> 1</td>\n",
       "    </tr>\n",
       "  </tbody>\n",
       "</table>\n",
       "</div>"
      ],
      "text/plain": [
       "   age degrees   name  kids\n",
       "a   25     msc   yoav     3\n",
       "c   46     phd  yaniv     3\n",
       "b   30     bsc  lital     1"
      ]
     },
     "execution_count": 147,
     "metadata": {},
     "output_type": "execute_result"
    }
   ],
   "source": [
    "df = df.sort(['kids', 'age'], ascending=[False, True])\n",
    "df"
   ]
  },
  {
   "cell_type": "markdown",
   "metadata": {},
   "source": [
    "grouping is very import object too: lets groupby number of kidfs:"
   ]
  },
  {
   "cell_type": "code",
   "execution_count": 149,
   "metadata": {
    "collapsed": false
   },
   "outputs": [
    {
     "name": "stdout",
     "output_type": "stream",
     "text": [
      "{1: ['b'], 3: ['a', 'c']}\n"
     ]
    }
   ],
   "source": [
    "grouped_df = df.groupby(['kids'])\n",
    "print grouped_df.groups"
   ]
  },
  {
   "cell_type": "code",
   "execution_count": 156,
   "metadata": {
    "collapsed": false
   },
   "outputs": [
    {
     "name": "stdout",
     "output_type": "stream",
     "text": [
      "group: 1\n",
      "group indices: ['b']\n",
      "group: 3\n",
      "group indices: ['a', 'c']\n"
     ]
    }
   ],
   "source": [
    "# in order to iterate:\n",
    "for k in grouped_df.groups:\n",
    "    print 'group: {0}'.format(k)\n",
    "    print 'group indices: {0}'.format(grouped_df.groups[k])"
   ]
  },
  {
   "cell_type": "code",
   "execution_count": 157,
   "metadata": {
    "collapsed": true
   },
   "outputs": [],
   "source": [
    "# you can do aggregations too:"
   ]
  },
  {
   "cell_type": "code",
   "execution_count": 158,
   "metadata": {
    "collapsed": false
   },
   "outputs": [
    {
     "data": {
      "text/html": [
       "<div style=\"max-height:1000px;max-width:1500px;overflow:auto;\">\n",
       "<table border=\"1\" class=\"dataframe\">\n",
       "  <thead>\n",
       "    <tr style=\"text-align: right;\">\n",
       "      <th></th>\n",
       "      <th>age</th>\n",
       "    </tr>\n",
       "    <tr>\n",
       "      <th>kids</th>\n",
       "      <th></th>\n",
       "    </tr>\n",
       "  </thead>\n",
       "  <tbody>\n",
       "    <tr>\n",
       "      <th>1</th>\n",
       "      <td> 30.0</td>\n",
       "    </tr>\n",
       "    <tr>\n",
       "      <th>3</th>\n",
       "      <td> 35.5</td>\n",
       "    </tr>\n",
       "  </tbody>\n",
       "</table>\n",
       "</div>"
      ],
      "text/plain": [
       "       age\n",
       "kids      \n",
       "1     30.0\n",
       "3     35.5"
      ]
     },
     "execution_count": 158,
     "metadata": {},
     "output_type": "execute_result"
    }
   ],
   "source": [
    "df.groupby([\"kids\"]).mean()"
   ]
  },
  {
   "cell_type": "markdown",
   "metadata": {},
   "source": [
    "# scikit learn:"
   ]
  },
  {
   "cell_type": "markdown",
   "metadata": {},
   "source": [
    "here is a simple pipeline for learning a model:"
   ]
  },
  {
   "cell_type": "markdown",
   "metadata": {},
   "source": [
    "first lets create our data:"
   ]
  },
  {
   "cell_type": "code",
   "execution_count": 165,
   "metadata": {
    "collapsed": false
   },
   "outputs": [
    {
     "name": "stdout",
     "output_type": "stream",
     "text": [
      "train head:\r\n",
      "\n",
      "         x1        x2        x3\n",
      "0  0.015743  0.140384  0.532056\n",
      "1  0.688645  0.674805  0.644086\n",
      "2  0.790255  0.300649  0.128451\n",
      "train_labels:\n",
      "0    False\n",
      "1     True\n",
      "2    False\n",
      "dtype: bool\n",
      "test head:\n",
      "         x1        x2        x3\n",
      "0  0.894625  0.928334  0.979942\n",
      "1  0.068290  0.038304  0.849449\n",
      "2  0.890235  0.324168  0.479024\n",
      "test labels:\n",
      "0    False\n",
      "1    False\n",
      "2     True\n",
      "dtype: bool\n"
     ]
    }
   ],
   "source": [
    "import random\n",
    "x1 = [random.random() for i in range(1000)]\n",
    "x2 = [random.random() for i in range(1000)]\n",
    "x3 = [random.random() for i in range(1000)]\n",
    "y = [(x1[i] > 0.5) and (x2[i] < 0.75) and (x3[i] > 0.33) for i in range(1000)]\n",
    "# first 700 examples for train and last 300 to test:\n",
    "train_df = pd.DataFrame({\"x1\":x1[:700], \"x2\":x2[:700], \"x3\": x3[:700]})\n",
    "train_labels = pd.Series(y[:700])\n",
    "test_df = pd.DataFrame({\"x1\":x1[700:], \"x2\":x2[700:], \"x3\": x3[700:]})\n",
    "test_labels = pd.Series(y[700:])\n",
    "\n",
    "print \"train head:\\r\\n\"\n",
    "print train_df.head(3)\n",
    "print \"train_labels:\"\n",
    "print train_labels.head(3)\n",
    "\n",
    "print \"test head:\"\n",
    "print test_df.head(3)\n",
    "print \"test labels:\"\n",
    "print test_labels.head(3)"
   ]
  },
  {
   "cell_type": "markdown",
   "metadata": {},
   "source": [
    "o.k, lets learn a random forest model from the train:"
   ]
  },
  {
   "cell_type": "code",
   "execution_count": 167,
   "metadata": {
    "collapsed": false
   },
   "outputs": [],
   "source": [
    "from sklearn.ensemble import RandomForestClassifier\n",
    "random_clf = RandomForestClassifier(n_estimators=1000, oob_score=True)\n",
    "random_clf = random_clf.fit(train_df, train_labels)\n",
    "\n"
   ]
  },
  {
   "cell_type": "markdown",
   "metadata": {},
   "source": [
    "o.k. up to here we learned a model, now lets evaluate it:"
   ]
  },
  {
   "cell_type": "code",
   "execution_count": 168,
   "metadata": {
    "collapsed": false
   },
   "outputs": [
    {
     "name": "stdout",
     "output_type": "stream",
     "text": [
      "0.991428571429\n"
     ]
    }
   ],
   "source": [
    "# lets start with the out of bag error:\n",
    "print random_clf.oob_score_"
   ]
  },
  {
   "cell_type": "code",
   "execution_count": 170,
   "metadata": {
    "collapsed": false
   },
   "outputs": [
    {
     "name": "stdout",
     "output_type": "stream",
     "text": [
      "<type 'numpy.ndarray'>\n"
     ]
    }
   ],
   "source": [
    "# very good validation error!\n",
    "# lets predict with the classifier on the test and see if the validation error is really close to the test error:\n",
    "predictions = random_clf.predict(test_df)"
   ]
  },
  {
   "cell_type": "markdown",
   "metadata": {},
   "source": [
    "and now lets compute the test error:"
   ]
  },
  {
   "cell_type": "code",
   "execution_count": 172,
   "metadata": {
    "collapsed": false
   },
   "outputs": [
    {
     "name": "stdout",
     "output_type": "stream",
     "text": [
      "test_error: 0.996666666667\n"
     ]
    }
   ],
   "source": [
    "errors_counter = 0\n",
    "test_labels_list = list(test_labels)\n",
    "for i in range(len(predictions)):\n",
    "    if predictions[i] != test_labels[i]:\n",
    "        errors_counter += 1\n",
    "print \"test_error: {0}\".format(1-float(errors_counter)/len(predictions))\n",
    "    "
   ]
  },
  {
   "cell_type": "markdown",
   "metadata": {},
   "source": [
    "very nice! and what if we want to draw the roc curve and compute the auc on the validation and test?\n",
    "no problem:"
   ]
  },
  {
   "cell_type": "markdown",
   "metadata": {},
   "source": [
    "lets start on the validation:"
   ]
  },
  {
   "cell_type": "code",
   "execution_count": 181,
   "metadata": {
    "collapsed": false
   },
   "outputs": [
    {
     "data": {
      "image/png": "[encoded data removed]",
      "text/plain": [
       "<matplotlib.figure.Figure at 0xfcd9050>"
      ]
     },
     "metadata": {},
     "output_type": "display_data"
    },
    {
     "name": "stdout",
     "output_type": "stream",
     "text": [
      "auc: 0.999812069556\n"
     ]
    }
   ],
   "source": [
    "from sklearn.metrics import roc_curve, auc\n",
    "validations_scores = [tup[1] for tup in random_clf.oob_decision_function_]\n",
    "fpr, tpr, thresholds = roc_curve(list(train_labels), validations_scores, pos_label = True)\n",
    "# lets compute auc:\n",
    "auc = auc(fpr, tpr)\n",
    "\n",
    "# now lets draw the roc graph:\n",
    "fig = plt.figure()\n",
    "fig.suptitle('roc', fontsize=20)\n",
    "plt.plot(fpr, tpr, color = \"blue\", linewidth=10, label = 'random_forest')\n",
    "plt.plot([0, 1], [0, 1], 'k--', label = 'random_classifier')\n",
    "plt.legend(bbox_to_anchor=(1.05, 1), loc=2, borderaxespad=0.)\n",
    "plt.xlabel('fpr')\n",
    "plt.ylabel('tpr')\n",
    "plt.show()\n",
    "\n",
    "print 'auc: {0}'.format(auc)"
   ]
  },
  {
   "cell_type": "markdown",
   "metadata": {},
   "source": [
    "very good, now lets do the same on the test set:"
   ]
  },
  {
   "cell_type": "code",
   "execution_count": 182,
   "metadata": {
    "collapsed": false
   },
   "outputs": [
    {
     "data": {
      "image/png": "[encoded data removed]",
      "text/plain": [
       "<matplotlib.figure.Figure at 0xfce1230>"
      ]
     },
     "metadata": {},
     "output_type": "display_data"
    },
    {
     "name": "stdout",
     "output_type": "stream",
     "text": [
      "auc: 1.0\n"
     ]
    }
   ],
   "source": [
    "from sklearn.metrics import roc_curve, auc\n",
    "test_scores = [tup[1] for tup in random_clf.predict_proba(test_df)]\n",
    "fpr, tpr, thresholds = roc_curve(list(test_labels), test_scores, pos_label = True)\n",
    "# lets compute auc:\n",
    "auc = auc(fpr, tpr)\n",
    "\n",
    "# now lets draw the roc graph:\n",
    "fig = plt.figure()\n",
    "fig.suptitle('roc', fontsize=20)\n",
    "plt.plot(fpr, tpr, color = \"blue\", linewidth=10, label = 'random_forest')\n",
    "plt.plot([0, 1], [0, 1], 'k--', label = 'random_classifier')\n",
    "plt.legend(bbox_to_anchor=(1.05, 1), loc=2, borderaxespad=0.)\n",
    "plt.xlabel('fpr')\n",
    "plt.ylabel('tpr')\n",
    "plt.show()\n",
    "\n",
    "print 'auc: {0}'.format(auc)"
   ]
  },
  {
   "cell_type": "markdown",
   "metadata": {},
   "source": [
    "well done! \n",
    "that is folks, you are now ready to do some data science by yourself.\n",
    "have fun!"
   ]
  }
 ],
 "metadata": {
  "kernelspec": {
   "display_name": "Python 2",
   "language": "python",
   "name": "python2"
  },
  "language_info": {
   "codemirror_mode": {
    "name": "ipython",
    "version": 2
   },
   "file_extension": ".py",
   "mimetype": "text/x-python",
   "name": "python",
   "nbconvert_exporter": "python",
   "pygments_lexer": "ipython2",
   "version": "2.7.9"
  }
 },
 "nbformat": 4,
 "nbformat_minor": 0
}
