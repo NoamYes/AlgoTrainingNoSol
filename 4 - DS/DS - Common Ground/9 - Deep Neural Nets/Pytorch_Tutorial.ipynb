{
  "nbformat": 4,
  "nbformat_minor": 0,
  "metadata": {
    "colab": {
      "name": "Pytorch Tutorial.ipynb",
      "provenance": [],
      "collapsed_sections": [
        "ChzhDpPPZwZ1",
        "y0yYyIDi-DVy",
        "maZnGuwo-bEu",
        "ZOMMiUS8-iTA",
        "c592nR1__vsZ",
        "9lWfOt4J_3Va",
        "rWwEpMST_7c6"
      ],
      "toc_visible": true
    },
    "kernelspec": {
      "name": "python3",
      "display_name": "Python 3"
    },
    "accelerator": "GPU",
    "widgets": {
      "application/vnd.jupyter.widget-state+json": {
        "13ee488ac87d4ca08ca65c52007b9a45": {
          "model_module": "@jupyter-widgets/controls",
          "model_name": "HBoxModel",
          "state": {
            "_view_name": "HBoxView",
            "_dom_classes": [],
            "_model_name": "HBoxModel",
            "_view_module": "@jupyter-widgets/controls",
            "_model_module_version": "1.5.0",
            "_view_count": null,
            "_view_module_version": "1.5.0",
            "box_style": "",
            "layout": "IPY_MODEL_13fb20cbc4ec498cb3647cb8bc5636e6",
            "_model_module": "@jupyter-widgets/controls",
            "children": [
              "IPY_MODEL_db1a520d33ec492cafc7c4bef5ac0b4d",
              "IPY_MODEL_e61e6d62807a4d98aa02ec9efce34385"
            ]
          }
        },
        "13fb20cbc4ec498cb3647cb8bc5636e6": {
          "model_module": "@jupyter-widgets/base",
          "model_name": "LayoutModel",
          "state": {
            "_view_name": "LayoutView",
            "grid_template_rows": null,
            "right": null,
            "justify_content": null,
            "_view_module": "@jupyter-widgets/base",
            "overflow": null,
            "_model_module_version": "1.2.0",
            "_view_count": null,
            "flex_flow": null,
            "width": null,
            "min_width": null,
            "border": null,
            "align_items": null,
            "bottom": null,
            "_model_module": "@jupyter-widgets/base",
            "top": null,
            "grid_column": null,
            "overflow_y": null,
            "overflow_x": null,
            "grid_auto_flow": null,
            "grid_area": null,
            "grid_template_columns": null,
            "flex": null,
            "_model_name": "LayoutModel",
            "justify_items": null,
            "grid_row": null,
            "max_height": null,
            "align_content": null,
            "visibility": null,
            "align_self": null,
            "height": null,
            "min_height": null,
            "padding": null,
            "grid_auto_rows": null,
            "grid_gap": null,
            "max_width": null,
            "order": null,
            "_view_module_version": "1.2.0",
            "grid_template_areas": null,
            "object_position": null,
            "object_fit": null,
            "grid_auto_columns": null,
            "margin": null,
            "display": null,
            "left": null
          }
        },
        "db1a520d33ec492cafc7c4bef5ac0b4d": {
          "model_module": "@jupyter-widgets/controls",
          "model_name": "FloatProgressModel",
          "state": {
            "_view_name": "ProgressView",
            "style": "IPY_MODEL_1a1a983a94054905bb11a17b63849a42",
            "_dom_classes": [],
            "description": "",
            "_model_name": "FloatProgressModel",
            "bar_style": "success",
            "max": 1,
            "_view_module": "@jupyter-widgets/controls",
            "_model_module_version": "1.5.0",
            "value": 1,
            "_view_count": null,
            "_view_module_version": "1.5.0",
            "orientation": "horizontal",
            "min": 0,
            "description_tooltip": null,
            "_model_module": "@jupyter-widgets/controls",
            "layout": "IPY_MODEL_7be10f41d44a494d9f7b505defdddecd"
          }
        },
        "e61e6d62807a4d98aa02ec9efce34385": {
          "model_module": "@jupyter-widgets/controls",
          "model_name": "HTMLModel",
          "state": {
            "_view_name": "HTMLView",
            "style": "IPY_MODEL_c3f755f2031140a58703ca96f2aba0c1",
            "_dom_classes": [],
            "description": "",
            "_model_name": "HTMLModel",
            "placeholder": "​",
            "_view_module": "@jupyter-widgets/controls",
            "_model_module_version": "1.5.0",
            "value": " 9920512/? [00:01&lt;00:00, 6100506.18it/s]",
            "_view_count": null,
            "_view_module_version": "1.5.0",
            "description_tooltip": null,
            "_model_module": "@jupyter-widgets/controls",
            "layout": "IPY_MODEL_c622970aa21d4950a22211d471ab0c37"
          }
        },
        "1a1a983a94054905bb11a17b63849a42": {
          "model_module": "@jupyter-widgets/controls",
          "model_name": "ProgressStyleModel",
          "state": {
            "_view_name": "StyleView",
            "_model_name": "ProgressStyleModel",
            "description_width": "initial",
            "_view_module": "@jupyter-widgets/base",
            "_model_module_version": "1.5.0",
            "_view_count": null,
            "_view_module_version": "1.2.0",
            "bar_color": null,
            "_model_module": "@jupyter-widgets/controls"
          }
        },
        "7be10f41d44a494d9f7b505defdddecd": {
          "model_module": "@jupyter-widgets/base",
          "model_name": "LayoutModel",
          "state": {
            "_view_name": "LayoutView",
            "grid_template_rows": null,
            "right": null,
            "justify_content": null,
            "_view_module": "@jupyter-widgets/base",
            "overflow": null,
            "_model_module_version": "1.2.0",
            "_view_count": null,
            "flex_flow": null,
            "width": null,
            "min_width": null,
            "border": null,
            "align_items": null,
            "bottom": null,
            "_model_module": "@jupyter-widgets/base",
            "top": null,
            "grid_column": null,
            "overflow_y": null,
            "overflow_x": null,
            "grid_auto_flow": null,
            "grid_area": null,
            "grid_template_columns": null,
            "flex": null,
            "_model_name": "LayoutModel",
            "justify_items": null,
            "grid_row": null,
            "max_height": null,
            "align_content": null,
            "visibility": null,
            "align_self": null,
            "height": null,
            "min_height": null,
            "padding": null,
            "grid_auto_rows": null,
            "grid_gap": null,
            "max_width": null,
            "order": null,
            "_view_module_version": "1.2.0",
            "grid_template_areas": null,
            "object_position": null,
            "object_fit": null,
            "grid_auto_columns": null,
            "margin": null,
            "display": null,
            "left": null
          }
        },
        "c3f755f2031140a58703ca96f2aba0c1": {
          "model_module": "@jupyter-widgets/controls",
          "model_name": "DescriptionStyleModel",
          "state": {
            "_view_name": "StyleView",
            "_model_name": "DescriptionStyleModel",
            "description_width": "",
            "_view_module": "@jupyter-widgets/base",
            "_model_module_version": "1.5.0",
            "_view_count": null,
            "_view_module_version": "1.2.0",
            "_model_module": "@jupyter-widgets/controls"
          }
        },
        "c622970aa21d4950a22211d471ab0c37": {
          "model_module": "@jupyter-widgets/base",
          "model_name": "LayoutModel",
          "state": {
            "_view_name": "LayoutView",
            "grid_template_rows": null,
            "right": null,
            "justify_content": null,
            "_view_module": "@jupyter-widgets/base",
            "overflow": null,
            "_model_module_version": "1.2.0",
            "_view_count": null,
            "flex_flow": null,
            "width": null,
            "min_width": null,
            "border": null,
            "align_items": null,
            "bottom": null,
            "_model_module": "@jupyter-widgets/base",
            "top": null,
            "grid_column": null,
            "overflow_y": null,
            "overflow_x": null,
            "grid_auto_flow": null,
            "grid_area": null,
            "grid_template_columns": null,
            "flex": null,
            "_model_name": "LayoutModel",
            "justify_items": null,
            "grid_row": null,
            "max_height": null,
            "align_content": null,
            "visibility": null,
            "align_self": null,
            "height": null,
            "min_height": null,
            "padding": null,
            "grid_auto_rows": null,
            "grid_gap": null,
            "max_width": null,
            "order": null,
            "_view_module_version": "1.2.0",
            "grid_template_areas": null,
            "object_position": null,
            "object_fit": null,
            "grid_auto_columns": null,
            "margin": null,
            "display": null,
            "left": null
          }
        },
        "c6526d53f38f4e18a2f05d10ed235b71": {
          "model_module": "@jupyter-widgets/controls",
          "model_name": "HBoxModel",
          "state": {
            "_view_name": "HBoxView",
            "_dom_classes": [],
            "_model_name": "HBoxModel",
            "_view_module": "@jupyter-widgets/controls",
            "_model_module_version": "1.5.0",
            "_view_count": null,
            "_view_module_version": "1.5.0",
            "box_style": "",
            "layout": "IPY_MODEL_1e316fe196364204a40b6086aa138042",
            "_model_module": "@jupyter-widgets/controls",
            "children": [
              "IPY_MODEL_bf5a42a74d2649819101e76e175be5b0",
              "IPY_MODEL_374216a3626e44b6aaa31635e7e4463f"
            ]
          }
        },
        "1e316fe196364204a40b6086aa138042": {
          "model_module": "@jupyter-widgets/base",
          "model_name": "LayoutModel",
          "state": {
            "_view_name": "LayoutView",
            "grid_template_rows": null,
            "right": null,
            "justify_content": null,
            "_view_module": "@jupyter-widgets/base",
            "overflow": null,
            "_model_module_version": "1.2.0",
            "_view_count": null,
            "flex_flow": null,
            "width": null,
            "min_width": null,
            "border": null,
            "align_items": null,
            "bottom": null,
            "_model_module": "@jupyter-widgets/base",
            "top": null,
            "grid_column": null,
            "overflow_y": null,
            "overflow_x": null,
            "grid_auto_flow": null,
            "grid_area": null,
            "grid_template_columns": null,
            "flex": null,
            "_model_name": "LayoutModel",
            "justify_items": null,
            "grid_row": null,
            "max_height": null,
            "align_content": null,
            "visibility": null,
            "align_self": null,
            "height": null,
            "min_height": null,
            "padding": null,
            "grid_auto_rows": null,
            "grid_gap": null,
            "max_width": null,
            "order": null,
            "_view_module_version": "1.2.0",
            "grid_template_areas": null,
            "object_position": null,
            "object_fit": null,
            "grid_auto_columns": null,
            "margin": null,
            "display": null,
            "left": null
          }
        },
        "bf5a42a74d2649819101e76e175be5b0": {
          "model_module": "@jupyter-widgets/controls",
          "model_name": "FloatProgressModel",
          "state": {
            "_view_name": "ProgressView",
            "style": "IPY_MODEL_c6d6eb302b6641639f9e23d1c85e718b",
            "_dom_classes": [],
            "description": "  0%",
            "_model_name": "FloatProgressModel",
            "bar_style": "info",
            "max": 1,
            "_view_module": "@jupyter-widgets/controls",
            "_model_module_version": "1.5.0",
            "value": 0,
            "_view_count": null,
            "_view_module_version": "1.5.0",
            "orientation": "horizontal",
            "min": 0,
            "description_tooltip": null,
            "_model_module": "@jupyter-widgets/controls",
            "layout": "IPY_MODEL_55b895b1eb4540b3b85657182e7b2d3d"
          }
        },
        "374216a3626e44b6aaa31635e7e4463f": {
          "model_module": "@jupyter-widgets/controls",
          "model_name": "HTMLModel",
          "state": {
            "_view_name": "HTMLView",
            "style": "IPY_MODEL_e7745844a9d74fd5a9f081921359e78d",
            "_dom_classes": [],
            "description": "",
            "_model_name": "HTMLModel",
            "placeholder": "​",
            "_view_module": "@jupyter-widgets/controls",
            "_model_module_version": "1.5.0",
            "value": " 0/28881 [00:00&lt;?, ?it/s]",
            "_view_count": null,
            "_view_module_version": "1.5.0",
            "description_tooltip": null,
            "_model_module": "@jupyter-widgets/controls",
            "layout": "IPY_MODEL_c719772f047d4b7dafc1d70a5d24b3f7"
          }
        },
        "c6d6eb302b6641639f9e23d1c85e718b": {
          "model_module": "@jupyter-widgets/controls",
          "model_name": "ProgressStyleModel",
          "state": {
            "_view_name": "StyleView",
            "_model_name": "ProgressStyleModel",
            "description_width": "initial",
            "_view_module": "@jupyter-widgets/base",
            "_model_module_version": "1.5.0",
            "_view_count": null,
            "_view_module_version": "1.2.0",
            "bar_color": null,
            "_model_module": "@jupyter-widgets/controls"
          }
        },
        "55b895b1eb4540b3b85657182e7b2d3d": {
          "model_module": "@jupyter-widgets/base",
          "model_name": "LayoutModel",
          "state": {
            "_view_name": "LayoutView",
            "grid_template_rows": null,
            "right": null,
            "justify_content": null,
            "_view_module": "@jupyter-widgets/base",
            "overflow": null,
            "_model_module_version": "1.2.0",
            "_view_count": null,
            "flex_flow": null,
            "width": null,
            "min_width": null,
            "border": null,
            "align_items": null,
            "bottom": null,
            "_model_module": "@jupyter-widgets/base",
            "top": null,
            "grid_column": null,
            "overflow_y": null,
            "overflow_x": null,
            "grid_auto_flow": null,
            "grid_area": null,
            "grid_template_columns": null,
            "flex": null,
            "_model_name": "LayoutModel",
            "justify_items": null,
            "grid_row": null,
            "max_height": null,
            "align_content": null,
            "visibility": null,
            "align_self": null,
            "height": null,
            "min_height": null,
            "padding": null,
            "grid_auto_rows": null,
            "grid_gap": null,
            "max_width": null,
            "order": null,
            "_view_module_version": "1.2.0",
            "grid_template_areas": null,
            "object_position": null,
            "object_fit": null,
            "grid_auto_columns": null,
            "margin": null,
            "display": null,
            "left": null
          }
        },
        "e7745844a9d74fd5a9f081921359e78d": {
          "model_module": "@jupyter-widgets/controls",
          "model_name": "DescriptionStyleModel",
          "state": {
            "_view_name": "StyleView",
            "_model_name": "DescriptionStyleModel",
            "description_width": "",
            "_view_module": "@jupyter-widgets/base",
            "_model_module_version": "1.5.0",
            "_view_count": null,
            "_view_module_version": "1.2.0",
            "_model_module": "@jupyter-widgets/controls"
          }
        },
        "c719772f047d4b7dafc1d70a5d24b3f7": {
          "model_module": "@jupyter-widgets/base",
          "model_name": "LayoutModel",
          "state": {
            "_view_name": "LayoutView",
            "grid_template_rows": null,
            "right": null,
            "justify_content": null,
            "_view_module": "@jupyter-widgets/base",
            "overflow": null,
            "_model_module_version": "1.2.0",
            "_view_count": null,
            "flex_flow": null,
            "width": null,
            "min_width": null,
            "border": null,
            "align_items": null,
            "bottom": null,
            "_model_module": "@jupyter-widgets/base",
            "top": null,
            "grid_column": null,
            "overflow_y": null,
            "overflow_x": null,
            "grid_auto_flow": null,
            "grid_area": null,
            "grid_template_columns": null,
            "flex": null,
            "_model_name": "LayoutModel",
            "justify_items": null,
            "grid_row": null,
            "max_height": null,
            "align_content": null,
            "visibility": null,
            "align_self": null,
            "height": null,
            "min_height": null,
            "padding": null,
            "grid_auto_rows": null,
            "grid_gap": null,
            "max_width": null,
            "order": null,
            "_view_module_version": "1.2.0",
            "grid_template_areas": null,
            "object_position": null,
            "object_fit": null,
            "grid_auto_columns": null,
            "margin": null,
            "display": null,
            "left": null
          }
        },
        "058ddde9299f4ad48eb342d6c9ebf8e5": {
          "model_module": "@jupyter-widgets/controls",
          "model_name": "HBoxModel",
          "state": {
            "_view_name": "HBoxView",
            "_dom_classes": [],
            "_model_name": "HBoxModel",
            "_view_module": "@jupyter-widgets/controls",
            "_model_module_version": "1.5.0",
            "_view_count": null,
            "_view_module_version": "1.5.0",
            "box_style": "",
            "layout": "IPY_MODEL_df392a622edf4fddbc3a191df64e0716",
            "_model_module": "@jupyter-widgets/controls",
            "children": [
              "IPY_MODEL_1948a4f92b834db3a2815fa21f42d09e",
              "IPY_MODEL_563eee532e3c42a692c7982427b86b45"
            ]
          }
        },
        "df392a622edf4fddbc3a191df64e0716": {
          "model_module": "@jupyter-widgets/base",
          "model_name": "LayoutModel",
          "state": {
            "_view_name": "LayoutView",
            "grid_template_rows": null,
            "right": null,
            "justify_content": null,
            "_view_module": "@jupyter-widgets/base",
            "overflow": null,
            "_model_module_version": "1.2.0",
            "_view_count": null,
            "flex_flow": null,
            "width": null,
            "min_width": null,
            "border": null,
            "align_items": null,
            "bottom": null,
            "_model_module": "@jupyter-widgets/base",
            "top": null,
            "grid_column": null,
            "overflow_y": null,
            "overflow_x": null,
            "grid_auto_flow": null,
            "grid_area": null,
            "grid_template_columns": null,
            "flex": null,
            "_model_name": "LayoutModel",
            "justify_items": null,
            "grid_row": null,
            "max_height": null,
            "align_content": null,
            "visibility": null,
            "align_self": null,
            "height": null,
            "min_height": null,
            "padding": null,
            "grid_auto_rows": null,
            "grid_gap": null,
            "max_width": null,
            "order": null,
            "_view_module_version": "1.2.0",
            "grid_template_areas": null,
            "object_position": null,
            "object_fit": null,
            "grid_auto_columns": null,
            "margin": null,
            "display": null,
            "left": null
          }
        },
        "1948a4f92b834db3a2815fa21f42d09e": {
          "model_module": "@jupyter-widgets/controls",
          "model_name": "FloatProgressModel",
          "state": {
            "_view_name": "ProgressView",
            "style": "IPY_MODEL_c623591cb7a14d1eacaedf0e448d0dcb",
            "_dom_classes": [],
            "description": "",
            "_model_name": "FloatProgressModel",
            "bar_style": "info",
            "max": 1,
            "_view_module": "@jupyter-widgets/controls",
            "_model_module_version": "1.5.0",
            "value": 1,
            "_view_count": null,
            "_view_module_version": "1.5.0",
            "orientation": "horizontal",
            "min": 0,
            "description_tooltip": null,
            "_model_module": "@jupyter-widgets/controls",
            "layout": "IPY_MODEL_f7761dd859d44fbbb49e0e42ca1ee8a8"
          }
        },
        "563eee532e3c42a692c7982427b86b45": {
          "model_module": "@jupyter-widgets/controls",
          "model_name": "HTMLModel",
          "state": {
            "_view_name": "HTMLView",
            "style": "IPY_MODEL_e22d257c1f9f441c85ac955e45747e94",
            "_dom_classes": [],
            "description": "",
            "_model_name": "HTMLModel",
            "placeholder": "​",
            "_view_module": "@jupyter-widgets/controls",
            "_model_module_version": "1.5.0",
            "value": " 1654784/? [00:18&lt;00:00, 251485.57it/s]",
            "_view_count": null,
            "_view_module_version": "1.5.0",
            "description_tooltip": null,
            "_model_module": "@jupyter-widgets/controls",
            "layout": "IPY_MODEL_3cf21db7920442a9b00e9fc29b080a7f"
          }
        },
        "c623591cb7a14d1eacaedf0e448d0dcb": {
          "model_module": "@jupyter-widgets/controls",
          "model_name": "ProgressStyleModel",
          "state": {
            "_view_name": "StyleView",
            "_model_name": "ProgressStyleModel",
            "description_width": "initial",
            "_view_module": "@jupyter-widgets/base",
            "_model_module_version": "1.5.0",
            "_view_count": null,
            "_view_module_version": "1.2.0",
            "bar_color": null,
            "_model_module": "@jupyter-widgets/controls"
          }
        },
        "f7761dd859d44fbbb49e0e42ca1ee8a8": {
          "model_module": "@jupyter-widgets/base",
          "model_name": "LayoutModel",
          "state": {
            "_view_name": "LayoutView",
            "grid_template_rows": null,
            "right": null,
            "justify_content": null,
            "_view_module": "@jupyter-widgets/base",
            "overflow": null,
            "_model_module_version": "1.2.0",
            "_view_count": null,
            "flex_flow": null,
            "width": null,
            "min_width": null,
            "border": null,
            "align_items": null,
            "bottom": null,
            "_model_module": "@jupyter-widgets/base",
            "top": null,
            "grid_column": null,
            "overflow_y": null,
            "overflow_x": null,
            "grid_auto_flow": null,
            "grid_area": null,
            "grid_template_columns": null,
            "flex": null,
            "_model_name": "LayoutModel",
            "justify_items": null,
            "grid_row": null,
            "max_height": null,
            "align_content": null,
            "visibility": null,
            "align_self": null,
            "height": null,
            "min_height": null,
            "padding": null,
            "grid_auto_rows": null,
            "grid_gap": null,
            "max_width": null,
            "order": null,
            "_view_module_version": "1.2.0",
            "grid_template_areas": null,
            "object_position": null,
            "object_fit": null,
            "grid_auto_columns": null,
            "margin": null,
            "display": null,
            "left": null
          }
        },
        "e22d257c1f9f441c85ac955e45747e94": {
          "model_module": "@jupyter-widgets/controls",
          "model_name": "DescriptionStyleModel",
          "state": {
            "_view_name": "StyleView",
            "_model_name": "DescriptionStyleModel",
            "description_width": "",
            "_view_module": "@jupyter-widgets/base",
            "_model_module_version": "1.5.0",
            "_view_count": null,
            "_view_module_version": "1.2.0",
            "_model_module": "@jupyter-widgets/controls"
          }
        },
        "3cf21db7920442a9b00e9fc29b080a7f": {
          "model_module": "@jupyter-widgets/base",
          "model_name": "LayoutModel",
          "state": {
            "_view_name": "LayoutView",
            "grid_template_rows": null,
            "right": null,
            "justify_content": null,
            "_view_module": "@jupyter-widgets/base",
            "overflow": null,
            "_model_module_version": "1.2.0",
            "_view_count": null,
            "flex_flow": null,
            "width": null,
            "min_width": null,
            "border": null,
            "align_items": null,
            "bottom": null,
            "_model_module": "@jupyter-widgets/base",
            "top": null,
            "grid_column": null,
            "overflow_y": null,
            "overflow_x": null,
            "grid_auto_flow": null,
            "grid_area": null,
            "grid_template_columns": null,
            "flex": null,
            "_model_name": "LayoutModel",
            "justify_items": null,
            "grid_row": null,
            "max_height": null,
            "align_content": null,
            "visibility": null,
            "align_self": null,
            "height": null,
            "min_height": null,
            "padding": null,
            "grid_auto_rows": null,
            "grid_gap": null,
            "max_width": null,
            "order": null,
            "_view_module_version": "1.2.0",
            "grid_template_areas": null,
            "object_position": null,
            "object_fit": null,
            "grid_auto_columns": null,
            "margin": null,
            "display": null,
            "left": null
          }
        },
        "c619812fdeb640809c699c56b87198f6": {
          "model_module": "@jupyter-widgets/controls",
          "model_name": "HBoxModel",
          "state": {
            "_view_name": "HBoxView",
            "_dom_classes": [],
            "_model_name": "HBoxModel",
            "_view_module": "@jupyter-widgets/controls",
            "_model_module_version": "1.5.0",
            "_view_count": null,
            "_view_module_version": "1.5.0",
            "box_style": "",
            "layout": "IPY_MODEL_612439a0c2a74fac89324226f1d7ff33",
            "_model_module": "@jupyter-widgets/controls",
            "children": [
              "IPY_MODEL_ba16954260ee49d186433e63b60f3757",
              "IPY_MODEL_905c9c03e2fb4e578b485676729e8a74"
            ]
          }
        },
        "612439a0c2a74fac89324226f1d7ff33": {
          "model_module": "@jupyter-widgets/base",
          "model_name": "LayoutModel",
          "state": {
            "_view_name": "LayoutView",
            "grid_template_rows": null,
            "right": null,
            "justify_content": null,
            "_view_module": "@jupyter-widgets/base",
            "overflow": null,
            "_model_module_version": "1.2.0",
            "_view_count": null,
            "flex_flow": null,
            "width": null,
            "min_width": null,
            "border": null,
            "align_items": null,
            "bottom": null,
            "_model_module": "@jupyter-widgets/base",
            "top": null,
            "grid_column": null,
            "overflow_y": null,
            "overflow_x": null,
            "grid_auto_flow": null,
            "grid_area": null,
            "grid_template_columns": null,
            "flex": null,
            "_model_name": "LayoutModel",
            "justify_items": null,
            "grid_row": null,
            "max_height": null,
            "align_content": null,
            "visibility": null,
            "align_self": null,
            "height": null,
            "min_height": null,
            "padding": null,
            "grid_auto_rows": null,
            "grid_gap": null,
            "max_width": null,
            "order": null,
            "_view_module_version": "1.2.0",
            "grid_template_areas": null,
            "object_position": null,
            "object_fit": null,
            "grid_auto_columns": null,
            "margin": null,
            "display": null,
            "left": null
          }
        },
        "ba16954260ee49d186433e63b60f3757": {
          "model_module": "@jupyter-widgets/controls",
          "model_name": "FloatProgressModel",
          "state": {
            "_view_name": "ProgressView",
            "style": "IPY_MODEL_8468b21b37584ea6a88794352c548154",
            "_dom_classes": [],
            "description": "  0%",
            "_model_name": "FloatProgressModel",
            "bar_style": "info",
            "max": 1,
            "_view_module": "@jupyter-widgets/controls",
            "_model_module_version": "1.5.0",
            "value": 0,
            "_view_count": null,
            "_view_module_version": "1.5.0",
            "orientation": "horizontal",
            "min": 0,
            "description_tooltip": null,
            "_model_module": "@jupyter-widgets/controls",
            "layout": "IPY_MODEL_cb166b52b45f40188d4ff158ff1e9ff4"
          }
        },
        "905c9c03e2fb4e578b485676729e8a74": {
          "model_module": "@jupyter-widgets/controls",
          "model_name": "HTMLModel",
          "state": {
            "_view_name": "HTMLView",
            "style": "IPY_MODEL_f4aa2f9b38274399b79e1cde38002e5a",
            "_dom_classes": [],
            "description": "",
            "_model_name": "HTMLModel",
            "placeholder": "​",
            "_view_module": "@jupyter-widgets/controls",
            "_model_module_version": "1.5.0",
            "value": " 0/4542 [00:00&lt;?, ?it/s]",
            "_view_count": null,
            "_view_module_version": "1.5.0",
            "description_tooltip": null,
            "_model_module": "@jupyter-widgets/controls",
            "layout": "IPY_MODEL_dd1aadb71d6a4025aa1c3c5ef939a66e"
          }
        },
        "8468b21b37584ea6a88794352c548154": {
          "model_module": "@jupyter-widgets/controls",
          "model_name": "ProgressStyleModel",
          "state": {
            "_view_name": "StyleView",
            "_model_name": "ProgressStyleModel",
            "description_width": "initial",
            "_view_module": "@jupyter-widgets/base",
            "_model_module_version": "1.5.0",
            "_view_count": null,
            "_view_module_version": "1.2.0",
            "bar_color": null,
            "_model_module": "@jupyter-widgets/controls"
          }
        },
        "cb166b52b45f40188d4ff158ff1e9ff4": {
          "model_module": "@jupyter-widgets/base",
          "model_name": "LayoutModel",
          "state": {
            "_view_name": "LayoutView",
            "grid_template_rows": null,
            "right": null,
            "justify_content": null,
            "_view_module": "@jupyter-widgets/base",
            "overflow": null,
            "_model_module_version": "1.2.0",
            "_view_count": null,
            "flex_flow": null,
            "width": null,
            "min_width": null,
            "border": null,
            "align_items": null,
            "bottom": null,
            "_model_module": "@jupyter-widgets/base",
            "top": null,
            "grid_column": null,
            "overflow_y": null,
            "overflow_x": null,
            "grid_auto_flow": null,
            "grid_area": null,
            "grid_template_columns": null,
            "flex": null,
            "_model_name": "LayoutModel",
            "justify_items": null,
            "grid_row": null,
            "max_height": null,
            "align_content": null,
            "visibility": null,
            "align_self": null,
            "height": null,
            "min_height": null,
            "padding": null,
            "grid_auto_rows": null,
            "grid_gap": null,
            "max_width": null,
            "order": null,
            "_view_module_version": "1.2.0",
            "grid_template_areas": null,
            "object_position": null,
            "object_fit": null,
            "grid_auto_columns": null,
            "margin": null,
            "display": null,
            "left": null
          }
        },
        "f4aa2f9b38274399b79e1cde38002e5a": {
          "model_module": "@jupyter-widgets/controls",
          "model_name": "DescriptionStyleModel",
          "state": {
            "_view_name": "StyleView",
            "_model_name": "DescriptionStyleModel",
            "description_width": "",
            "_view_module": "@jupyter-widgets/base",
            "_model_module_version": "1.5.0",
            "_view_count": null,
            "_view_module_version": "1.2.0",
            "_model_module": "@jupyter-widgets/controls"
          }
        },
        "dd1aadb71d6a4025aa1c3c5ef939a66e": {
          "model_module": "@jupyter-widgets/base",
          "model_name": "LayoutModel",
          "state": {
            "_view_name": "LayoutView",
            "grid_template_rows": null,
            "right": null,
            "justify_content": null,
            "_view_module": "@jupyter-widgets/base",
            "overflow": null,
            "_model_module_version": "1.2.0",
            "_view_count": null,
            "flex_flow": null,
            "width": null,
            "min_width": null,
            "border": null,
            "align_items": null,
            "bottom": null,
            "_model_module": "@jupyter-widgets/base",
            "top": null,
            "grid_column": null,
            "overflow_y": null,
            "overflow_x": null,
            "grid_auto_flow": null,
            "grid_area": null,
            "grid_template_columns": null,
            "flex": null,
            "_model_name": "LayoutModel",
            "justify_items": null,
            "grid_row": null,
            "max_height": null,
            "align_content": null,
            "visibility": null,
            "align_self": null,
            "height": null,
            "min_height": null,
            "padding": null,
            "grid_auto_rows": null,
            "grid_gap": null,
            "max_width": null,
            "order": null,
            "_view_module_version": "1.2.0",
            "grid_template_areas": null,
            "object_position": null,
            "object_fit": null,
            "grid_auto_columns": null,
            "margin": null,
            "display": null,
            "left": null
          }
        }
      }
    }
  },
  "cells": [
    {
      "cell_type": "markdown",
      "metadata": {
        "id": "-9-Pf1IcYAV8",
        "colab_type": "text"
      },
      "source": [
        "**Pytorch Tutorial**\n"
      ]
    },
    {
      "cell_type": "code",
      "metadata": {
        "id": "IkvGRUCaeodt",
        "colab_type": "code",
        "colab": {}
      },
      "source": [
        "import numpy as np\n",
        "import math\n",
        "import matplotlib.pyplot as plt\n",
        "import time\n",
        "\n",
        "import torch\n",
        "import torchvision\n",
        "import torch.nn as nn\n",
        "from torch.utils.data import Dataset, DataLoader\n",
        "\n",
        "from sklearn import datasets\n",
        "from sklearn.preprocessing import StandardScaler\n",
        "from sklearn.model_selection import train_test_split"
      ],
      "execution_count": null,
      "outputs": []
    },
    {
      "cell_type": "markdown",
      "metadata": {
        "id": "ChzhDpPPZwZ1",
        "colab_type": "text"
      },
      "source": [
        "## Tensors"
      ]
    },
    {
      "cell_type": "markdown",
      "metadata": {
        "id": "Udcl8tCgZ6B1",
        "colab_type": "text"
      },
      "source": [
        "Tensors are the base data structures of PyTorch which are used for building different types of neural networks. They can be considered as the generalization of arrays and matrices; in other words, tensors are N-dimensional matrices or multidimensional arrays.\n",
        "\n",
        "PyTorch tensors are similar to NumPy’s n-dimensional arrays. But unlike ndarrays of numpy, these tensors can be stored on a GPU RAM as well as the CPU RAM, and than to be multiplied efficientlly on the small many cores of the GPU (this is not the case with NumPy arrays). This is a major advantage of using tensors."
      ]
    },
    {
      "cell_type": "markdown",
      "metadata": {
        "id": "34hjE_dnjuUE",
        "colab_type": "text"
      },
      "source": [
        "###  Tensor Initialization"
      ]
    },
    {
      "cell_type": "markdown",
      "metadata": {
        "id": "WVdMHgL5gsuy",
        "colab_type": "text"
      },
      "source": [
        "Tensors can be created by using a list:"
      ]
    },
    {
      "cell_type": "code",
      "metadata": {
        "id": "5gbGK5BifniP",
        "colab_type": "code",
        "colab": {
          "base_uri": "https://localhost:8080/",
          "height": 34
        },
        "outputId": "eedfcfb2-e389-4fa1-eb41-32286c0a23f2"
      },
      "source": [
        "x = torch.tensor([1,2,3])\n",
        "print(x)"
      ],
      "execution_count": null,
      "outputs": [
        {
          "output_type": "stream",
          "text": [
            "tensor([1, 2, 3])\n"
          ],
          "name": "stdout"
        }
      ]
    },
    {
      "cell_type": "markdown",
      "metadata": {
        "id": "hS2GJDPThBSg",
        "colab_type": "text"
      },
      "source": [
        "You can specify the data type of the tensor by using the ``dtype`` argument,\n",
        "similarily to numpy, you can check the type of the tensor by using the ``dtype`` attribute:"
      ]
    },
    {
      "cell_type": "code",
      "metadata": {
        "id": "EWP-mViIiNrI",
        "colab_type": "code",
        "colab": {
          "base_uri": "https://localhost:8080/",
          "height": 51
        },
        "outputId": "587b25f3-561b-42d1-e2aa-403478d6964c"
      },
      "source": [
        "x = torch.tensor([1,2,3], dtype = torch.float32)\n",
        "print(x)\n",
        "print(x.dtype)"
      ],
      "execution_count": null,
      "outputs": [
        {
          "output_type": "stream",
          "text": [
            "tensor([1., 2., 3.])\n",
            "torch.float32\n"
          ],
          "name": "stdout"
        }
      ]
    },
    {
      "cell_type": "markdown",
      "metadata": {
        "id": "Hx3qL4M8n5eP",
        "colab_type": "text"
      },
      "source": [
        "It's important to note here that one way to evaluate a GPU is by its TFLOPS - the capability of a processor to calculate one trillion floating-point operations per second. These operations rate usually refer to a 32bit floating point and abiously depends on the tensot type. operations on a 64bit floating point will be half the rate and so on."
      ]
    },
    {
      "cell_type": "markdown",
      "metadata": {
        "id": "sjvJ5IaPkDl-",
        "colab_type": "text"
      },
      "source": [
        "Let’s say we want a matrix of shape 3*3 having all zeros/ones. Take a moment to think – how can we do that using NumPy?"
      ]
    },
    {
      "cell_type": "code",
      "metadata": {
        "id": "yXOFNYdaj4Bd",
        "colab_type": "code",
        "colab": {
          "base_uri": "https://localhost:8080/",
          "height": 123
        },
        "outputId": "b8a76cb4-e03c-406a-8a80-2070761598d4"
      },
      "source": [
        "a = np.zeros((3,3))\n",
        "b = np.ones((3,3))\n",
        "\n",
        "print(a)\n",
        "print(b)"
      ],
      "execution_count": null,
      "outputs": [
        {
          "output_type": "stream",
          "text": [
            "[[0. 0. 0.]\n",
            " [0. 0. 0.]\n",
            " [0. 0. 0.]]\n",
            "[[1. 1. 1.]\n",
            " [1. 1. 1.]\n",
            " [1. 1. 1.]]\n"
          ],
          "name": "stdout"
        }
      ]
    },
    {
      "cell_type": "markdown",
      "metadata": {
        "id": "DY3HOvAOkUjU",
        "colab_type": "text"
      },
      "source": [
        "Similar to NumPy, PyTorch also has the zeros() and ones() function which takes the shape as input and returns a matrix of zeros or ones , respectively, of a specified shape."
      ]
    },
    {
      "cell_type": "code",
      "metadata": {
        "id": "NxZN_iT4j4FX",
        "colab_type": "code",
        "colab": {
          "base_uri": "https://localhost:8080/",
          "height": 123
        },
        "outputId": "beb93051-b945-40ca-cf69-3595a2c4ef22"
      },
      "source": [
        "a = torch.zeros((3,3))\n",
        "b = torch.ones((3,3))\n",
        "\n",
        "print(a)\n",
        "print(b)"
      ],
      "execution_count": null,
      "outputs": [
        {
          "output_type": "stream",
          "text": [
            "tensor([[0., 0., 0.],\n",
            "        [0., 0., 0.],\n",
            "        [0., 0., 0.]])\n",
            "tensor([[1., 1., 1.],\n",
            "        [1., 1., 1.],\n",
            "        [1., 1., 1.]])\n"
          ],
          "name": "stdout"
        }
      ]
    },
    {
      "cell_type": "markdown",
      "metadata": {
        "id": "d8Y-nSZAoqBF",
        "colab_type": "text"
      },
      "source": [
        "The ``random.randn()`` function returns random numbers that follow a standard normal distribution. \n",
        "\n",
        "We can initialize a similar matrix of random numbers using PyTorch:\n",
        "\n"
      ]
    },
    {
      "cell_type": "code",
      "metadata": {
        "id": "9syMOW-lj4I_",
        "colab_type": "code",
        "colab": {
          "base_uri": "https://localhost:8080/",
          "height": 52
        },
        "outputId": "e384d584-ac9e-4f4f-ee3f-0614d28b066a"
      },
      "source": [
        "a = torch.randn(2,3)\n",
        "\n",
        "print(a)"
      ],
      "execution_count": null,
      "outputs": [
        {
          "output_type": "stream",
          "text": [
            "tensor([[-1.8783,  0.6180, -0.9610],\n",
            "        [-0.9602, -1.7552,  0.3963]])\n"
          ],
          "name": "stdout"
        }
      ]
    },
    {
      "cell_type": "markdown",
      "metadata": {
        "id": "vUMUuLeBDKfa",
        "colab_type": "text"
      },
      "source": [
        "### Tensor Copying"
      ]
    },
    {
      "cell_type": "markdown",
      "metadata": {
        "id": "GIej_VuCDP4Y",
        "colab_type": "text"
      },
      "source": [
        "As you will see later in this chapter,\n",
        "most of the tensor operations create a view of the origin tensor.\n",
        "\n",
        "Since it is a room for errors you must notice when you need to create a copy of your origin tensor.\n",
        "\n",
        "Unlike numpy, in torch the syntax is a bit different."
      ]
    },
    {
      "cell_type": "markdown",
      "metadata": {
        "id": "4cOUs78lE5eb",
        "colab_type": "text"
      },
      "source": [
        "The function `copy_` copies the tensor given as a parameter."
      ]
    },
    {
      "cell_type": "code",
      "metadata": {
        "id": "PKPmKwwmCv2Q",
        "colab_type": "code",
        "colab": {
          "base_uri": "https://localhost:8080/",
          "height": 212
        },
        "outputId": "1d2bf780-d0b1-4b50-b2d1-c4412d12cbf6"
      },
      "source": [
        "a = torch.randn(3,3)\n",
        "print(a, \"\\n\")\n",
        "\n",
        "b = torch.empty(3,3)\n",
        "b.copy_(a)\n",
        "print(b, \"\\n\")\n",
        "\n",
        "a[0,0] = 10\n",
        "print(a[0,0], \"\\n\")\n",
        "print(b[0,0])"
      ],
      "execution_count": null,
      "outputs": [
        {
          "output_type": "stream",
          "text": [
            "tensor([[-1.1124, -1.0314, -0.8489],\n",
            "        [-0.1366,  1.1057, -0.9612],\n",
            "        [-0.3910, -0.6203,  0.1014]]) \n",
            "\n",
            "tensor([[-1.1124, -1.0314, -0.8489],\n",
            "        [-0.1366,  1.1057, -0.9612],\n",
            "        [-0.3910, -0.6203,  0.1014]]) \n",
            "\n",
            "tensor(10.) \n",
            "\n",
            "tensor(-1.1124)\n"
          ],
          "name": "stdout"
        }
      ]
    },
    {
      "cell_type": "markdown",
      "metadata": {
        "id": "7bqdJJQWGwcL",
        "colab_type": "text"
      },
      "source": [
        "The function `clone` also copies a tensor.\n",
        "\n",
        "However, unlike `copy_`, this function is recorded in the computation graph. \n",
        "(As you will see later in this tutorial, it means that gradients propagating to the cloned tensor will propagate to the original tensor.)"
      ]
    },
    {
      "cell_type": "code",
      "metadata": {
        "id": "J41DL91zGJHl",
        "colab_type": "code",
        "colab": {
          "base_uri": "https://localhost:8080/",
          "height": 212
        },
        "outputId": "1bb1663d-8bde-4e38-b42e-a58d5b299ff9"
      },
      "source": [
        "a = torch.randn(3,3)\n",
        "print(a, \"\\n\")\n",
        "\n",
        "b = torch.empty(3,3)\n",
        "b = a.clone()\n",
        "print(b, \"\\n\")\n",
        "\n",
        "a[0,0] = 10\n",
        "print(a[0,0], \"\\n\")\n",
        "print(b[0,0])"
      ],
      "execution_count": null,
      "outputs": [
        {
          "output_type": "stream",
          "text": [
            "tensor([[-0.2498,  0.2671, -0.8300],\n",
            "        [-0.2340,  1.8239, -0.2401],\n",
            "        [-0.1279, -0.4556, -0.4793]]) \n",
            "\n",
            "tensor([[-0.2498,  0.2671, -0.8300],\n",
            "        [-0.2340,  1.8239, -0.2401],\n",
            "        [-0.1279, -0.4556, -0.4793]]) \n",
            "\n",
            "tensor(10.) \n",
            "\n",
            "tensor(-0.2498)\n"
          ],
          "name": "stdout"
        }
      ]
    },
    {
      "cell_type": "markdown",
      "metadata": {
        "id": "ZE0e6D-D0x9t",
        "colab_type": "text"
      },
      "source": [
        "### Shaping and Reshaping"
      ]
    },
    {
      "cell_type": "markdown",
      "metadata": {
        "id": "okaAc0As07rF",
        "colab_type": "text"
      },
      "source": [
        "You can get the shape of a tensor using the ``.size()`` method or just the `.shape` attribute."
      ]
    },
    {
      "cell_type": "code",
      "metadata": {
        "id": "X9Ou2RMu0yOO",
        "colab_type": "code",
        "colab": {
          "base_uri": "https://localhost:8080/",
          "height": 52
        },
        "outputId": "619574a4-c8b0-4103-e992-6cb491224180"
      },
      "source": [
        "a = torch.randn(2,3)\n",
        "\n",
        "print(a.size())\n",
        "print(a.shape)"
      ],
      "execution_count": null,
      "outputs": [
        {
          "output_type": "stream",
          "text": [
            "torch.Size([2, 3])\n",
            "torch.Size([2, 3])\n"
          ],
          "name": "stdout"
        }
      ]
    },
    {
      "cell_type": "markdown",
      "metadata": {
        "id": "6zUy9uI22miZ",
        "colab_type": "text"
      },
      "source": [
        "We can use the `.view()` function and pass the required shape as a parameter. \n",
        "\n",
        "It will return a tensor with the new shape. \n",
        "\n",
        "Pay attention that the returned tensor isn't a copy of the original tensor, it will share the underling data with the original tensor.\n",
        "\n",
        "Let’s try to convert the above tensor of shape (2,3) to a tensor of shape (6,1):\n",
        "\n"
      ]
    },
    {
      "cell_type": "code",
      "metadata": {
        "id": "xbEoYY0D2qPb",
        "colab_type": "code",
        "colab": {
          "base_uri": "https://localhost:8080/",
          "height": 141
        },
        "outputId": "57aecae7-fd06-4b5d-c260-90a555f635dc"
      },
      "source": [
        "b = a.view(6,1)\n",
        "print(b)\n",
        "print(b.shape)"
      ],
      "execution_count": null,
      "outputs": [
        {
          "output_type": "stream",
          "text": [
            "tensor([[ 1.0940],\n",
            "        [-0.6838],\n",
            "        [-0.1457],\n",
            "        [ 1.1312],\n",
            "        [-0.1067],\n",
            "        [-0.9723]])\n",
            "torch.Size([6, 1])\n"
          ],
          "name": "stdout"
        }
      ]
    },
    {
      "cell_type": "code",
      "metadata": {
        "id": "HP7r3aoC2qSS",
        "colab_type": "code",
        "colab": {
          "base_uri": "https://localhost:8080/",
          "height": 123
        },
        "outputId": "9db33165-4703-44ea-b1a6-99b85b4e9c2e"
      },
      "source": [
        "a[0][0]=5\n",
        "print(b)"
      ],
      "execution_count": null,
      "outputs": [
        {
          "output_type": "stream",
          "text": [
            "tensor([[ 5.0000],\n",
            "        [-0.6838],\n",
            "        [-0.1457],\n",
            "        [ 1.1312],\n",
            "        [-0.1067],\n",
            "        [-0.9723]])\n"
          ],
          "name": "stdout"
        }
      ]
    },
    {
      "cell_type": "markdown",
      "metadata": {
        "id": "rzEu5hhq3ELO",
        "colab_type": "text"
      },
      "source": [
        "If you know you want, for example, 6 rows however, you want torch to conclude the number of columns, you should send -1 as the columns dim argument"
      ]
    },
    {
      "cell_type": "code",
      "metadata": {
        "id": "uIdpWk8R3dlD",
        "colab_type": "code",
        "colab": {
          "base_uri": "https://localhost:8080/",
          "height": 212
        },
        "outputId": "056904e4-355a-438a-82b8-c2f01d1a346b"
      },
      "source": [
        "a = torch.randn(3,4,5)\n",
        "b = a.view(-1,12)\n",
        "print(b)\n",
        "print(b.shape)"
      ],
      "execution_count": null,
      "outputs": [
        {
          "output_type": "stream",
          "text": [
            "tensor([[ 0.7113,  0.6297,  0.1232,  0.6469, -0.2065, -0.6196,  0.7400,  2.3763,\n",
            "          1.5697, -0.0928,  1.6582, -0.1015],\n",
            "        [ 0.9270,  0.9450,  1.6292, -0.3656,  0.0709, -0.1493, -0.3180, -0.7879,\n",
            "         -0.0171, -2.2749,  0.6409,  0.0876],\n",
            "        [ 0.0217, -0.2510, -0.1346,  2.2710,  0.4816,  1.2160,  1.4600, -0.1975,\n",
            "         -1.0890, -1.4707,  1.3135, -1.0782],\n",
            "        [ 1.2744, -1.1926, -0.0096, -0.2496, -0.6022, -0.5855, -0.0917, -0.4569,\n",
            "         -1.0288,  0.2488,  0.0895,  1.2220],\n",
            "        [ 0.3659, -0.9173, -0.1654,  0.4994, -0.6953, -0.8574, -0.2142,  0.3011,\n",
            "         -1.0792,  1.5648,  0.7269,  0.8289]])\n",
            "torch.Size([5, 12])\n"
          ],
          "name": "stdout"
        }
      ]
    },
    {
      "cell_type": "markdown",
      "metadata": {
        "id": "dl8K1RR2IAVh",
        "colab_type": "text"
      },
      "source": [
        "If you have two twnsors with the same amount of elements and you want to make their shape the same you can pass one's shape as a parameter to the `view` function"
      ]
    },
    {
      "cell_type": "code",
      "metadata": {
        "id": "PD_ddmzuH3BL",
        "colab_type": "code",
        "colab": {
          "base_uri": "https://localhost:8080/",
          "height": 87
        },
        "outputId": "67da7391-702a-4696-8ce8-7b52df525478"
      },
      "source": [
        "a = torch.randn(3,4,5)\n",
        "print(a.size())\n",
        "b = torch.randn(6, 10)\n",
        "print(b.size(), \"\\n\")\n",
        "\n",
        "b = b.view(a.size())\n",
        "print(b.size())"
      ],
      "execution_count": null,
      "outputs": [
        {
          "output_type": "stream",
          "text": [
            "torch.Size([3, 4, 5])\n",
            "torch.Size([6, 10]) \n",
            "\n",
            "torch.Size([3, 4, 5])\n"
          ],
          "name": "stdout"
        }
      ]
    },
    {
      "cell_type": "markdown",
      "metadata": {
        "id": "B6QZ5OaUIx4e",
        "colab_type": "text"
      },
      "source": [
        "However, you can do it more elegantlly using the `view_as` function:"
      ]
    },
    {
      "cell_type": "code",
      "metadata": {
        "id": "5VPj_AWvI-mT",
        "colab_type": "code",
        "colab": {
          "base_uri": "https://localhost:8080/",
          "height": 87
        },
        "outputId": "00150d2d-0c24-432b-c278-08936244b0f3"
      },
      "source": [
        "a = torch.randn(3,4,5)\n",
        "print(a.size())\n",
        "b = torch.randn(6, 10)\n",
        "print(b.size(), \"\\n\")\n",
        "\n",
        "b = b.view_as(a)\n",
        "print(b.size())"
      ],
      "execution_count": null,
      "outputs": [
        {
          "output_type": "stream",
          "text": [
            "torch.Size([3, 4, 5])\n",
            "torch.Size([6, 10]) \n",
            "\n",
            "torch.Size([3, 4, 5])\n"
          ],
          "name": "stdout"
        }
      ]
    },
    {
      "cell_type": "markdown",
      "metadata": {
        "id": "4W2-j4da2-rJ",
        "colab_type": "text"
      },
      "source": [
        "You can also use the `torch.reshape` method,\n",
        "however, pay attentaion that torch.reshape may return a copy or a view of the original tensor - `torch.reshape` method will try to share the memory of the returned tensor, but if that complicates things for the torch architecture torch will make a clone of it and will return a new reshaped tensor. Thus you can not count on that to return a view or a copy."
      ]
    },
    {
      "cell_type": "markdown",
      "metadata": {
        "id": "VkoyXPWYT5ek",
        "colab_type": "text"
      },
      "source": [
        "In order to transpose a 2D tensor, you can use ``torch.t`` as follows:"
      ]
    },
    {
      "cell_type": "code",
      "metadata": {
        "id": "_f8AKKPaT9Ou",
        "colab_type": "code",
        "colab": {
          "base_uri": "https://localhost:8080/",
          "height": 170
        },
        "outputId": "68860042-3a7c-487e-ad89-acfa85ce212f"
      },
      "source": [
        "a = torch.randn(2,3)\n",
        "\n",
        "print(a)\n",
        "print(f\"tensor a shape is {a.shape} \\n\")\n",
        "\n",
        "a_t = torch.t(a)\n",
        "print(a_t)\n",
        "print(f\"the transpose of tensor a shape is {a_t.shape} \\n\")"
      ],
      "execution_count": null,
      "outputs": [
        {
          "output_type": "stream",
          "text": [
            "tensor([[ 0.0498,  1.1942, -0.2112],\n",
            "        [ 0.2853,  1.5957, -0.3287]])\n",
            "tensor a shape is torch.Size([2, 3]) \n",
            "\n",
            "tensor([[ 0.0498,  0.2853],\n",
            "        [ 1.1942,  1.5957],\n",
            "        [-0.2112, -0.3287]])\n",
            "the transpose of tensor a shape is torch.Size([3, 2]) \n",
            "\n"
          ],
          "name": "stdout"
        }
      ]
    },
    {
      "cell_type": "markdown",
      "metadata": {
        "id": "-j1Y7aG1UH5J",
        "colab_type": "text"
      },
      "source": [
        "Pay attention that 0-D and 1-D tensors are returned as is. "
      ]
    },
    {
      "cell_type": "code",
      "metadata": {
        "id": "obxGtUGjUJGS",
        "colab_type": "code",
        "colab": {
          "base_uri": "https://localhost:8080/",
          "height": 70
        },
        "outputId": "f6b0dd83-3679-4b30-92fb-05fddfe44067"
      },
      "source": [
        "a = torch.randn(5)\n",
        "print(a.shape, \"\\n\")\n",
        "\n",
        "a_t = torch.t(a)\n",
        "print(a_t.shape)"
      ],
      "execution_count": null,
      "outputs": [
        {
          "output_type": "stream",
          "text": [
            "torch.Size([5]) \n",
            "\n",
            "torch.Size([5])\n"
          ],
          "name": "stdout"
        }
      ]
    },
    {
      "cell_type": "markdown",
      "metadata": {
        "id": "ASK30QiE1Jh7",
        "colab_type": "text"
      },
      "source": [
        "If you want to transpose a tensor with more than 2 dimensions, you can use the `permute` function:"
      ]
    },
    {
      "cell_type": "code",
      "metadata": {
        "id": "TEB798Wf2uxu",
        "colab_type": "code",
        "colab": {
          "base_uri": "https://localhost:8080/",
          "height": 87
        },
        "outputId": "302f3703-e96e-4b71-fed7-b5e471b2011f"
      },
      "source": [
        "a = torch.randn(3, 4, 5)\n",
        "print(a.size())\n",
        "b.copy_(a.permute(2, 0, 1))\n",
        "print(b.size())\n",
        "\n",
        "print(a[1,2,3] == b[3,1,2])\n",
        "print(a[1,2,3] == b[1,2,3])"
      ],
      "execution_count": null,
      "outputs": [
        {
          "output_type": "stream",
          "text": [
            "torch.Size([3, 4, 5])\n",
            "torch.Size([5, 3, 4])\n",
            "tensor(True)\n",
            "tensor(False)\n"
          ],
          "name": "stdout"
        }
      ]
    },
    {
      "cell_type": "markdown",
      "metadata": {
        "id": "OyY_of_VtjKr",
        "colab_type": "text"
      },
      "source": [
        "### Mathematical Operations"
      ]
    },
    {
      "cell_type": "markdown",
      "metadata": {
        "id": "PQNGI21FuNrB",
        "colab_type": "text"
      },
      "source": [
        "Let’s now see how we can do mathematical operations using PyTorch on tensors. So, first, let’s initialize two tensors:"
      ]
    },
    {
      "cell_type": "code",
      "metadata": {
        "id": "Y8YW3fnztiq7",
        "colab_type": "code",
        "colab": {
          "base_uri": "https://localhost:8080/",
          "height": 87
        },
        "outputId": "5a776bc3-fc3e-4c56-dbb8-285da9b21f80"
      },
      "source": [
        "a = torch.randn(2,3)\n",
        "b = torch.randn(2,3)\n",
        "\n",
        "print(a)\n",
        "print(b)"
      ],
      "execution_count": null,
      "outputs": [
        {
          "output_type": "stream",
          "text": [
            "tensor([[ 0.3121, -0.2046, -1.0139],\n",
            "        [ 0.2884,  0.2794,  1.0529]])\n",
            "tensor([[ 0.8672,  0.2541, -0.3900],\n",
            "        [-0.0240, -0.9956, -0.4692]])\n"
          ],
          "name": "stdout"
        }
      ]
    },
    {
      "cell_type": "markdown",
      "metadata": {
        "id": "xEJJRX5QvRm8",
        "colab_type": "text"
      },
      "source": [
        "There are 3 different ways to perform mathematical operations:"
      ]
    },
    {
      "cell_type": "markdown",
      "metadata": {
        "id": "aWOf2t7Evbzs",
        "colab_type": "text"
      },
      "source": [
        "1. Well known  mathematical operators:"
      ]
    },
    {
      "cell_type": "code",
      "metadata": {
        "id": "788AXVMbj4OU",
        "colab_type": "code",
        "colab": {
          "base_uri": "https://localhost:8080/",
          "height": 283
        },
        "outputId": "a588a775-97f0-41b9-878e-28c1c4a7002f"
      },
      "source": [
        "# addition\n",
        "print(a+b, \"\\n\")       # equivalent to: torch.add(a, b)\n",
        "\n",
        "# subtraction\n",
        "print(b-a, \"\\n\")       # equivalent to: torch.sub(b, a)\n",
        "\n",
        "# elementwise multiplication\n",
        "print(a*b, \"\\n\")       # equivalent to: torch.mul(a, b)\n",
        "\n",
        "# dot product\n",
        "print(a@torch.t(b), \"\\n\")       # equivalent to: torch.dot(a, b)\n",
        "\n",
        "# division\n",
        "print(b/a, \"\\n\")       # equivalent to: torch.div(b, a)\n"
      ],
      "execution_count": null,
      "outputs": [
        {
          "output_type": "stream",
          "text": [
            "tensor([[ 1.1793,  0.0495, -1.4038],\n",
            "        [ 0.2644, -0.7162,  0.5837]]) \n",
            "\n",
            "tensor([[ 0.5551,  0.4588,  0.6239],\n",
            "        [-0.3125, -1.2750, -1.5221]]) \n",
            "\n",
            "tensor([[ 0.2706, -0.0520,  0.3954],\n",
            "        [-0.0069, -0.2782, -0.4940]]) \n",
            "\n",
            "tensor([[ 0.6140,  0.6719],\n",
            "        [-0.0895, -0.7791]]) \n",
            "\n",
            "tensor([[ 2.7787, -1.2419,  0.3846],\n",
            "        [-0.0834, -3.5633, -0.4456]]) \n",
            "\n"
          ],
          "name": "stdout"
        }
      ]
    },
    {
      "cell_type": "markdown",
      "metadata": {
        "id": "zZugTYV7xGC_",
        "colab_type": "text"
      },
      "source": [
        "2. Torch methods"
      ]
    },
    {
      "cell_type": "code",
      "metadata": {
        "id": "FqzSCIVrj4T7",
        "colab_type": "code",
        "colab": {
          "base_uri": "https://localhost:8080/",
          "height": 283
        },
        "outputId": "5b9a2dde-1c90-4345-8d57-06619ff2501e"
      },
      "source": [
        "# addition\n",
        "print(torch.add(a, b), \"\\n\")\n",
        "\n",
        "# subtraction\n",
        "print(torch.sub(b, a), \"\\n\")\n",
        "\n",
        "# elementwise multiplication\n",
        "print(torch.mul(a, b), \"\\n\")\n",
        "\n",
        "# dot product\n",
        "print(torch.mm(a, torch.t(b)), \"\\n\")\n",
        "\n",
        "# division\n",
        "print(torch.div(b, a), \"\\n\")\n"
      ],
      "execution_count": null,
      "outputs": [
        {
          "output_type": "stream",
          "text": [
            "tensor([[ 1.1793,  0.0495, -1.4038],\n",
            "        [ 0.2644, -0.7162,  0.5837]]) \n",
            "\n",
            "tensor([[ 0.5551,  0.4588,  0.6239],\n",
            "        [-0.3125, -1.2750, -1.5221]]) \n",
            "\n",
            "tensor([[ 0.2706, -0.0520,  0.3954],\n",
            "        [-0.0069, -0.2782, -0.4940]]) \n",
            "\n",
            "tensor([[ 0.6140,  0.6719],\n",
            "        [-0.0895, -0.7791]]) \n",
            "\n",
            "tensor([[ 2.7787, -1.2419,  0.3846],\n",
            "        [-0.0834, -3.5633, -0.4456]]) \n",
            "\n"
          ],
          "name": "stdout"
        }
      ]
    },
    {
      "cell_type": "markdown",
      "metadata": {
        "id": "shsKUNJ7yeAD",
        "colab_type": "text"
      },
      "source": [
        "3. Torch inplace methods\n",
        "\n",
        "  The inplace methods functionality is the same as the regular methods shown above, accept that their reult is written to the object they were operated on.\n",
        "The inplace methods always followed by an underscore."
      ]
    },
    {
      "cell_type": "code",
      "metadata": {
        "id": "4cbKzQeXj4Sc",
        "colab_type": "code",
        "colab": {
          "base_uri": "https://localhost:8080/",
          "height": 70
        },
        "outputId": "23496c9b-73f8-4e93-afd6-7d9301a67d16"
      },
      "source": [
        "# addition\n",
        "a.add_(b)\n",
        "print(a, \"\\n\")\n"
      ],
      "execution_count": null,
      "outputs": [
        {
          "output_type": "stream",
          "text": [
            "tensor([[-0.6801,  0.2148, -0.4094],\n",
            "        [-0.3647, -0.0793, -1.6675]]) \n",
            "\n"
          ],
          "name": "stdout"
        }
      ]
    },
    {
      "cell_type": "markdown",
      "metadata": {
        "id": "l0SU3KKV0gCn",
        "colab_type": "text"
      },
      "source": [
        "### Concatenating"
      ]
    },
    {
      "cell_type": "markdown",
      "metadata": {
        "id": "mCbZnCFANYZu",
        "colab_type": "text"
      },
      "source": [
        "Let’s say we have two tensors as shown below and we want to concatenate them\n"
      ]
    },
    {
      "cell_type": "code",
      "metadata": {
        "id": "eZJ3PbNfM2ts",
        "colab_type": "code",
        "colab": {
          "base_uri": "https://localhost:8080/",
          "height": 105
        },
        "outputId": "77cce4cd-de96-4b1b-cb6c-ba62a011110d"
      },
      "source": [
        "a = torch.tensor([[1,2],[3,4]])\n",
        "b = torch.tensor([[5,6],[7,8]])\n",
        "\n",
        "print(a, \"\\n\")\n",
        "print(b)"
      ],
      "execution_count": null,
      "outputs": [
        {
          "output_type": "stream",
          "text": [
            "tensor([[1, 2],\n",
            "        [3, 4]]) \n",
            "\n",
            "tensor([[5, 6],\n",
            "        [7, 8]])\n"
          ],
          "name": "stdout"
        }
      ]
    },
    {
      "cell_type": "code",
      "metadata": {
        "id": "lrG7ypNSONrb",
        "colab_type": "code",
        "colab": {
          "base_uri": "https://localhost:8080/",
          "height": 87
        },
        "outputId": "9d5e8112-c291-4df1-829b-565bd2cda634"
      },
      "source": [
        "# concatenating vertically\n",
        "torch.cat((a,b))"
      ],
      "execution_count": null,
      "outputs": [
        {
          "output_type": "execute_result",
          "data": {
            "text/plain": [
              "tensor([[1, 2],\n",
              "        [3, 4],\n",
              "        [5, 6],\n",
              "        [7, 8]])"
            ]
          },
          "metadata": {
            "tags": []
          },
          "execution_count": 58
        }
      ]
    },
    {
      "cell_type": "markdown",
      "metadata": {
        "id": "AO2QeXW8OMzo",
        "colab_type": "text"
      },
      "source": [
        "As you can see, the second tensor has been stacked below the first tensor. We can concatenate the tensors horizontally as well by setting the dim parameter to 1:\n"
      ]
    },
    {
      "cell_type": "code",
      "metadata": {
        "id": "wrcdmLMNONvX",
        "colab_type": "code",
        "colab": {
          "base_uri": "https://localhost:8080/",
          "height": 52
        },
        "outputId": "cace553c-df40-4fa0-f3e5-739cebd0927c"
      },
      "source": [
        "# concatenating horizontally\n",
        "torch.cat((a,b),dim=1)"
      ],
      "execution_count": null,
      "outputs": [
        {
          "output_type": "execute_result",
          "data": {
            "text/plain": [
              "tensor([[1, 2, 5, 6],\n",
              "        [3, 4, 7, 8]])"
            ]
          },
          "metadata": {
            "tags": []
          },
          "execution_count": 59
        }
      ]
    },
    {
      "cell_type": "markdown",
      "metadata": {
        "id": "_ylevJwi7IQS",
        "colab_type": "text"
      },
      "source": [
        "### Accumulating Functions"
      ]
    },
    {
      "cell_type": "markdown",
      "metadata": {
        "id": "4DTk3ITq7NCr",
        "colab_type": "text"
      },
      "source": [
        "The accumulating functions are mostly the same in torch tensors as in numpy arrays.\n"
      ]
    },
    {
      "cell_type": "code",
      "metadata": {
        "id": "UrpBYCA77NKo",
        "colab_type": "code",
        "colab": {
          "base_uri": "https://localhost:8080/",
          "height": 52
        },
        "outputId": "e4fbed66-69a6-4de2-e4cb-e7bf3abd5584"
      },
      "source": [
        "a = torch.tensor([[1,2],[3,4]], dtype=torch.float32)\n",
        "print(a)"
      ],
      "execution_count": null,
      "outputs": [
        {
          "output_type": "stream",
          "text": [
            "tensor([[1., 2.],\n",
            "        [3., 4.]])\n"
          ],
          "name": "stdout"
        }
      ]
    },
    {
      "cell_type": "code",
      "metadata": {
        "id": "mYIN_LJv7NNM",
        "colab_type": "code",
        "colab": {
          "base_uri": "https://localhost:8080/",
          "height": 34
        },
        "outputId": "8b329c14-a4dc-4d8d-f748-7ff386671670"
      },
      "source": [
        "a_sum = a.sum()\n",
        "print(f\"a.sum() = {a_sum}\")"
      ],
      "execution_count": null,
      "outputs": [
        {
          "output_type": "stream",
          "text": [
            "a.sum() = 10.0\n"
          ],
          "name": "stdout"
        }
      ]
    },
    {
      "cell_type": "markdown",
      "metadata": {
        "id": "qtQqPjXm8BjJ",
        "colab_type": "text"
      },
      "source": [
        "Similarily to numpy, you can specify the axis which you want to accumulate along: \n",
        "\n",
        "``axis=0`` for columns and ``axis=1`` for rows (as oppose to numpy)."
      ]
    },
    {
      "cell_type": "code",
      "metadata": {
        "id": "QOy3HRB28A4m",
        "colab_type": "code",
        "colab": {
          "base_uri": "https://localhost:8080/",
          "height": 34
        },
        "outputId": "c7d7535a-9b9e-4c68-d073-ce7170521302"
      },
      "source": [
        "# the mean of each column in the tensor a:\n",
        "a.mean(axis=0)"
      ],
      "execution_count": null,
      "outputs": [
        {
          "output_type": "execute_result",
          "data": {
            "text/plain": [
              "tensor([2., 3.])"
            ]
          },
          "metadata": {
            "tags": []
          },
          "execution_count": 90
        }
      ]
    },
    {
      "cell_type": "markdown",
      "metadata": {
        "id": "p_NRl1wa8oOm",
        "colab_type": "text"
      },
      "source": [
        "A very important function to use after you have done an accumulationg operation is the ``torch.item`` function.\n",
        "This function return a scalar from a tensor which contain only one item in it."
      ]
    },
    {
      "cell_type": "code",
      "metadata": {
        "id": "yCdHLI5E8oiR",
        "colab_type": "code",
        "colab": {
          "base_uri": "https://localhost:8080/",
          "height": 70
        },
        "outputId": "2a68f94f-3a3f-4e0a-ded4-4035c858d6f0"
      },
      "source": [
        "x = torch.tensor([[1]])\n",
        "print(x, \"\\n\")\n",
        "\n",
        "print(x.item())"
      ],
      "execution_count": null,
      "outputs": [
        {
          "output_type": "stream",
          "text": [
            "tensor([[1]]) \n",
            "\n",
            "1\n"
          ],
          "name": "stdout"
        }
      ]
    },
    {
      "cell_type": "markdown",
      "metadata": {
        "id": "SSZU5uiVJdHK",
        "colab_type": "text"
      },
      "source": [
        "Unlike numpy, `torch.max` return both the maximal element in  a tensor and its index.\n",
        "\n",
        "Use `dim=1` to maximize over each row of the tensor columns and `dims=0` to maximize over each column of the tensor rows.\n",
        "\n",
        "Take a moment and think, why is it useful? Yoy will see in the upcoming chapters."
      ]
    },
    {
      "cell_type": "code",
      "metadata": {
        "id": "NzTGGCYbJdUE",
        "colab_type": "code",
        "colab": {
          "base_uri": "https://localhost:8080/",
          "height": 123
        },
        "outputId": "63aac89b-cc9d-4c25-b9b2-1488ebf77c65"
      },
      "source": [
        "x = torch.randn(3,5)\n",
        "print(x, \"\\n\")\n",
        "\n",
        "value, index = torch.max(x, dim=1) \n",
        "print(value)\n",
        "print(index)"
      ],
      "execution_count": null,
      "outputs": [
        {
          "output_type": "stream",
          "text": [
            "tensor([[ 1.5276,  0.6673, -0.3035, -0.7540,  0.4225],\n",
            "        [ 0.2723, -0.2668,  0.8657,  1.4652,  0.4425],\n",
            "        [ 0.6219,  0.8103, -0.7368, -1.6926, -0.7497]]) \n",
            "\n",
            "tensor([1.5276, 1.4652, 0.8103])\n",
            "tensor([0, 3, 1])\n"
          ],
          "name": "stdout"
        }
      ]
    },
    {
      "cell_type": "markdown",
      "metadata": {
        "id": "_7-lvSU04P84",
        "colab_type": "text"
      },
      "source": [
        "### Numpy Bridge"
      ]
    },
    {
      "cell_type": "markdown",
      "metadata": {
        "id": "Dd1yfLYlaL2S",
        "colab_type": "text"
      },
      "source": [
        "Converting a torch Tensor to a numpy array and vice versa is a breeze. The torch Tensor and numpy array will share their underlying memory locations, and changing one will change the other."
      ]
    },
    {
      "cell_type": "code",
      "metadata": {
        "id": "m0FzZ-bRVixy",
        "colab_type": "code",
        "colab": {
          "base_uri": "https://localhost:8080/",
          "height": 105
        },
        "outputId": "c877874c-7b5c-4468-fa5a-86c61b6e6dbf"
      },
      "source": [
        "a = np.array([[1,2],[3,4]])\n",
        "print(a, \"\\n\")\n",
        "\n",
        "tensor = torch.from_numpy(a)\n",
        "print(tensor)"
      ],
      "execution_count": null,
      "outputs": [
        {
          "output_type": "stream",
          "text": [
            "[[1 2]\n",
            " [3 4]] \n",
            "\n",
            "tensor([[1, 2],\n",
            "        [3, 4]])\n"
          ],
          "name": "stdout"
        }
      ]
    },
    {
      "cell_type": "markdown",
      "metadata": {
        "id": "Kql-nhgs5f16",
        "colab_type": "text"
      },
      "source": [
        "Pay attenation that the numpy array and the torch tensor share the same memory,\n",
        "if you change the numpy array you chang the tensor and vice versa."
      ]
    },
    {
      "cell_type": "code",
      "metadata": {
        "id": "siljsQ_15uF2",
        "colab_type": "code",
        "colab": {
          "base_uri": "https://localhost:8080/",
          "height": 105
        },
        "outputId": "6db949c8-1daa-44db-c7df-066bc4e043e8"
      },
      "source": [
        "a[0,0] = 5\n",
        "print(tensor, \"\\n\")\n",
        "\n",
        "tensor[0,0] = 6\n",
        "print(a)"
      ],
      "execution_count": null,
      "outputs": [
        {
          "output_type": "stream",
          "text": [
            "tensor([[5, 2],\n",
            "        [3, 4]]) \n",
            "\n",
            "[[6 2]\n",
            " [3 4]]\n"
          ],
          "name": "stdout"
        }
      ]
    },
    {
      "cell_type": "code",
      "metadata": {
        "id": "Y2GkB-AoafXX",
        "colab_type": "code",
        "colab": {
          "base_uri": "https://localhost:8080/",
          "height": 52
        },
        "outputId": "2fbc9ebc-4816-481b-d2ba-b916efbb291c"
      },
      "source": [
        "b = tensor.numpy()\n",
        "print(b)"
      ],
      "execution_count": null,
      "outputs": [
        {
          "output_type": "stream",
          "text": [
            "[[6 2]\n",
            " [3 4]]\n"
          ],
          "name": "stdout"
        }
      ]
    },
    {
      "cell_type": "markdown",
      "metadata": {
        "id": "y0yYyIDi-DVy",
        "colab_type": "text"
      },
      "source": [
        "## Autograd: Automatic Differentiation"
      ]
    },
    {
      "cell_type": "markdown",
      "metadata": {
        "id": "4xkgH6MiOs5g",
        "colab_type": "text"
      },
      "source": [
        "Central to all neural networks in PyTorch is the ``autograd`` package. Let’s first briefly visit this.\n",
        "\n",
        "The autograd package provides automatic differentiation for all operations on Tensors. \n",
        "\n",
        "It is a define-by-run framework, which means that your backprop is defined by how your code is run, and that every single iteration can be different."
      ]
    },
    {
      "cell_type": "markdown",
      "metadata": {
        "id": "_Dd2RLo3QRp2",
        "colab_type": "text"
      },
      "source": [
        "``torch.Tensor``, which you saw above, is the central class of the package. \n",
        "\n",
        "If you set its attribute ``.requires_grad`` as ``True``, it starts to track all operations on it. \n",
        "\n",
        "When you finish your computation you can call ``.backward()`` and have all the gradients computed automatically. \n",
        "\n",
        "The gradient for this tensor will be accumulated into .grad attribute."
      ]
    },
    {
      "cell_type": "markdown",
      "metadata": {
        "id": "f9RTTP0CTDFc",
        "colab_type": "text"
      },
      "source": [
        "There’s one more class which is very important for the autograd implementation - a ``Function``.\n",
        "\n",
        "Tensor and Function are interconnected and build up an acyclic graph, that encodes a complete history of computation. Each tensor has a ``.grad_fn`` attribute that references to a Function that has created the Tensor (except for Tensors created by the user - their ``grad_fn`` is ``None``).\n",
        "\n",
        "If you want to compute the derivatives, you can call ``.backward()`` on a Tensor. If Tensor is a scalar (i.e. it holds a one element data), you don’t need to specify any arguments to ``backward()``, however if it has more elements, you need to specify a gradient argument that is a tensor of matching shape."
      ]
    },
    {
      "cell_type": "code",
      "metadata": {
        "id": "jNQhjE4y4xyd",
        "colab_type": "code",
        "colab": {
          "base_uri": "https://localhost:8080/",
          "height": 52
        },
        "outputId": "f0b30a75-3ece-466f-ae90-2fd3ae51783c"
      },
      "source": [
        "x = torch.ones(2, 2, requires_grad=True)\n",
        "print(x)"
      ],
      "execution_count": null,
      "outputs": [
        {
          "output_type": "stream",
          "text": [
            "tensor([[1., 1.],\n",
            "        [1., 1.]], requires_grad=True)\n"
          ],
          "name": "stdout"
        }
      ]
    },
    {
      "cell_type": "code",
      "metadata": {
        "id": "DIA4YePZ4x2S",
        "colab_type": "code",
        "colab": {
          "base_uri": "https://localhost:8080/",
          "height": 141
        },
        "outputId": "f53dbf89-b515-49ef-9da1-c20318df0164"
      },
      "source": [
        "y = x + 2\n",
        "print(y, \"\\n\")\n",
        "\n",
        "z = y * y * 3\n",
        "print(z, \"\\n\")\n",
        "\n",
        "out = z.mean()\n",
        "print(out)"
      ],
      "execution_count": null,
      "outputs": [
        {
          "output_type": "stream",
          "text": [
            "tensor([[3., 3.],\n",
            "        [3., 3.]], grad_fn=<AddBackward0>) \n",
            "\n",
            "tensor([[27., 27.],\n",
            "        [27., 27.]], grad_fn=<MulBackward0>) \n",
            "\n",
            "tensor(27., grad_fn=<MeanBackward0>)\n"
          ],
          "name": "stdout"
        }
      ]
    },
    {
      "cell_type": "markdown",
      "metadata": {
        "id": "_E-J1QQeUzRW",
        "colab_type": "text"
      },
      "source": [
        "Let’s backprop now. "
      ]
    },
    {
      "cell_type": "code",
      "metadata": {
        "id": "r85e9PXCSIiH",
        "colab_type": "code",
        "colab": {}
      },
      "source": [
        "out.backward()"
      ],
      "execution_count": null,
      "outputs": []
    },
    {
      "cell_type": "markdown",
      "metadata": {
        "id": "Fv7Iks0oVIcp",
        "colab_type": "text"
      },
      "source": [
        "Print gradients d(out)/dx"
      ]
    },
    {
      "cell_type": "code",
      "metadata": {
        "id": "3HKyiBpdSIlN",
        "colab_type": "code",
        "colab": {
          "base_uri": "https://localhost:8080/",
          "height": 52
        },
        "outputId": "a6e9a057-59df-4242-a7b1-75244fffb22a"
      },
      "source": [
        "print(x.grad)"
      ],
      "execution_count": null,
      "outputs": [
        {
          "output_type": "stream",
          "text": [
            "tensor([[4.5000, 4.5000],\n",
            "        [4.5000, 4.5000]])\n"
          ],
          "name": "stdout"
        }
      ]
    },
    {
      "cell_type": "markdown",
      "metadata": {
        "id": "UR5AThjyWzrC",
        "colab_type": "text"
      },
      "source": [
        "Calculating the gradients with respect to all of our parameters is time-consuming.\n",
        "\n",
        "Therefore, there are times when we don't want the gradients to be computed.\n",
        "\n",
        "There are 3 ways to stop the gradients calculations:"
      ]
    },
    {
      "cell_type": "markdown",
      "metadata": {
        "id": "9oqjap_IXSNE",
        "colab_type": "text"
      },
      "source": [
        "1. Updating the ``.requires_grad`` attribute as ``False``"
      ]
    },
    {
      "cell_type": "code",
      "metadata": {
        "id": "xYciquXkSIgr",
        "colab_type": "code",
        "colab": {
          "base_uri": "https://localhost:8080/",
          "height": 105
        },
        "outputId": "cf0ff6df-daaa-4fed-ccf6-cf2fc44aba94"
      },
      "source": [
        "a = torch.randn(3, requires_grad=True)\n",
        "print(a)\n",
        "print(a.requires_grad, \"\\n\")\n",
        "\n",
        "a.requires_grad_(False)\n",
        "\n",
        "print(a)\n",
        "print(a.requires_grad)"
      ],
      "execution_count": null,
      "outputs": [
        {
          "output_type": "stream",
          "text": [
            "tensor([-0.5733, -0.6450, -0.0432], requires_grad=True)\n",
            "True \n",
            "\n",
            "tensor([-0.5733, -0.6450, -0.0432])\n",
            "False\n"
          ],
          "name": "stdout"
        }
      ]
    },
    {
      "cell_type": "markdown",
      "metadata": {
        "id": "DB6nqFYKX8f9",
        "colab_type": "text"
      },
      "source": [
        "2. Call .detach()"
      ]
    },
    {
      "cell_type": "code",
      "metadata": {
        "id": "19A5z1J9SIaN",
        "colab_type": "code",
        "colab": {
          "base_uri": "https://localhost:8080/",
          "height": 105
        },
        "outputId": "fb497e11-8d2a-428c-c464-b6ae6ed3ef3b"
      },
      "source": [
        "a = torch.randn(3, requires_grad=True)\n",
        "print(a)\n",
        "print(a.requires_grad, \"\\n\")\n",
        "\n",
        "b = a.detach()\n",
        "\n",
        "print(b)\n",
        "print(b.requires_grad)"
      ],
      "execution_count": null,
      "outputs": [
        {
          "output_type": "stream",
          "text": [
            "tensor([-0.0601,  0.5046, -1.4813], requires_grad=True)\n",
            "True \n",
            "\n",
            "tensor([-0.0601,  0.5046, -1.4813])\n",
            "False\n"
          ],
          "name": "stdout"
        }
      ]
    },
    {
      "cell_type": "markdown",
      "metadata": {
        "id": "RBVUsH9UY9ZR",
        "colab_type": "text"
      },
      "source": [
        "Pay attention that the gradients above share the same memory."
      ]
    },
    {
      "cell_type": "markdown",
      "metadata": {
        "id": "QqqRo3Y0ZFXT",
        "colab_type": "text"
      },
      "source": [
        "3. Using the ``with`` statement"
      ]
    },
    {
      "cell_type": "code",
      "metadata": {
        "id": "ZH77Bg30ZFoi",
        "colab_type": "code",
        "colab": {
          "base_uri": "https://localhost:8080/",
          "height": 105
        },
        "outputId": "4f0007db-7495-48c4-82ff-39117aa4809c"
      },
      "source": [
        "a = torch.randn(3, requires_grad=True)\n",
        "print(a)\n",
        "print(a.requires_grad, \"\\n\")\n",
        "\n",
        "with torch.no_grad():\n",
        "  b = a+2\n",
        "  print(b)\n",
        "  print(b.requires_grad)"
      ],
      "execution_count": null,
      "outputs": [
        {
          "output_type": "stream",
          "text": [
            "tensor([-0.3377, -0.6099,  0.1613], requires_grad=True)\n",
            "True \n",
            "\n",
            "tensor([1.6623, 1.3901, 2.1613])\n",
            "False\n"
          ],
          "name": "stdout"
        }
      ]
    },
    {
      "cell_type": "markdown",
      "metadata": {
        "id": "2Fj56RHmaQZ-",
        "colab_type": "text"
      },
      "source": [
        "As mentioned earlier, the gradients are accumulated in the ``.grad``  attribute.\n",
        "\n",
        "Let's see an example:"
      ]
    },
    {
      "cell_type": "code",
      "metadata": {
        "id": "9PT-pzsbarhF",
        "colab_type": "code",
        "colab": {
          "base_uri": "https://localhost:8080/",
          "height": 70
        },
        "outputId": "4aab472f-6cde-4afa-fea2-692562e82c36"
      },
      "source": [
        "weights = torch.ones(4, requires_grad=True)\n",
        "\n",
        "for epoch in range(3):\n",
        "    model_output = (weights*3).sum()\n",
        "    model_output.backward()\n",
        "    \n",
        "    print(weights.grad)\n"
      ],
      "execution_count": null,
      "outputs": [
        {
          "output_type": "stream",
          "text": [
            "tensor([3., 3., 3., 3.])\n",
            "tensor([6., 6., 6., 6.])\n",
            "tensor([9., 9., 9., 9.])\n"
          ],
          "name": "stdout"
        }
      ]
    },
    {
      "cell_type": "markdown",
      "metadata": {
        "id": "QzJBdvUKkcpU",
        "colab_type": "text"
      },
      "source": [
        "That isn't what we want.\n",
        "\n",
        "We must zero the gradients before each iteration."
      ]
    },
    {
      "cell_type": "code",
      "metadata": {
        "id": "pN1DfRa8arkH",
        "colab_type": "code",
        "colab": {
          "base_uri": "https://localhost:8080/",
          "height": 68
        },
        "outputId": "cfbc4531-4fcd-4cb8-80a2-981cb580b3c9"
      },
      "source": [
        "weights = torch.ones(4, requires_grad=True)\n",
        "\n",
        "for epoch in range(3):\n",
        "    model_output = (weights*3).sum()\n",
        "    model_output.backward()\n",
        "  \n",
        "    print(weights.grad)\n",
        "\n",
        "    weights.grad.zero_()"
      ],
      "execution_count": null,
      "outputs": [
        {
          "output_type": "stream",
          "text": [
            "tensor([3., 3., 3., 3.])\n",
            "tensor([3., 3., 3., 3.])\n",
            "tensor([3., 3., 3., 3.])\n"
          ],
          "name": "stdout"
        }
      ]
    },
    {
      "cell_type": "markdown",
      "metadata": {
        "id": "maZnGuwo-bEu",
        "colab_type": "text"
      },
      "source": [
        "##  Training Pipeline Overview: Model, Loss, and Optimizer"
      ]
    },
    {
      "cell_type": "markdown",
      "metadata": {
        "id": "LqWvVHn4B2Tm",
        "colab_type": "text"
      },
      "source": [
        "There are 3 common steps in order to make NN using pytorch.\n",
        "1. Design model (input, output, forward pass with different layers).\n",
        "2. Construct loss and optimizer.\n",
        "3. Training loop:\n",
        "      - Forward - compute prediction and loss.\n",
        "      - Backward - compute gradients.\n",
        "      - Update weights.\n",
        "\n",
        "Its important to understand the different components of the process and the well defined separation between them.\n",
        "- Forward - only needs the X features, and the current weights.\n",
        "- Backward - only needs the y label and the y_predicted to be given to the loss. So the gradients can be acumulated with respect to the loss (being calculated using ``loss.backprop()``).\n",
        "- Update weights - only needs the gradients and the optimizing method."
      ]
    },
    {
      "cell_type": "markdown",
      "metadata": {
        "id": "ZOMMiUS8-iTA",
        "colab_type": "text"
      },
      "source": [
        "##  Linear Regression"
      ]
    },
    {
      "cell_type": "markdown",
      "metadata": {
        "id": "PheQ9BoSoYvU",
        "colab_type": "text"
      },
      "source": [
        "Here is our first very simple example of NN.\n",
        "\n",
        "This NN implements the simple linear regression.\n",
        "\n",
        "The most important thing to take from this example is the structure of our code."
      ]
    },
    {
      "cell_type": "markdown",
      "metadata": {
        "id": "PCRTjGO5pO_r",
        "colab_type": "text"
      },
      "source": [
        "First, let's make a small dataset:"
      ]
    },
    {
      "cell_type": "code",
      "metadata": {
        "id": "cPSRp6zG_vk4",
        "colab_type": "code",
        "colab": {}
      },
      "source": [
        "X_numpy, y_numpy = datasets.make_regression(n_samples=100, \n",
        "                                            n_features=1, \n",
        "                                            noise=15, \n",
        "                                            random_state=42)\n",
        "\n",
        "X = torch.from_numpy(X_numpy.astype(np.float32))\n",
        "y = torch.from_numpy(y_numpy.astype(np.float32))\n",
        "y = y.view(y.shape[0], 1)\n",
        "\n",
        "n_samples, n_features = X.shape"
      ],
      "execution_count": null,
      "outputs": []
    },
    {
      "cell_type": "code",
      "metadata": {
        "id": "GCuQh5twsVqr",
        "colab_type": "code",
        "colab": {
          "base_uri": "https://localhost:8080/",
          "height": 312
        },
        "outputId": "3a255c4e-d53b-4171-abad-abb6b43ce37f"
      },
      "source": [
        "plt.scatter(X , y)\n",
        "plt.title(\"Linear Regression Data\")\n",
        "plt.xlabel(\"X\")\n",
        "plt.ylabel(\"y\")"
      ],
      "execution_count": null,
      "outputs": [
        {
          "output_type": "execute_result",
          "data": {
            "text/plain": [
              "Text(0, 0.5, 'y')"
            ]
          },
          "metadata": {
            "tags": []
          },
          "execution_count": 9
        },
        {
          "output_type": "display_data",
          "data": {
            "image/png": "[encoded data removed]",
            "text/plain": [
              "<Figure size 432x288 with 1 Axes>"
            ]
          },
          "metadata": {
            "tags": [],
            "needs_background": "light"
          }
        }
      ]
    },
    {
      "cell_type": "markdown",
      "metadata": {
        "id": "avnbhCM8DQLH",
        "colab_type": "text"
      },
      "source": [
        "Step No. 1:\n",
        "\n",
        "We define our NN as a class that inherite from ``nn.Module``.\n",
        "\n",
        "In this class we must implement two methods: the ``__init__`` method\n",
        "and the ``forward`` method.\n",
        "\n",
        "In the ``__init__`` method we firstly calling ``nn.Module`` ``__init__`` and then we define our NN layers, their input and outputs sizes.\n",
        "\n",
        "The  ``forward`` method performs the forward propagtion using the layers defined in the initialization. Most layers are already implemented for you in the ``nn`` module of pytorch. the first layer to be used is a ``nn.Linear`` layer, defined by its input dimenstions and output dimensions, storing the wights inside. In order to apply the layer one need just to pass an X to it as if it was a function."
      ]
    },
    {
      "cell_type": "code",
      "metadata": {
        "id": "Y6x9Vt_nnsuE",
        "colab_type": "code",
        "colab": {}
      },
      "source": [
        "class LinearRegression(nn.Module):\n",
        "\n",
        "  def __init__(self, input_dim, output_dim):\n",
        "    super(LinearRegression, self).__init__()\n",
        "\n",
        "    self.lin = nn.Linear(input_dim, output_dim)\n",
        "\n",
        "  def forward(self, x):\n",
        "    return self.lin(x)   "
      ],
      "execution_count": null,
      "outputs": []
    },
    {
      "cell_type": "code",
      "metadata": {
        "id": "L-xkf4Ywns2U",
        "colab_type": "code",
        "colab": {
          "base_uri": "https://localhost:8080/",
          "height": 68
        },
        "outputId": "de6ad2d9-7a9e-44d2-ea00-7e0dcf1b7f52"
      },
      "source": [
        "model = LinearRegression(n_features, 1)\n",
        "model"
      ],
      "execution_count": null,
      "outputs": [
        {
          "output_type": "execute_result",
          "data": {
            "text/plain": [
              "LinearRegression(\n",
              "  (lin): Linear(in_features=1, out_features=1, bias=True)\n",
              ")"
            ]
          },
          "metadata": {
            "tags": []
          },
          "execution_count": 11
        }
      ]
    },
    {
      "cell_type": "markdown",
      "metadata": {
        "id": "0dZUiVhaav1k",
        "colab_type": "text"
      },
      "source": [
        "Model class was made so it will contain layers that operate in a sequence. As such, a very convineint way to reffer to all parameters of all layers is the method ``.parameters()``."
      ]
    },
    {
      "cell_type": "code",
      "metadata": {
        "id": "rHubETGnsyBt",
        "colab_type": "code",
        "colab": {}
      },
      "source": [
        "w, b = model.parameters()"
      ],
      "execution_count": null,
      "outputs": []
    },
    {
      "cell_type": "code",
      "metadata": {
        "id": "IHwacilQtrG7",
        "colab_type": "code",
        "colab": {
          "base_uri": "https://localhost:8080/",
          "height": 312
        },
        "outputId": "2a63528f-0775-4e44-f43f-b041559e4719"
      },
      "source": [
        "plt.plot(X, w.item()*X+b.item(), c=\"r\")\n",
        "plt.scatter(X, y)\n",
        "plt.title(\"Initial Model\")\n",
        "plt.xlabel(\"x\")\n",
        "plt.ylabel(\"y\")"
      ],
      "execution_count": null,
      "outputs": [
        {
          "output_type": "execute_result",
          "data": {
            "text/plain": [
              "Text(0, 0.5, 'y')"
            ]
          },
          "metadata": {
            "tags": []
          },
          "execution_count": 13
        },
        {
          "output_type": "display_data",
          "data": {
            "image/png": "[encoded data removed]",
            "text/plain": [
              "<Figure size 432x288 with 1 Axes>"
            ]
          },
          "metadata": {
            "tags": [],
            "needs_background": "light"
          }
        }
      ]
    },
    {
      "cell_type": "markdown",
      "metadata": {
        "id": "Oe3E08-SGMAw",
        "colab_type": "text"
      },
      "source": [
        "Step No 2.\n",
        "\n",
        "We define our loss function from ``torch.nn`` and our optimizer from ``torch.optim``. \n",
        "\n",
        "Notice that as ``nn.Linear``, a loss function is just another layer function operating on a layer output - simply with no weights stored inside. which puts it in the ``torch.nn`` module.\n",
        "\n",
        "Also notice how an optimizer needs to accept the parameters on which to optimize on. In the example above we chose to include all parameters off the model in the optimizing process. In other scenarios, For example in transfer learning, we would want to limit the parameters to be optimizing on just the last layers and not change the first layers."
      ]
    },
    {
      "cell_type": "code",
      "metadata": {
        "id": "2xuF6BgSns1M",
        "colab_type": "code",
        "colab": {}
      },
      "source": [
        "learning_rate = 0.01\n",
        "n_iters = 100\n",
        "\n",
        "loss = nn.MSELoss()\n",
        "optimizer = torch.optim.SGD(model.parameters(), lr=learning_rate)"
      ],
      "execution_count": null,
      "outputs": []
    },
    {
      "cell_type": "markdown",
      "metadata": {
        "id": "DLcVQdXEGom7",
        "colab_type": "text"
      },
      "source": [
        "Step No 3.\n",
        "\n",
        "Here we perform our training loop.\n",
        "\n",
        "- forward propagation.\n",
        "- computing loss.\n",
        "- back propagation.\n",
        "- parameters update."
      ]
    },
    {
      "cell_type": "code",
      "metadata": {
        "id": "0WbHgpHMrFHP",
        "colab_type": "code",
        "colab": {
          "base_uri": "https://localhost:8080/",
          "height": 357
        },
        "outputId": "6f33969c-5770-4e0e-c4a0-4eff4823629d"
      },
      "source": [
        "for epoch in range(n_iters):\n",
        "    # predict = forward pass with our model\n",
        "    y_predicted = model(X)\n",
        "\n",
        "    # loss\n",
        "    l = loss(y_predicted, y)\n",
        "\n",
        "    # calculate gradients = backward pass\n",
        "    l.backward()\n",
        "\n",
        "    # update weights\n",
        "    optimizer.step()\n",
        "\n",
        "    # zero the gradients after updating\n",
        "    optimizer.zero_grad()\n",
        "\n",
        "    if (epoch+1) % 10 == 0:\n",
        "        w, b = model.parameters()\n",
        "        print('epoch ', epoch+1,' loss = ', l.item())\n"
      ],
      "execution_count": null,
      "outputs": [
        {
          "output_type": "stream",
          "text": [
            "epoch  10  loss =  177.0533447265625\n",
            "epoch  20  loss =  176.6653289794922\n",
            "epoch  30  loss =  176.38275146484375\n",
            "epoch  40  loss =  176.1767578125\n",
            "epoch  50  loss =  176.0266571044922\n",
            "epoch  60  loss =  175.91722106933594\n",
            "epoch  70  loss =  175.83741760253906\n",
            "epoch  80  loss =  175.7792205810547\n",
            "epoch  90  loss =  175.73675537109375\n",
            "epoch  100  loss =  175.7057647705078\n",
            "epoch  110  loss =  175.6831817626953\n",
            "epoch  120  loss =  175.6667022705078\n",
            "epoch  130  loss =  175.65460205078125\n",
            "epoch  140  loss =  175.64584350585938\n",
            "epoch  150  loss =  175.63938903808594\n",
            "epoch  160  loss =  175.63475036621094\n",
            "epoch  170  loss =  175.63128662109375\n",
            "epoch  180  loss =  175.62881469726562\n",
            "epoch  190  loss =  175.62696838378906\n",
            "epoch  200  loss =  175.6256866455078\n"
          ],
          "name": "stdout"
        }
      ]
    },
    {
      "cell_type": "code",
      "metadata": {
        "id": "6-HKQCRHrFKr",
        "colab_type": "code",
        "colab": {}
      },
      "source": [
        "w, b = model.parameters()"
      ],
      "execution_count": null,
      "outputs": []
    },
    {
      "cell_type": "code",
      "metadata": {
        "id": "6KJSWDh2rFNi",
        "colab_type": "code",
        "colab": {
          "base_uri": "https://localhost:8080/",
          "height": 312
        },
        "outputId": "4e52f352-3354-48cf-f18a-0f36db9bf732"
      },
      "source": [
        "plt.plot(X, w.item()*X+b.item(), c=\"r\")\n",
        "plt.scatter(X, y)\n",
        "plt.title(\"Final Model\")\n",
        "plt.xlabel(\"x\")\n",
        "plt.ylabel(\"y\")"
      ],
      "execution_count": null,
      "outputs": [
        {
          "output_type": "execute_result",
          "data": {
            "text/plain": [
              "Text(0, 0.5, 'y')"
            ]
          },
          "metadata": {
            "tags": []
          },
          "execution_count": 23
        },
        {
          "output_type": "display_data",
          "data": {
            "image/png": "[encoded data removed]",
            "text/plain": [
              "<Figure size 432x288 with 1 Axes>"
            ]
          },
          "metadata": {
            "tags": [],
            "needs_background": "light"
          }
        }
      ]
    },
    {
      "cell_type": "markdown",
      "metadata": {
        "id": "-84Y2lymdYm0",
        "colab_type": "text"
      },
      "source": [
        "Try running the training again and examine what happened. Do you expect that to happen?"
      ]
    },
    {
      "cell_type": "markdown",
      "metadata": {
        "id": "c592nR1__vsZ",
        "colab_type": "text"
      },
      "source": [
        "## ✍️  Logistic Regression"
      ]
    },
    {
      "cell_type": "markdown",
      "metadata": {
        "id": "Vp61bcpnPGUj",
        "colab_type": "text"
      },
      "source": [
        "In this section, you ware going to implement logistic regression using pytorch."
      ]
    },
    {
      "cell_type": "markdown",
      "metadata": {
        "id": "cLqmXnU4N2j4",
        "colab_type": "text"
      },
      "source": [
        "A short reminder of logistic regression:\n",
        "\n",
        "Let  $W$ be our parametrs matrix and $b$ our bias.\n",
        "\n",
        "The logistic function is defined by the following formula of the sigmoid function:\n",
        "\n",
        "$\\sigma(x; W,b) = \\frac{1}{1+e^{-(W\\cdot x+b)}}$\n"
      ]
    },
    {
      "cell_type": "markdown",
      "metadata": {
        "id": "KnCugy93ekzB",
        "colab_type": "text"
      },
      "source": [
        "✍️ Step No. 0:\n",
        "\n",
        "Load the data and shape it so you can train a model on it."
      ]
    },
    {
      "cell_type": "code",
      "metadata": {
        "id": "qjCCelGB_104",
        "colab_type": "code",
        "colab": {}
      },
      "source": [
        "bc = datasets.load_breast_cancer()\n",
        "X, y = bc.data, bc.target\n",
        "\n",
        "n_samples, n_features = X.shape\n",
        "\n",
        "### ✍️ Split your data to train set and test set. Use 20% of your data as test.\n",
        "### START CODE HERE ### (1 line of code)\n",
        "X_train, X_test, y_train, y_test = train_test_split(X, y, test_size=0.2, random_state=42)\n",
        "### END CODE HERE ###\n",
        "\n",
        "\n",
        "### ✍️ Scale your data using the StandardScaler.\n",
        "### START CODE HERE ### (~3 lines of code)\n",
        "scaler = StandardScaler()\n",
        "X_train = scaler.fit_transform(X_train)\n",
        "X_test = scaler.transform(X_test)\n",
        "### END CODE HERE ###\n",
        "\n",
        "### ✍️ Transform your data and labels to tensors. \n",
        "### Don't forget to convert their dtype to float32.\n",
        "### START CODE HERE ### (4 lines of code)\n",
        "X_train = torch.from_numpy(X_train.astype(np.float32))\n",
        "X_test = torch.from_numpy(X_test.astype(np.float32))\n",
        "y_train = torch.from_numpy(y_train.astype(np.float32))\n",
        "y_test = torch.from_numpy(y_test.astype(np.float32))\n",
        "### END CODE HERE ###\n",
        "\n",
        "### ✍️ Reshape your lables.\n",
        "### START CODE HERE ### (2 lines of code)\n",
        "y_train = y_train.view(y_train.shape[0], 1)\n",
        "y_test = y_test.view(y_test.shape[0], 1)\n",
        "### END CODE HERE ###\n"
      ],
      "execution_count": null,
      "outputs": []
    },
    {
      "cell_type": "markdown",
      "metadata": {
        "id": "UBe0LDX_k-7V",
        "colab_type": "text"
      },
      "source": [
        "✍️ Step No. 1:\n",
        "\n",
        "Define the LogisticRegression model. (read relevant layers in the nn documentaion)\n",
        "\n",
        "In the ``__init__`` method, define the layer and the activation.\n",
        "\n",
        "In the ``forward`` method, define forward propagartion.\n",
        "\n",
        "Finally, initiate a new LogisticRegression instance."
      ]
    },
    {
      "cell_type": "code",
      "metadata": {
        "id": "zBOujCq4kzWQ",
        "colab_type": "code",
        "colab": {
          "base_uri": "https://localhost:8080/",
          "height": 85
        },
        "outputId": "11acf877-781d-4643-f890-04701c856d14"
      },
      "source": [
        "class LogisticRegression(nn.Module):\n",
        "    def __init__(self, n_input_features):\n",
        "        super(LogisticRegression, self).__init__()\n",
        "        ### START CODE HERE ### (2 lines of code)\n",
        "        self.linear = nn.Linear(n_input_features, 1)\n",
        "        self.sig = nn.Sigmoid()\n",
        "        ### END CODE HERE ###\n",
        "\n",
        "    def forward(self, x):\n",
        "        ### START CODE HERE ### (~1-3 lines of code)\n",
        "        out = self.linear(x)\n",
        "        out = self.sig(out)\n",
        "        return out\n",
        "        ### END CODE HERE ###\n",
        "\n",
        "### START CODE HERE ### (1 line of code)\n",
        "model = LogisticRegression(n_features)\n",
        "### END CODE HERE ###\n",
        "print(model)"
      ],
      "execution_count": null,
      "outputs": [
        {
          "output_type": "stream",
          "text": [
            "LogisticRegression(\n",
            "  (linear): Linear(in_features=30, out_features=1, bias=True)\n",
            "  (sig): Sigmoid()\n",
            ")\n"
          ],
          "name": "stdout"
        }
      ]
    },
    {
      "cell_type": "markdown",
      "metadata": {
        "id": "JTApwLFLsRHC",
        "colab_type": "text"
      },
      "source": [
        "✍️ Step No 2.\n",
        "\n",
        "Now, we define our loss function as the binary cross-entropy loss,\n",
        "\n",
        "and stochastic gradient-descent as our optimization algorithm."
      ]
    },
    {
      "cell_type": "code",
      "metadata": {
        "id": "ctCEZoq_mmgz",
        "colab_type": "code",
        "colab": {}
      },
      "source": [
        "num_epochs = 100\n",
        "learning_rate = 0.01\n",
        "\n",
        "### START CODE HERE ### (2 lines of code)\n",
        "criterion = nn.BCELoss()\n",
        "optimizer = torch.optim.SGD(model.parameters(), lr=learning_rate)\n",
        "### END CODE HERE ###"
      ],
      "execution_count": null,
      "outputs": []
    },
    {
      "cell_type": "markdown",
      "metadata": {
        "id": "yYlGomS5tt7a",
        "colab_type": "text"
      },
      "source": [
        "✍️ Step No 3.\n",
        "\n",
        "Now, we perform our training loop.\n",
        "\n",
        "- forward propagation.\n",
        "- computing loss.\n",
        "- back propagation.\n",
        "- parameters update."
      ]
    },
    {
      "cell_type": "code",
      "metadata": {
        "id": "VFz9m1-yYN1z",
        "colab_type": "code",
        "colab": {
          "base_uri": "https://localhost:8080/",
          "height": 187
        },
        "outputId": "9941d9cf-27ed-40a0-ddb3-1704ed93e2e0"
      },
      "source": [
        "for epoch in range(num_epochs):\n",
        "\n",
        "  ### Forward pass\n",
        "  ### START CODE HERE ### (1 line of code)\n",
        "  y_pred = model(X_train)\n",
        "  ### END CODE HERE ###\n",
        "\n",
        "  ### Loss calculation\n",
        "  ### START CODE HERE ### (1 line of code)\n",
        "  loss = criterion(y_pred, y_train)\n",
        "  ### END CODE HERE ###\n",
        "\n",
        "  ### Backward pass\n",
        "  ### START CODE HERE ### (3 lines of code)\n",
        "  loss.backward()\n",
        "  optimizer.step()\n",
        "  optimizer.zero_grad()\n",
        "  ### END CODE HERE ###\n",
        "\n",
        "  ### Print loss every 10 epochs\n",
        "  ### START CODE HERE ### (2 lines of code)\n",
        "  if (epoch+1) % 10 == 0:\n",
        "    print(f'epoch: {epoch+1}, loss = {loss.item():.4f}')\n",
        "  ### END CODE HERE ###"
      ],
      "execution_count": null,
      "outputs": [
        {
          "output_type": "stream",
          "text": [
            "epoch: 10, loss = 0.7302\n",
            "epoch: 20, loss = 0.5709\n",
            "epoch: 30, loss = 0.4795\n",
            "epoch: 40, loss = 0.4210\n",
            "epoch: 50, loss = 0.3799\n",
            "epoch: 60, loss = 0.3493\n",
            "epoch: 70, loss = 0.3253\n",
            "epoch: 80, loss = 0.3059\n",
            "epoch: 90, loss = 0.2898\n",
            "epoch: 100, loss = 0.2762\n"
          ],
          "name": "stdout"
        }
      ]
    },
    {
      "cell_type": "markdown",
      "metadata": {
        "id": "svP4MtRy0RAp",
        "colab_type": "text"
      },
      "source": [
        "✍️ Finally, We must check how our model perforn on the test set.\n",
        "\n",
        "In this part we make a forward pass, however, we don't want the gradient to be calculated."
      ]
    },
    {
      "cell_type": "code",
      "metadata": {
        "id": "RGGrV4aSYOP6",
        "colab_type": "code",
        "colab": {
          "base_uri": "https://localhost:8080/",
          "height": 34
        },
        "outputId": "5b010a81-bc37-43ea-dc1b-6a74187ea2f5"
      },
      "source": [
        "### Compute the test accuracy. \n",
        "### Use 0.5 as the classification border, samples with sigmoid result greater\n",
        "### or equal to 0.5 will be classified as class 1, \n",
        "### and all the others will be classifies as class 0.\n",
        "### START CODE HERE ### (~5 lines of code)\n",
        "with torch.no_grad():\n",
        "    y_predicted = model(X_test)\n",
        "    y_predicted_cls = y_predicted.round()\n",
        "    acc = y_predicted_cls.eq(y_test).sum() / float(y_test.shape[0])\n",
        "    print(f'accuracy: {acc.item():.4f}')\n",
        "### END CODE HERE ###"
      ],
      "execution_count": null,
      "outputs": [
        {
          "output_type": "stream",
          "text": [
            "accuracy: 0.9737\n"
          ],
          "name": "stdout"
        }
      ]
    },
    {
      "cell_type": "markdown",
      "metadata": {
        "id": "9lWfOt4J_3Va",
        "colab_type": "text"
      },
      "source": [
        "## Dataset and DataLoader"
      ]
    },
    {
      "cell_type": "markdown",
      "metadata": {
        "id": "C3RQHq5SHDyN",
        "colab_type": "text"
      },
      "source": [
        "As You probably saw in Andrew's course,\n",
        "the gradient computation is not efficient for the whole data set.\n",
        "\n",
        "Therefore, we divide the dataset into small batches, and compute the gradient on each batch."
      ]
    },
    {
      "cell_type": "markdown",
      "metadata": {
        "id": "g3xcskOxHnP3",
        "colab_type": "text"
      },
      "source": [
        "A short reminder about the defenitions regarding this part:\n",
        "- epoch - one forward and backward pass of ALL training samples.\n",
        "- batch_size - number of training samples used in one forward/backward pass.\n",
        "- number of iterations - number of passes, each pass (forward+backward) using #batch_size number of sampes.\n",
        "\n",
        "e.g : 100 samples, batch_size=20 -> 100/20=5 iterations for 1 epoch.\n",
        "\n",
        "\n",
        "\n"
      ]
    },
    {
      "cell_type": "markdown",
      "metadata": {
        "id": "NRjFq-LvTREl",
        "colab_type": "text"
      },
      "source": [
        "As explained above it might be a good idea to an object representing a Dataset to so we can feed the model in training time.\n",
        "\n",
        "In order to implement such a Dataset, we will inherit the class ``Dataset`` of pytorch.\n",
        "\n",
        "We will implement the following methods: ``__init__``, ``__getitem__`` , and ``__len__``,\n",
        "\n",
        "using the scikit-learn wine dataset."
      ]
    },
    {
      "cell_type": "code",
      "metadata": {
        "id": "qUn0SOxd_66l",
        "colab_type": "code",
        "colab": {}
      },
      "source": [
        "class WineDataset(Dataset):\n",
        "\n",
        "    def __init__(self):\n",
        "        data = datasets.load_wine(return_X_y=True)\n",
        "        self.n_samples = len(data[1])\n",
        "\n",
        "        self.x_data = torch.from_numpy(data[0])\n",
        "        self.y_data = torch.from_numpy(data[1]) \n",
        "\n",
        "    # support indexing such that dataset[i] can be used to get i-th sample\n",
        "    def __getitem__(self, index):\n",
        "        return self.x_data[index], self.y_data[index]\n",
        "\n",
        "    # we can call len(dataset) to return the size\n",
        "    def __len__(self):\n",
        "        return self.n_samples\n",
        "\n",
        "\n",
        "# create dataset\n",
        "dataset = WineDataset()"
      ],
      "execution_count": null,
      "outputs": []
    },
    {
      "cell_type": "markdown",
      "metadata": {
        "id": "dfSBV-rXVYhD",
        "colab_type": "text"
      },
      "source": [
        "Now, let's see that we can get the first sample:"
      ]
    },
    {
      "cell_type": "code",
      "metadata": {
        "id": "ux3zQCxtVSg9",
        "colab_type": "code",
        "colab": {
          "base_uri": "https://localhost:8080/",
          "height": 85
        },
        "outputId": "c3cf42ec-cb49-4bce-b2cd-606770d724d2"
      },
      "source": [
        "first_data = dataset[0]\n",
        "features, labels = first_data\n",
        "print(features, \"\\n\", labels)"
      ],
      "execution_count": null,
      "outputs": [
        {
          "output_type": "stream",
          "text": [
            "tensor([1.4230e+01, 1.7100e+00, 2.4300e+00, 1.5600e+01, 1.2700e+02, 2.8000e+00,\n",
            "        3.0600e+00, 2.8000e-01, 2.2900e+00, 5.6400e+00, 1.0400e+00, 3.9200e+00,\n",
            "        1.0650e+03], dtype=torch.float64) \n",
            " tensor(0)\n"
          ],
          "name": "stdout"
        }
      ]
    },
    {
      "cell_type": "markdown",
      "metadata": {
        "id": "Sx4xARqVVCsH",
        "colab_type": "text"
      },
      "source": [
        "Once we defined our ``Dataset`` object we can use the already implemented ``DataLoader`` class wraping the ``Dataset`` object with batching skills and more.\n",
        "\n",
        "The main aim of the ``DataLoader`` is to provide us a convinient way to iterate through the batches of our dataset.\n",
        "\n"
      ]
    },
    {
      "cell_type": "code",
      "metadata": {
        "id": "tSsyXPuZVC4u",
        "colab_type": "code",
        "colab": {}
      },
      "source": [
        "data_loader = DataLoader(dataset=dataset,\n",
        "                          batch_size=5,\n",
        "                          shuffle=True,\n",
        "                          num_workers=2)"
      ],
      "execution_count": null,
      "outputs": []
    },
    {
      "cell_type": "markdown",
      "metadata": {
        "id": "ALJMBrR-bNRB",
        "colab_type": "text"
      },
      "source": [
        "We have just defined our data loader,\n",
        "\n",
        "now, let's convert it to an iterator and look at one random sample."
      ]
    },
    {
      "cell_type": "code",
      "metadata": {
        "id": "0EyzOR5KVC7l",
        "colab_type": "code",
        "colab": {
          "base_uri": "https://localhost:8080/",
          "height": 289
        },
        "outputId": "0326b29b-037c-41bc-f04d-ccf5fa9a0f08"
      },
      "source": [
        "dataiter = iter(data_loader)\n",
        "data = dataiter.next()\n",
        "features, labels = data\n",
        "print(features, \"\\n\", labels)"
      ],
      "execution_count": null,
      "outputs": [
        {
          "output_type": "stream",
          "text": [
            "tensor([[1.4390e+01, 1.8700e+00, 2.4500e+00, 1.4600e+01, 9.6000e+01, 2.5000e+00,\n",
            "         2.5200e+00, 3.0000e-01, 1.9800e+00, 5.2500e+00, 1.0200e+00, 3.5800e+00,\n",
            "         1.2900e+03],\n",
            "        [1.3780e+01, 2.7600e+00, 2.3000e+00, 2.2000e+01, 9.0000e+01, 1.3500e+00,\n",
            "         6.8000e-01, 4.1000e-01, 1.0300e+00, 9.5800e+00, 7.0000e-01, 1.6800e+00,\n",
            "         6.1500e+02],\n",
            "        [1.1450e+01, 2.4000e+00, 2.4200e+00, 2.0000e+01, 9.6000e+01, 2.9000e+00,\n",
            "         2.7900e+00, 3.2000e-01, 1.8300e+00, 3.2500e+00, 8.0000e-01, 3.3900e+00,\n",
            "         6.2500e+02],\n",
            "        [1.3390e+01, 1.7700e+00, 2.6200e+00, 1.6100e+01, 9.3000e+01, 2.8500e+00,\n",
            "         2.9400e+00, 3.4000e-01, 1.4500e+00, 4.8000e+00, 9.2000e-01, 3.2200e+00,\n",
            "         1.1950e+03],\n",
            "        [1.1660e+01, 1.8800e+00, 1.9200e+00, 1.6000e+01, 9.7000e+01, 1.6100e+00,\n",
            "         1.5700e+00, 3.4000e-01, 1.1500e+00, 3.8000e+00, 1.2300e+00, 2.1400e+00,\n",
            "         4.2800e+02]], dtype=torch.float64) \n",
            " tensor([0, 2, 1, 0, 1])\n"
          ],
          "name": "stdout"
        }
      ]
    },
    {
      "cell_type": "markdown",
      "metadata": {
        "id": "SA1zs4OyXikV",
        "colab_type": "text"
      },
      "source": [
        "✍️ Iterate through the batches of the dataset.\n",
        "For each batch print how much samples it has from each class."
      ]
    },
    {
      "cell_type": "code",
      "metadata": {
        "id": "EvjJQWFwXMQj",
        "colab_type": "code",
        "colab": {
          "base_uri": "https://localhost:8080/",
          "height": 629
        },
        "outputId": "eb7de328-4cf9-4ec1-db81-2cf9eca620ca"
      },
      "source": [
        "### START CODE HERE ### (~5 lines of code)\n",
        "for i, (inputs, labels) in enumerate(data_loader):\n",
        "  class_0 = sum(labels == 0).item()\n",
        "  class_1 = sum(labels == 1).item()\n",
        "  class_2 = sum(labels == 2).item()\n",
        "\n",
        "  print(f'In batch {i+1}: class 0 : {class_0},  class 1: {class_1},  class 2 : {class_2}')\n",
        "### END CODE HERE ###"
      ],
      "execution_count": null,
      "outputs": [
        {
          "output_type": "stream",
          "text": [
            "In batch 1: class 0 : 3,  class 1: 1,  class 2 : 1\n",
            "In batch 2: class 0 : 3,  class 1: 1,  class 2 : 1\n",
            "In batch 3: class 0 : 0,  class 1: 5,  class 2 : 0\n",
            "In batch 4: class 0 : 3,  class 1: 1,  class 2 : 1\n",
            "In batch 5: class 0 : 3,  class 1: 1,  class 2 : 1\n",
            "In batch 6: class 0 : 2,  class 1: 0,  class 2 : 3\n",
            "In batch 7: class 0 : 1,  class 1: 2,  class 2 : 2\n",
            "In batch 8: class 0 : 1,  class 1: 3,  class 2 : 1\n",
            "In batch 9: class 0 : 1,  class 1: 3,  class 2 : 1\n",
            "In batch 10: class 0 : 1,  class 1: 4,  class 2 : 0\n",
            "In batch 11: class 0 : 1,  class 1: 2,  class 2 : 2\n",
            "In batch 12: class 0 : 1,  class 1: 2,  class 2 : 2\n",
            "In batch 13: class 0 : 1,  class 1: 0,  class 2 : 4\n",
            "In batch 14: class 0 : 3,  class 1: 1,  class 2 : 1\n",
            "In batch 15: class 0 : 1,  class 1: 2,  class 2 : 2\n",
            "In batch 16: class 0 : 0,  class 1: 3,  class 2 : 2\n",
            "In batch 17: class 0 : 0,  class 1: 3,  class 2 : 2\n",
            "In batch 18: class 0 : 3,  class 1: 1,  class 2 : 1\n",
            "In batch 19: class 0 : 2,  class 1: 3,  class 2 : 0\n",
            "In batch 20: class 0 : 1,  class 1: 2,  class 2 : 2\n",
            "In batch 21: class 0 : 1,  class 1: 3,  class 2 : 1\n",
            "In batch 22: class 0 : 2,  class 1: 2,  class 2 : 1\n",
            "In batch 23: class 0 : 2,  class 1: 3,  class 2 : 0\n",
            "In batch 24: class 0 : 3,  class 1: 2,  class 2 : 0\n",
            "In batch 25: class 0 : 1,  class 1: 3,  class 2 : 1\n",
            "In batch 26: class 0 : 1,  class 1: 2,  class 2 : 2\n",
            "In batch 27: class 0 : 2,  class 1: 1,  class 2 : 2\n",
            "In batch 28: class 0 : 2,  class 1: 0,  class 2 : 3\n",
            "In batch 29: class 0 : 3,  class 1: 2,  class 2 : 0\n",
            "In batch 30: class 0 : 2,  class 1: 3,  class 2 : 0\n",
            "In batch 31: class 0 : 2,  class 1: 2,  class 2 : 1\n",
            "In batch 32: class 0 : 2,  class 1: 2,  class 2 : 1\n",
            "In batch 33: class 0 : 1,  class 1: 1,  class 2 : 3\n",
            "In batch 34: class 0 : 2,  class 1: 2,  class 2 : 1\n",
            "In batch 35: class 0 : 2,  class 1: 2,  class 2 : 1\n",
            "In batch 36: class 0 : 0,  class 1: 1,  class 2 : 2\n"
          ],
          "name": "stdout"
        }
      ]
    },
    {
      "cell_type": "markdown",
      "metadata": {
        "id": "tMPdPmMDZMZH",
        "colab_type": "text"
      },
      "source": [
        "This exercise purpose is to let you find on your own the best and most convinient way to write the ``for`` loop command that iterate througt the batches."
      ]
    },
    {
      "cell_type": "markdown",
      "metadata": {
        "id": "rWwEpMST_7c6",
        "colab_type": "text"
      },
      "source": [
        "## Transformers"
      ]
    },
    {
      "cell_type": "markdown",
      "metadata": {
        "id": "dGJQsNAiE2u4",
        "colab_type": "text"
      },
      "source": [
        "Transforms can be applied to PIL images, tensors, ndarrays, or custom data\n",
        "during creation of the DataSet.\n",
        "\n",
        "You can find the complete list of built-in transforms here: \n",
        "https://pytorch.org/docs/stable/torchvision/transforms.html\n",
        "\n",
        "Usually, transformers are sent while initializing the dataset as an optional paramrter.\n",
        "Then the transform, if it exists, is being operated in the ``__getitem__`` method. \n",
        "\n",
        "In this way one can use transformers to delay some pre-process to realtime or make the pre-process depend on the batch itself. \n",
        "But mainly this is used to do augmentaions that varies with every iteration, and has an intrinsic randomness. We will see some examples in this chapter."
      ]
    },
    {
      "cell_type": "markdown",
      "metadata": {
        "id": "DgBtHp2cE-aq",
        "colab_type": "text"
      },
      "source": [
        "Some common transforms which you can find implemented in ``torchvision.transforms``:\n",
        "\n",
        "\n",
        "- On Images:\n",
        "\n",
        "> CenterCrop, Grayscale, Pad, RandomAffine, RandomCrop, RandomHorizontalFlip, RandomRotation, Resize, Scale.\n",
        "\n",
        "\n",
        "\n",
        "- On Tensors:\n",
        "\n",
        "> LinearTransformation, Normalize, RandomErasing.\n",
        "\n",
        "- Conversion:\n",
        "\n",
        "> ToPILImage: from tensor or ndrarray.\n",
        "\n",
        "> ToTensor : from numpy.ndarray or PILImage.\n",
        "\n",
        "- Custom:\n",
        "\n",
        "> Write your own class."
      ]
    },
    {
      "cell_type": "code",
      "metadata": {
        "id": "qpglC4AHbrvW",
        "colab_type": "code",
        "colab": {}
      },
      "source": [
        "class LinearData(Dataset):\n",
        "  \n",
        "  def __init__(self, n_samples=100, transform=None):\n",
        "    X,y = datasets.make_regression(n_samples=n_samples,\n",
        "                                   n_features=1,\n",
        "                                   noise=15,\n",
        "                                   random_state=42)   \n",
        "    self.x = X\n",
        "    self.y = y.reshape((n_samples, -1))\n",
        "    self.n_samples = n_samples\n",
        "    self.transform = transform\n",
        "\n",
        "  def __getitem__(self, index):\n",
        "    sample = self.x[index], self.y[index]\n",
        "    if self.transform:\n",
        "      sample = self.transform(sample)\n",
        "    return sample\n",
        "\n",
        "  def __len__(self):\n",
        "    return self.n_samples\n"
      ],
      "execution_count": null,
      "outputs": []
    },
    {
      "cell_type": "code",
      "metadata": {
        "id": "rDyIX-J6Nd1w",
        "colab_type": "code",
        "colab": {}
      },
      "source": [
        "class ToFloat32:\n",
        "    def __call__(self, sample):\n",
        "        inputs, targets = sample\n",
        "        return inputs.astype(\"float32\"), targets.astype(\"float32\")"
      ],
      "execution_count": null,
      "outputs": []
    },
    {
      "cell_type": "code",
      "metadata": {
        "id": "s-Kg-fdpPV4_",
        "colab_type": "code",
        "colab": {
          "base_uri": "https://localhost:8080/",
          "height": 102
        },
        "outputId": "a69e3402-99b3-41a2-cf77-1bb241820b72"
      },
      "source": [
        "print('Without transform:')\n",
        "dataset = LinearData(n_samples=500)\n",
        "features, labels = dataset[0]\n",
        "print(features.dtype, labels.dtype, \"\\n\")\n",
        "\n",
        "print('With transform to float32:')\n",
        "dataset = LinearData(n_samples=500, transform=ToFloat32())\n",
        "features, labels = dataset[0]\n",
        "print(features.dtype, labels.dtype)"
      ],
      "execution_count": null,
      "outputs": [
        {
          "output_type": "stream",
          "text": [
            "Without transform:\n",
            "float64 float64 \n",
            "\n",
            "With transform to float32:\n",
            "float32 float32\n"
          ],
          "name": "stdout"
        }
      ]
    },
    {
      "cell_type": "markdown",
      "metadata": {
        "id": "6zp1hiSkOz2s",
        "colab_type": "text"
      },
      "source": [
        "✍️ Implement ToTensor transform.\n",
        "\n",
        "  Show that your transform works."
      ]
    },
    {
      "cell_type": "code",
      "metadata": {
        "id": "1BscvwvbMbw2",
        "colab_type": "code",
        "colab": {}
      },
      "source": [
        "### START CODE HERE ### (~4 lines of code)\n",
        "class ToTensor:\n",
        "  def __call__(self, sample):\n",
        "    inputs, targets = sample\n",
        "    return torch.from_numpy(inputs), torch.from_numpy(targets)\n",
        "### END CODE HERE ###  "
      ],
      "execution_count": null,
      "outputs": []
    },
    {
      "cell_type": "code",
      "metadata": {
        "id": "uNBATEPxRsZe",
        "colab_type": "code",
        "colab": {
          "base_uri": "https://localhost:8080/",
          "height": 102
        },
        "outputId": "af23603b-2b75-4113-b38b-b4e835b2cacc"
      },
      "source": [
        "### START CODE HERE ### (~8 lines of code)\n",
        "print('Without transform:')\n",
        "dataset = LinearData(n_samples=500)\n",
        "features, labels = dataset[0]\n",
        "print(type(features), type(labels), \"\\n\")\n",
        "\n",
        "print('With tensor transform:')\n",
        "dataset = LinearData(n_samples=500, transform=ToTensor())\n",
        "features, labels = dataset[0]\n",
        "print(type(features), type(labels))\n",
        "### END CODE HERE ###  "
      ],
      "execution_count": null,
      "outputs": [
        {
          "output_type": "stream",
          "text": [
            "Without transform:\n",
            "<class 'numpy.ndarray'> <class 'numpy.ndarray'> \n",
            "\n",
            "With tensor transform:\n",
            "<class 'torch.Tensor'> <class 'torch.Tensor'>\n"
          ],
          "name": "stdout"
        }
      ]
    },
    {
      "cell_type": "markdown",
      "metadata": {
        "id": "UF7QvPTgUSBO",
        "colab_type": "text"
      },
      "source": [
        "✍️ Implement MulTransform. This transformer have to get a factor and multiply the labels with this given factor."
      ]
    },
    {
      "cell_type": "code",
      "metadata": {
        "id": "pZoy8D8jtL55",
        "colab_type": "code",
        "colab": {}
      },
      "source": [
        "### START CODE HERE ### (~7 lines of code)\n",
        "class MulTransform:\n",
        "    def __init__(self, factor):\n",
        "        self.factor = factor\n",
        "\n",
        "    def __call__(self, sample):\n",
        "        input, target = sample\n",
        "        target *= self.factor\n",
        "        return input, target\n",
        "### END CODE HERE ###  "
      ],
      "execution_count": null,
      "outputs": []
    },
    {
      "cell_type": "markdown",
      "metadata": {
        "id": "U4cjLfrBudsO",
        "colab_type": "text"
      },
      "source": [
        "✍️ Now, after we have built 3 transformers, let's compose them.\n",
        "\n",
        "Using ``torchvision.transforms`` documentation, write code which compose the above transformers.\n",
        "\n",
        "Your transform have to convert a numpy array to tensor of type float32 and multiply the labels of the data by 4. Show your code works. "
      ]
    },
    {
      "cell_type": "code",
      "metadata": {
        "id": "q5TSfEXzipM3",
        "colab_type": "code",
        "colab": {
          "base_uri": "https://localhost:8080/",
          "height": 312
        },
        "outputId": "4d2d1b68-8a2e-42a0-9f2d-485567f9ab6b"
      },
      "source": [
        "### START CODE HERE ### (~12 lines of code)\n",
        "composed = torchvision.transforms.Compose([ToFloat32(), ToTensor(), MulTransform(4)])\n",
        "plt.figure()\n",
        "\n",
        "for transform, title in zip([None, composed], [\"Without transform\", \"With transform\"]):\n",
        "  dataset = LinearData(n_samples=500, transform=transform)\n",
        "  xs , ys = [], []\n",
        "  for i in range(len(dataset)):\n",
        "    xs.append(dataset[i][0].item())\n",
        "    ys.append(dataset[i][1].item())\n",
        "  plt.scatter(xs, ys, label = title)\n",
        "  \n",
        "plt.legend()\n",
        "plt.xlabel(\"x\")\n",
        "plt.ylabel(\"y\")\n",
        "plt.title(\"Linear dataset\")\n",
        "### END CODE HERE ###  "
      ],
      "execution_count": null,
      "outputs": [
        {
          "output_type": "execute_result",
          "data": {
            "text/plain": [
              "Text(0.5, 1.0, 'Linear dataset')"
            ]
          },
          "metadata": {
            "tags": []
          },
          "execution_count": 41
        },
        {
          "output_type": "display_data",
          "data": {
            "image/png": "[encoded data removed]",
            "text/plain": [
              "<Figure size 432x288 with 1 Axes>"
            ]
          },
          "metadata": {
            "tags": [],
            "needs_background": "light"
          }
        }
      ]
    },
    {
      "cell_type": "markdown",
      "metadata": {
        "id": "6PFQSPImABS5",
        "colab_type": "text"
      },
      "source": [
        "## ✍️ Feed-Forward Neural Network"
      ]
    },
    {
      "cell_type": "markdown",
      "metadata": {
        "id": "5BRD8u16Ilkw",
        "colab_type": "text"
      },
      "source": [
        "In this chapter you will write your first nueral network on your own!"
      ]
    },
    {
      "cell_type": "markdown",
      "metadata": {
        "id": "jCoAIHTZIwB4",
        "colab_type": "text"
      },
      "source": [
        "In this task we will use the well known MNIST dataset. Remember that this is a multiclass classification problem! \n",
        "\n",
        "Our nueral network will have 1 hidden layers."
      ]
    },
    {
      "cell_type": "markdown",
      "metadata": {
        "id": "kuyGTaAJKTpW",
        "colab_type": "text"
      },
      "source": [
        "At first, let's define some hyper-parameters:"
      ]
    },
    {
      "cell_type": "code",
      "metadata": {
        "id": "2TQRxHOieXbb",
        "colab_type": "code",
        "colab": {
          "base_uri": "https://localhost:8080/",
          "height": 34
        },
        "outputId": "09a2e6b2-14c4-4ebd-dc05-5f942f2af485"
      },
      "source": [
        "### Delete this cell with solutions!\n",
        "device = torch.device('cuda' if torch.cuda.is_available() else 'cpu')\n",
        "# device = torch.device('cpu')\n",
        "print(device)"
      ],
      "execution_count": null,
      "outputs": [
        {
          "output_type": "stream",
          "text": [
            "cuda\n"
          ],
          "name": "stdout"
        }
      ]
    },
    {
      "cell_type": "code",
      "metadata": {
        "id": "pF4N-TlMvl5m",
        "colab_type": "code",
        "colab": {}
      },
      "source": [
        "input_size = 784 # 28x28\n",
        "hidden_size = 240 \n",
        "num_classes = 10\n",
        "num_epochs = 2\n",
        "batch_size = 100\n",
        "learning_rate = 0.001"
      ],
      "execution_count": null,
      "outputs": []
    },
    {
      "cell_type": "markdown",
      "metadata": {
        "id": "gMz8FcVRKfaF",
        "colab_type": "text"
      },
      "source": [
        "Now, we define our dataset and dataloader for both the train and test set:"
      ]
    },
    {
      "cell_type": "code",
      "metadata": {
        "id": "4nIJqHPsvM5Q",
        "colab_type": "code",
        "colab": {
          "base_uri": "https://localhost:8080/",
          "height": 369,
          "referenced_widgets": [
            "13ee488ac87d4ca08ca65c52007b9a45",
            "13fb20cbc4ec498cb3647cb8bc5636e6",
            "db1a520d33ec492cafc7c4bef5ac0b4d",
            "e61e6d62807a4d98aa02ec9efce34385",
            "1a1a983a94054905bb11a17b63849a42",
            "7be10f41d44a494d9f7b505defdddecd",
            "c3f755f2031140a58703ca96f2aba0c1",
            "c622970aa21d4950a22211d471ab0c37",
            "c6526d53f38f4e18a2f05d10ed235b71",
            "1e316fe196364204a40b6086aa138042",
            "bf5a42a74d2649819101e76e175be5b0",
            "374216a3626e44b6aaa31635e7e4463f",
            "c6d6eb302b6641639f9e23d1c85e718b",
            "55b895b1eb4540b3b85657182e7b2d3d",
            "e7745844a9d74fd5a9f081921359e78d",
            "c719772f047d4b7dafc1d70a5d24b3f7",
            "058ddde9299f4ad48eb342d6c9ebf8e5",
            "df392a622edf4fddbc3a191df64e0716",
            "1948a4f92b834db3a2815fa21f42d09e",
            "563eee532e3c42a692c7982427b86b45",
            "c623591cb7a14d1eacaedf0e448d0dcb",
            "f7761dd859d44fbbb49e0e42ca1ee8a8",
            "e22d257c1f9f441c85ac955e45747e94",
            "3cf21db7920442a9b00e9fc29b080a7f",
            "c619812fdeb640809c699c56b87198f6",
            "612439a0c2a74fac89324226f1d7ff33",
            "ba16954260ee49d186433e63b60f3757",
            "905c9c03e2fb4e578b485676729e8a74",
            "8468b21b37584ea6a88794352c548154",
            "cb166b52b45f40188d4ff158ff1e9ff4",
            "f4aa2f9b38274399b79e1cde38002e5a",
            "dd1aadb71d6a4025aa1c3c5ef939a66e"
          ]
        },
        "outputId": "6c9ec1e4-cb4f-451c-faed-ceb1e39311ec"
      },
      "source": [
        "\n",
        "train_dataset = torchvision.datasets.MNIST(root='./data', \n",
        "                                           train=True, \n",
        "                                          transform=torchvision.transforms.ToTensor(),  \n",
        "                                           download=True)\n",
        "\n",
        "test_dataset = torchvision.datasets.MNIST(root='./data', \n",
        "                                          train=False, \n",
        "                                          transform=torchvision.transforms.ToTensor())\n",
        "\n",
        "\n",
        "train_loader = torch.utils.data.DataLoader(dataset=train_dataset, \n",
        "                                           batch_size=batch_size, \n",
        "                                           shuffle=True)\n",
        "\n",
        "test_loader = torch.utils.data.DataLoader(dataset=test_dataset, \n",
        "                                          batch_size=batch_size, \n",
        "                                          shuffle=False)"
      ],
      "execution_count": null,
      "outputs": [
        {
          "output_type": "stream",
          "text": [
            "Downloading http://yann.lecun.com/exdb/mnist/train-images-idx3-ubyte.gz to ./data/MNIST/raw/train-images-idx3-ubyte.gz\n"
          ],
          "name": "stdout"
        },
        {
          "output_type": "display_data",
          "data": {
            "application/vnd.jupyter.widget-view+json": {
              "model_id": "13ee488ac87d4ca08ca65c52007b9a45",
              "version_minor": 0,
              "version_major": 2
            },
            "text/plain": [
              "HBox(children=(FloatProgress(value=1.0, bar_style='info', max=1.0), HTML(value='')))"
            ]
          },
          "metadata": {
            "tags": []
          }
        },
        {
          "output_type": "stream",
          "text": [
            "Extracting ./data/MNIST/raw/train-images-idx3-ubyte.gz to ./data/MNIST/raw\n",
            "Downloading http://yann.lecun.com/exdb/mnist/train-labels-idx1-ubyte.gz to ./data/MNIST/raw/train-labels-idx1-ubyte.gz\n",
            "\n"
          ],
          "name": "stdout"
        },
        {
          "output_type": "display_data",
          "data": {
            "application/vnd.jupyter.widget-view+json": {
              "model_id": "c6526d53f38f4e18a2f05d10ed235b71",
              "version_minor": 0,
              "version_major": 2
            },
            "text/plain": [
              "HBox(children=(FloatProgress(value=1.0, bar_style='info', max=1.0), HTML(value='')))"
            ]
          },
          "metadata": {
            "tags": []
          }
        },
        {
          "output_type": "stream",
          "text": [
            "Extracting ./data/MNIST/raw/train-labels-idx1-ubyte.gz to ./data/MNIST/raw\n",
            "Downloading http://yann.lecun.com/exdb/mnist/t10k-images-idx3-ubyte.gz to ./data/MNIST/raw/t10k-images-idx3-ubyte.gz\n"
          ],
          "name": "stdout"
        },
        {
          "output_type": "display_data",
          "data": {
            "application/vnd.jupyter.widget-view+json": {
              "model_id": "058ddde9299f4ad48eb342d6c9ebf8e5",
              "version_minor": 0,
              "version_major": 2
            },
            "text/plain": [
              "HBox(children=(FloatProgress(value=1.0, bar_style='info', max=1.0), HTML(value='')))"
            ]
          },
          "metadata": {
            "tags": []
          }
        },
        {
          "output_type": "stream",
          "text": [
            "Extracting ./data/MNIST/raw/t10k-images-idx3-ubyte.gz to ./data/MNIST/raw\n",
            "Downloading http://yann.lecun.com/exdb/mnist/t10k-labels-idx1-ubyte.gz to ./data/MNIST/raw/t10k-labels-idx1-ubyte.gz\n"
          ],
          "name": "stdout"
        },
        {
          "output_type": "display_data",
          "data": {
            "application/vnd.jupyter.widget-view+json": {
              "model_id": "c619812fdeb640809c699c56b87198f6",
              "version_minor": 0,
              "version_major": 2
            },
            "text/plain": [
              "HBox(children=(FloatProgress(value=1.0, bar_style='info', max=1.0), HTML(value='')))"
            ]
          },
          "metadata": {
            "tags": []
          }
        },
        {
          "output_type": "stream",
          "text": [
            "Extracting ./data/MNIST/raw/t10k-labels-idx1-ubyte.gz to ./data/MNIST/raw\n",
            "Processing...\n",
            "Done!\n"
          ],
          "name": "stdout"
        },
        {
          "output_type": "stream",
          "text": [
            "/pytorch/torch/csrc/utils/tensor_numpy.cpp:141: UserWarning: The given NumPy array is not writeable, and PyTorch does not support non-writeable tensors. This means you can write to the underlying (supposedly non-writeable) NumPy array using the tensor. You may want to copy the array to protect its data or make it writeable before converting it to a tensor. This type of warning will be suppressed for the rest of this program.\n"
          ],
          "name": "stderr"
        }
      ]
    },
    {
      "cell_type": "markdown",
      "metadata": {
        "id": "ffhQDIHUKtS6",
        "colab_type": "text"
      },
      "source": [
        "✍️ Define your nueral network class. Use ReLU as your activation."
      ]
    },
    {
      "cell_type": "code",
      "metadata": {
        "id": "mN3Z5pljvdcH",
        "colab_type": "code",
        "colab": {}
      },
      "source": [
        "### START CODE HERE ### (~12 lines of code)\n",
        "class NeuralNet(nn.Module):\n",
        "    def __init__(self, input_size, hidden_size, num_classes):\n",
        "        super(NeuralNet, self).__init__()\n",
        "        self.input_size = input_size\n",
        "        self.l1 = nn.Linear(input_size, hidden_size) \n",
        "        self.relu = nn.ReLU()\n",
        "        self.l2 = nn.Linear(hidden_size, num_classes)  \n",
        "    \n",
        "    def forward(self, x):\n",
        "        out = self.l1(x)\n",
        "        out = self.relu(out)\n",
        "        out = self.l2(out)\n",
        "        return out\n",
        "### END CODE HERE ###  "
      ],
      "execution_count": null,
      "outputs": []
    },
    {
      "cell_type": "markdown",
      "metadata": {
        "id": "HQEJD-QGLJ_G",
        "colab_type": "text"
      },
      "source": [
        "✍️ Initialize your model with the above hyper-parameters. "
      ]
    },
    {
      "cell_type": "code",
      "metadata": {
        "id": "kMICh4D1FAqH",
        "colab_type": "code",
        "colab": {
          "base_uri": "https://localhost:8080/",
          "height": 102
        },
        "outputId": "62856073-f345-43b2-d986-3419b1ab7fa3"
      },
      "source": [
        "### START CODE HERE ### (~1 line of code)\n",
        "model = NeuralNet(input_size, hidden_size, num_classes).to(device)\n",
        "print(model)\n",
        "### END CODE HERE ###  "
      ],
      "execution_count": null,
      "outputs": [
        {
          "output_type": "stream",
          "text": [
            "NeuralNet(\n",
            "  (l1): Linear(in_features=784, out_features=240, bias=True)\n",
            "  (relu): ReLU()\n",
            "  (l2): Linear(in_features=240, out_features=10, bias=True)\n",
            ")\n"
          ],
          "name": "stdout"
        }
      ]
    },
    {
      "cell_type": "markdown",
      "metadata": {
        "id": "f_ODwLF6Lc8v",
        "colab_type": "text"
      },
      "source": [
        "✍️ Define the loss (which one should you choose? check the documentation and read it deeply! Fix your model definition if needed.) and use SGD as your optimization algorithm."
      ]
    },
    {
      "cell_type": "code",
      "metadata": {
        "id": "r1_cW9A9FBxO",
        "colab_type": "code",
        "colab": {}
      },
      "source": [
        "### START CODE HERE ### (2 lines of code)\n",
        "criterion = nn.CrossEntropyLoss()\n",
        "optimizer = torch.optim.SGD(model.parameters(), lr=learning_rate)  \n",
        "### END CODE HERE ###  "
      ],
      "execution_count": null,
      "outputs": []
    },
    {
      "cell_type": "markdown",
      "metadata": {
        "id": "c3CyAywlM-Ul",
        "colab_type": "text"
      },
      "source": [
        "✍️ Write the training loop:"
      ]
    },
    {
      "cell_type": "code",
      "metadata": {
        "id": "tOfQgs7_FGkO",
        "colab_type": "code",
        "colab": {
          "base_uri": "https://localhost:8080/",
          "height": 221
        },
        "outputId": "bebb1041-a014-41e2-9c2a-f579955ffdc4"
      },
      "source": [
        "start = time.time()\n",
        "\n",
        "### START CODE HERE ### (~10 lines of code)\n",
        "n_total_steps = len(train_loader)\n",
        "for epoch in range(num_epochs):\n",
        "    for i, (images, labels) in enumerate(train_loader):\n",
        "        images = images.reshape(-1, 28*28).to(device)\n",
        "        labels = labels.to(device)\n",
        "        \n",
        "        # Forward pass\n",
        "        outputs = model(images)\n",
        "        loss = criterion(outputs, labels)\n",
        "        \n",
        "        # Backward and optimize\n",
        "        optimizer.zero_grad()\n",
        "        loss.backward()\n",
        "        optimizer.step()\n",
        "        \n",
        "        if (i+1) % 100 == 0:\n",
        "            print (f'Epoch [{epoch+1}/{num_epochs}], Step [{i+1}/{n_total_steps}], Loss: {loss.item():.4f}')\n",
        "### END CODE HERE ### \n",
        "\n",
        "end = time.time()"
      ],
      "execution_count": null,
      "outputs": [
        {
          "output_type": "stream",
          "text": [
            "Epoch [1/2], Step [100/600], Loss: 2.2871\n",
            "Epoch [1/2], Step [200/600], Loss: 2.2589\n",
            "Epoch [1/2], Step [300/600], Loss: 2.2573\n",
            "Epoch [1/2], Step [400/600], Loss: 2.2217\n",
            "Epoch [1/2], Step [500/600], Loss: 2.1943\n",
            "Epoch [1/2], Step [600/600], Loss: 2.1786\n",
            "Epoch [2/2], Step [100/600], Loss: 2.1693\n",
            "Epoch [2/2], Step [200/600], Loss: 2.1516\n",
            "Epoch [2/2], Step [300/600], Loss: 2.1197\n",
            "Epoch [2/2], Step [400/600], Loss: 2.0858\n",
            "Epoch [2/2], Step [500/600], Loss: 2.0703\n",
            "Epoch [2/2], Step [600/600], Loss: 2.0471\n"
          ],
          "name": "stdout"
        }
      ]
    },
    {
      "cell_type": "code",
      "metadata": {
        "id": "6M2t9uLXTicx",
        "colab_type": "code",
        "colab": {
          "base_uri": "https://localhost:8080/",
          "height": 34
        },
        "outputId": "3fbf8587-8fd1-4f0d-fd42-2e4bfca6f4f5"
      },
      "source": [
        "print(f\"Training took {end-start} seconds.\")"
      ],
      "execution_count": null,
      "outputs": [
        {
          "output_type": "stream",
          "text": [
            "Training took 14.020952701568604 seconds.\n"
          ],
          "name": "stdout"
        }
      ]
    },
    {
      "cell_type": "markdown",
      "metadata": {
        "id": "xgLL8cXKNR4y",
        "colab_type": "text"
      },
      "source": [
        "✍️ Test your model on the test data. \n",
        "\n",
        "Make sure you don't waste time computing things you don't need! \n",
        "\n",
        "What is your accuracy?"
      ]
    },
    {
      "cell_type": "code",
      "metadata": {
        "id": "OnpRDSeDz4Qw",
        "colab_type": "code",
        "colab": {
          "base_uri": "https://localhost:8080/",
          "height": 34
        },
        "outputId": "5f59373e-f40b-4b5c-ad65-22181b45d175"
      },
      "source": [
        "### START CODE HERE ### (~10 lines of code)\n",
        "with torch.no_grad():\n",
        "    n_correct, n_samples = 0, 0\n",
        "    for images, labels in test_loader:\n",
        "\n",
        "        images = images.reshape(-1, 28*28).to(device)\n",
        "        labels = labels.to(device)\n",
        "        outputs = model(images)\n",
        "      \n",
        "        _, predicted = torch.max(outputs.data, 1)\n",
        "        n_samples += labels.size(0)\n",
        "        n_correct += (predicted == labels).sum().item()\n",
        "\n",
        "    acc = 100.0 * n_correct / n_samples\n",
        "    print(f'Accuracy of the network on the test images: {acc} %')\n",
        "### END CODE HERE ### "
      ],
      "execution_count": null,
      "outputs": [
        {
          "output_type": "stream",
          "text": [
            "Accuracy of the network on the test images: 67.44 %\n"
          ],
          "name": "stdout"
        }
      ]
    },
    {
      "cell_type": "markdown",
      "metadata": {
        "id": "6sNoppkeNoz_",
        "colab_type": "text"
      },
      "source": [
        "Our accuracy is much better than a random guess, however, we want to improve it!\n",
        "\n",
        "In order to improve our model preformence we should check whether our model overfits the data or try different hyper-parmeters.\n",
        "\n",
        "In order to check if our model overfits the data we can plot the loss of the training and the validation as function of the epoch number.\n",
        "We will not get into it now, but you will do it in your next exercices!\n",
        "\n",
        "So, now we will try different hyper-parameters in order to achieve better preformance.\n",
        "However, training took too much time! We must use our resources wisely!\n",
        "In the next chapter we will learn how to use the gpu!"
      ]
    },
    {
      "cell_type": "markdown",
      "metadata": {
        "id": "Ql8lYhQbP4L6",
        "colab_type": "text"
      },
      "source": [
        "## Using the GPU"
      ]
    },
    {
      "cell_type": "markdown",
      "metadata": {
        "id": "tNM-yUGYZMzI",
        "colab_type": "text"
      },
      "source": [
        "By default all tensors are created on the CPU,\n",
        "but you can also move them to the GPU (if it's available)."
      ]
    },
    {
      "cell_type": "code",
      "metadata": {
        "id": "4mxvlKWFP4aW",
        "colab_type": "code",
        "colab": {
          "base_uri": "https://localhost:8080/",
          "height": 34
        },
        "outputId": "d3edb219-76bd-4d3b-9e16-fc2fcf0c1903"
      },
      "source": [
        "device = torch.device('cuda' if torch.cuda.is_available() else 'cpu')\n",
        "print(device)"
      ],
      "execution_count": null,
      "outputs": [
        {
          "output_type": "stream",
          "text": [
            "cuda\n"
          ],
          "name": "stdout"
        }
      ]
    },
    {
      "cell_type": "markdown",
      "metadata": {
        "id": "NzXMzvSbapzb",
        "colab_type": "text"
      },
      "source": [
        "You can directly create a tensor on GPU:"
      ]
    },
    {
      "cell_type": "code",
      "metadata": {
        "id": "35NiTndkZ95P",
        "colab_type": "code",
        "colab": {
          "base_uri": "https://localhost:8080/",
          "height": 204
        },
        "outputId": "5e54a6c8-cb9c-437b-c765-04d6d4902895"
      },
      "source": [
        "x = torch.rand(5,3) \n",
        "print(x, \"\\n\")\n",
        "y = torch.ones_like(x, device=device)\n",
        "print(y)"
      ],
      "execution_count": null,
      "outputs": [
        {
          "output_type": "stream",
          "text": [
            "tensor([[0.6313, 0.4472, 0.1248],\n",
            "        [0.0708, 0.9416, 0.5002],\n",
            "        [0.0851, 0.3349, 0.7646],\n",
            "        [0.0610, 0.6704, 0.3565],\n",
            "        [0.3718, 0.3864, 0.4334]]) \n",
            "\n",
            "tensor([[1., 1., 1.],\n",
            "        [1., 1., 1.],\n",
            "        [1., 1., 1.],\n",
            "        [1., 1., 1.],\n",
            "        [1., 1., 1.]], device='cuda:0')\n"
          ],
          "name": "stdout"
        }
      ]
    },
    {
      "cell_type": "markdown",
      "metadata": {
        "id": "Qno4hdqla014",
        "colab_type": "text"
      },
      "source": [
        "Or you can just move it to the GPU. \n",
        "\n",
        "Additional option to indicate device is to use strings ``.to(\"cuda\")``"
      ]
    },
    {
      "cell_type": "code",
      "metadata": {
        "id": "bpVBH4s9Z-CO",
        "colab_type": "code",
        "colab": {
          "base_uri": "https://localhost:8080/",
          "height": 102
        },
        "outputId": "9fe2d373-5ecb-4ddc-f646-3dfdc0b871b9"
      },
      "source": [
        "x = x.to(device)\n",
        "print(x)                      "
      ],
      "execution_count": null,
      "outputs": [
        {
          "output_type": "stream",
          "text": [
            "tensor([[0.6313, 0.4472, 0.1248],\n",
            "        [0.0708, 0.9416, 0.5002],\n",
            "        [0.0851, 0.3349, 0.7646],\n",
            "        [0.0610, 0.6704, 0.3565],\n",
            "        [0.3718, 0.3864, 0.4334]], device='cuda:0')\n"
          ],
          "name": "stdout"
        }
      ]
    },
    {
      "cell_type": "markdown",
      "metadata": {
        "id": "-JVsJlffbO2g",
        "colab_type": "text"
      },
      "source": [
        "It's not possible to convert tensor which is on the GPU to a numpy array because numpy cannot handle GPU tenors."
      ]
    },
    {
      "cell_type": "code",
      "metadata": {
        "id": "3UHHQDBkbDwX",
        "colab_type": "code",
        "colab": {
          "base_uri": "https://localhost:8080/",
          "height": 292
        },
        "outputId": "cd6ee01f-29d6-4453-f1e7-f72300d0a404"
      },
      "source": [
        "z = x + y\n",
        "print(z)\n",
        "z = z.numpy() "
      ],
      "execution_count": null,
      "outputs": [
        {
          "output_type": "stream",
          "text": [
            "tensor([[1.6695, 1.8345, 1.0992],\n",
            "        [1.8004, 1.1962, 1.5636],\n",
            "        [1.6748, 1.2561, 1.2609],\n",
            "        [1.0433, 1.3035, 1.5907],\n",
            "        [1.7153, 1.7089, 1.5687]], device='cuda:0')\n"
          ],
          "name": "stdout"
        },
        {
          "output_type": "error",
          "ename": "TypeError",
          "evalue": "ignored",
          "traceback": [
            "\u001b[0;31m---------------------------------------------------------------------------\u001b[0m",
            "\u001b[0;31mTypeError\u001b[0m                                 Traceback (most recent call last)",
            "\u001b[0;32m<ipython-input-108-5ced6703f81b>\u001b[0m in \u001b[0;36m<module>\u001b[0;34m()\u001b[0m\n\u001b[1;32m      1\u001b[0m \u001b[0mz\u001b[0m \u001b[0;34m=\u001b[0m \u001b[0mx\u001b[0m \u001b[0;34m+\u001b[0m \u001b[0my\u001b[0m\u001b[0;34m\u001b[0m\u001b[0;34m\u001b[0m\u001b[0m\n\u001b[1;32m      2\u001b[0m \u001b[0mprint\u001b[0m\u001b[0;34m(\u001b[0m\u001b[0mz\u001b[0m\u001b[0;34m)\u001b[0m\u001b[0;34m\u001b[0m\u001b[0;34m\u001b[0m\u001b[0m\n\u001b[0;32m----> 3\u001b[0;31m \u001b[0mz\u001b[0m \u001b[0;34m=\u001b[0m \u001b[0mz\u001b[0m\u001b[0;34m.\u001b[0m\u001b[0mnumpy\u001b[0m\u001b[0;34m(\u001b[0m\u001b[0;34m)\u001b[0m\u001b[0;34m\u001b[0m\u001b[0;34m\u001b[0m\u001b[0m\n\u001b[0m",
            "\u001b[0;31mTypeError\u001b[0m: can't convert cuda:0 device type tensor to numpy. Use Tensor.cpu() to copy the tensor to host memory first."
          ]
        }
      ]
    },
    {
      "cell_type": "markdown",
      "metadata": {
        "id": "M89kdQ1vcTzl",
        "colab_type": "text"
      },
      "source": [
        "You have to move the tensor to the CPU and then convert it to a numpy array.\n"
      ]
    },
    {
      "cell_type": "code",
      "metadata": {
        "id": "mURj8_DcbL9Z",
        "colab_type": "code",
        "colab": {
          "base_uri": "https://localhost:8080/",
          "height": 105
        },
        "outputId": "8b37e8c5-8c7e-4be7-d1a2-64f2dd0e717f"
      },
      "source": [
        "z = z.to(\"cpu\")       \n",
        "z = z.numpy()\n",
        "print(z)"
      ],
      "execution_count": null,
      "outputs": [
        {
          "output_type": "stream",
          "text": [
            "[[1.6695204 1.8344823 1.099164 ]\n",
            " [1.8003998 1.1962361 1.5636164]\n",
            " [1.6748052 1.2561101 1.2609254]\n",
            " [1.0432749 1.303493  1.590729 ]\n",
            " [1.7152858 1.7089095 1.5686543]]\n"
          ],
          "name": "stdout"
        }
      ]
    },
    {
      "cell_type": "markdown",
      "metadata": {
        "id": "tl_9etX3nR9K",
        "colab_type": "text"
      },
      "source": [
        "Now, after you have learnt how to run tensors on the GPU let's try it!\n",
        "\n",
        "✍️ Try to run your model from the previous chapter on the GPU.\n",
        "In order to make it you have to move any inputs/tensors and your model to the GPU.\n",
        "\n",
        "Did your time performance got better?"
      ]
    },
    {
      "cell_type": "markdown",
      "metadata": {
        "id": "ZEKIgsEAvST-",
        "colab_type": "text"
      },
      "source": [
        "\n",
        "\n",
        "\n",
        "\n",
        "Probably, your answer is no.\n",
        "\n",
        "This can happen when the cost of transferring data between RAM and GPU memory is more than the speedup of parallel computation on the GPU.\n",
        "\n",
        "It can happen when your model is quite small, or in case when you have too many transfers of data in your forward() function.\n",
        "\n",
        "If you still want to see improvment in the time preformance, increase the number of epochs and use only 1 batch (batch = all your dataset) "
      ]
    },
    {
      "cell_type": "markdown",
      "metadata": {
        "id": "1sE06VviAKiR",
        "colab_type": "text"
      },
      "source": [
        "## RNNs"
      ]
    },
    {
      "cell_type": "code",
      "metadata": {
        "id": "OQljClGBJjZj",
        "colab_type": "code",
        "colab": {}
      },
      "source": [
        ""
      ],
      "execution_count": null,
      "outputs": []
    }
  ]
}